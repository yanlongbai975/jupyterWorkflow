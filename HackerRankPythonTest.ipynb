{
 "cells": [
  {
   "cell_type": "markdown",
   "id": "e0f96bdd",
   "metadata": {},
   "source": [
    "Q: Given the names and grades for each student in a class of  students, store them in a nested list and print the name(s) of any student(s) having the second lowest grade."
   ]
  },
  {
   "cell_type": "code",
   "execution_count": null,
   "id": "b0cd23e2",
   "metadata": {},
   "outputs": [],
   "source": [
    "marksheet = []\n",
    "for _ in range(0, int(input())):\n",
    "    marksheet.append([input(), float(input())])\n",
    "second_highest = sorted(list(set([marks for name, marks in marksheet])))[1]\n",
    "second_highest\n",
    "#RMK: set() here is used for dedumplication, so we won't be bothered by repeat values. list() is used to apply \n",
    "#sorting and give a order for these values.\n",
    "print('\\n'.join([a for a,b in sorted(marksheet) if b == second_highest]))"
   ]
  },
  {
   "cell_type": "markdown",
   "id": "33a5116f",
   "metadata": {},
   "source": [
    "Q: print the decimal with two digits"
   ]
  },
  {
   "cell_type": "code",
   "execution_count": 1,
   "id": "a8b552c8",
   "metadata": {},
   "outputs": [
    {
     "name": "stdout",
     "output_type": "stream",
     "text": [
      "22.00\n"
     ]
    }
   ],
   "source": [
    "num = 22\n",
    "print('{:.2f}'.format(22))"
   ]
  },
  {
   "cell_type": "markdown",
   "id": "ec910dd9",
   "metadata": {},
   "source": [
    "Q: Print all integer less than or equal to the given number with four formats (decimal, octal, hexadecimal, binary)"
   ]
  },
  {
   "cell_type": "code",
   "execution_count": 13,
   "id": "8cce2934",
   "metadata": {},
   "outputs": [],
   "source": [
    "def print_formatted(number):\n",
    "    # your code goes here\n",
    "     width = len('{:b}'.format(number))+1\n",
    "     for i in range(number):\n",
    "        j = i+1\n",
    "        a = \"{0:{width}d}\".format(j, width = width-1)\n",
    "        b = \"{0:{width}o}\".format(j, width = width)\n",
    "        c = \"{0:{width}X}\".format(j, width = width)\n",
    "        d = \"{0:{width}b}\".format(j, width = width)\n",
    "        print(f'{a}{b}{c}{d}')\n",
    "# RMK: for each a,b,c,d, we have to use double-quote sign \"\" instead of single-quote sign '', i.e. \"{0:{width}d}\"\n",
    "# is acceptable but '{0:{width}d}' does not work."
   ]
  },
  {
   "cell_type": "markdown",
   "id": "d43d40ce",
   "metadata": {},
   "source": [
    "Q: Swap the input string from lower case to upper case"
   ]
  },
  {
   "cell_type": "code",
   "execution_count": 8,
   "id": "5d1aac84",
   "metadata": {},
   "outputs": [],
   "source": [
    "def swap_case(s):\n",
    "    ls = list(s)\n",
    "    for i in range(len(ls)):\n",
    "        if ls[i].islower():\n",
    "            ls[i] = str.upper(ls[i])\n",
    "            continue\n",
    "        elif ls[i].isupper():\n",
    "            ls[i] = str.lower(ls[i])\n",
    "            continue\n",
    "        else:\n",
    "            continue\n",
    "    result = ''.join(ls)\n",
    "    return result"
   ]
  },
  {
   "cell_type": "markdown",
   "id": "61f243cc",
   "metadata": {},
   "source": [
    "Or"
   ]
  },
  {
   "cell_type": "code",
   "execution_count": null,
   "id": "8fe14b41",
   "metadata": {},
   "outputs": [],
   "source": [
    "str.swapcase()"
   ]
  },
  {
   "cell_type": "markdown",
   "id": "c67a2bbe",
   "metadata": {},
   "source": [
    "Q: Split the input string with specified delimiter, and then concatenate them together with a new delimiter."
   ]
  },
  {
   "cell_type": "code",
   "execution_count": 10,
   "id": "e046cb5b",
   "metadata": {},
   "outputs": [],
   "source": [
    "def split_and_join(line):\n",
    "    # write your code here\n",
    "    ls = line.split(' ')\n",
    "    result = '-'.join(ls)\n",
    "    return result"
   ]
  },
  {
   "cell_type": "markdown",
   "id": "e483e3c6",
   "metadata": {},
   "source": [
    "Q: Print a string with input string and some attached words."
   ]
  },
  {
   "cell_type": "code",
   "execution_count": null,
   "id": "41a54179",
   "metadata": {},
   "outputs": [],
   "source": [
    "def print_full_name(first, last):\n",
    "    # Write your code here\n",
    "    print(f'Hello {first} {last}! You just delved into python.')"
   ]
  },
  {
   "cell_type": "markdown",
   "id": "4bb214ae",
   "metadata": {},
   "source": [
    "Q: Replace the character of exact position in a given string."
   ]
  },
  {
   "cell_type": "code",
   "execution_count": 11,
   "id": "90a680d4",
   "metadata": {},
   "outputs": [],
   "source": [
    "def mutate_string(string, position, character):\n",
    "    ls = list(string)\n",
    "    ls[position] = character\n",
    "    result = ''.join(ls)\n",
    "    return result"
   ]
  },
  {
   "cell_type": "markdown",
   "id": "672f8729",
   "metadata": {},
   "source": [
    "Q: Replace some characters of a string without specified position."
   ]
  },
  {
   "cell_type": "markdown",
   "id": "44d37bd3",
   "metadata": {},
   "source": [
    "A: Use the str.replace()"
   ]
  },
  {
   "cell_type": "markdown",
   "id": "61f93348",
   "metadata": {},
   "source": [
    "Q: Print a double arrow."
   ]
  },
  {
   "cell_type": "code",
   "execution_count": 12,
   "id": "d7ea44a7",
   "metadata": {
    "scrolled": true
   },
   "outputs": [
    {
     "name": "stdout",
     "output_type": "stream",
     "text": [
      "5\n",
      "    H    \n",
      "   HHH   \n",
      "  HHHHH  \n",
      " HHHHHHH \n",
      "HHHHHHHHH\n",
      "  HHHHH               HHHHH             \n",
      "  HHHHH               HHHHH             \n",
      "  HHHHH               HHHHH             \n",
      "  HHHHH               HHHHH             \n",
      "  HHHHH               HHHHH             \n",
      "  HHHHH               HHHHH             \n",
      "  HHHHHHHHHHHHHHHHHHHHHHHHH   \n",
      "  HHHHHHHHHHHHHHHHHHHHHHHHH   \n",
      "  HHHHHHHHHHHHHHHHHHHHHHHHH   \n",
      "  HHHHH               HHHHH             \n",
      "  HHHHH               HHHHH             \n",
      "  HHHHH               HHHHH             \n",
      "  HHHHH               HHHHH             \n",
      "  HHHHH               HHHHH             \n",
      "  HHHHH               HHHHH             \n",
      "                    HHHHHHHHH \n",
      "                     HHHHHHH  \n",
      "                      HHHHH   \n",
      "                       HHH    \n",
      "                        H     \n"
     ]
    }
   ],
   "source": [
    "#Replace all ______ with rjust, ljust or center. \n",
    "\n",
    "thickness = int(input()) #This must be an odd number\n",
    "c = 'H'\n",
    "\n",
    "#ljust, center, rjust   \n",
    "\n",
    "#Top Cone\n",
    "for i in range(thickness):\n",
    "    print((c*i).rjust(thickness-1)+c+(c*i).ljust(thickness-1))\n",
    " \n",
    "    \n",
    "#Top Pillars\n",
    "for i in range(thickness+1):\n",
    "    print((c*thickness).center(thickness*2)+(c*thickness).center(thickness*6))\n",
    "\n",
    "#Middle Belt\n",
    "for i in range((thickness+1)//2):\n",
    "    print((c*thickness*5).center(thickness*6))    \n",
    "\n",
    "#Bottom Pillars\n",
    "for i in range(thickness+1):\n",
    "    print((c*thickness).center(thickness*2)+(c*thickness).center(thickness*6))    \n",
    "\n",
    "#Bottom Cone\n",
    "for i in range(thickness):\n",
    "    print(((c*(thickness-i-1)).rjust(thickness)+c+(c*(thickness-i-1)).ljust(thickness)).rjust(thickness*6))"
   ]
  },
  {
   "cell_type": "markdown",
   "id": "a500cd55",
   "metadata": {},
   "source": [
    "Q: Wrap the given long string into some small pieces with given width."
   ]
  },
  {
   "cell_type": "code",
   "execution_count": null,
   "id": "f6e670d4",
   "metadata": {},
   "outputs": [],
   "source": [
    "import textwrap\n",
    "\n",
    "def wrap(string, max_width):\n",
    "    ls = textwrap.wrap(string, width = max_width)\n",
    "    rs = '\\n'.join(ls)\n",
    "    return rs"
   ]
  },
  {
   "cell_type": "markdown",
   "id": "bd094972",
   "metadata": {},
   "source": [
    "Q: Change the first character of input full name to the uppercase. RMK: there may be multiple spaces between each word. For eg: input maybe 'tim white', 'Tim     white', '12tim  w2hite   sofia'. And if the first char is a number instead of a letter, then just keep it unchanged."
   ]
  },
  {
   "cell_type": "code",
   "execution_count": 1,
   "id": "5b4a5b14",
   "metadata": {},
   "outputs": [],
   "source": [
    "def solve(s):\n",
    "    ls = list(s)\n",
    "    for i in range(len(ls)):\n",
    "        if(i == 0):\n",
    "            if(ls[i].isalpha()):\n",
    "                ls[i] = ls[i].upper()\n",
    "            continue\n",
    "        elif(ls[i] == ' '):\n",
    "            if(ls[i+1] != ' ' and ls[i+1].isalpha()):\n",
    "                ls[i+1] = ls[i+1].upper()\n",
    "            continue\n",
    "        else:\n",
    "            continue\n",
    "            \n",
    "    res = ''.join(ls)\n",
    "    return res"
   ]
  },
  {
   "cell_type": "markdown",
   "id": "4fac02dc",
   "metadata": {},
   "source": [
    "Q: Set commands"
   ]
  },
  {
   "cell_type": "code",
   "execution_count": null,
   "id": "f8ba893b",
   "metadata": {},
   "outputs": [],
   "source": [
    ".pop()\n",
    ".discard()\n",
    ".remove()\n",
    ".add()\n",
    ".union()\n",
    ".intersection()\n",
    ".intersection_update()\n",
    ".difference()\n",
    ".difference_update()\n",
    ".symmetric_difference()\n",
    ".symmetric_difference_update()\n",
    ".update()"
   ]
  },
  {
   "cell_type": "markdown",
   "id": "06edf955",
   "metadata": {},
   "source": [
    "Q: Complex numbers"
   ]
  },
  {
   "cell_type": "code",
   "execution_count": 34,
   "id": "33aa341e",
   "metadata": {},
   "outputs": [],
   "source": [
    "import cmath\n",
    "import math"
   ]
  },
  {
   "cell_type": "code",
   "execution_count": 40,
   "id": "da632342",
   "metadata": {},
   "outputs": [
    {
     "data": {
      "text/plain": [
       "(1-1j)"
      ]
     },
     "execution_count": 40,
     "metadata": {},
     "output_type": "execute_result"
    }
   ],
   "source": [
    "complex(1,-1)"
   ]
  },
  {
   "cell_type": "code",
   "execution_count": 41,
   "id": "f5b25f6d",
   "metadata": {},
   "outputs": [
    {
     "data": {
      "text/plain": [
       "(1.4142135623730951, -0.7853981633974483)"
      ]
     },
     "execution_count": 41,
     "metadata": {},
     "output_type": "execute_result"
    }
   ],
   "source": [
    "cmath.polar(complex(1,-1))"
   ]
  },
  {
   "cell_type": "code",
   "execution_count": 36,
   "id": "f7b50b86",
   "metadata": {
    "scrolled": false
   },
   "outputs": [
    {
     "data": {
      "text/plain": [
       "3.141592653589793"
      ]
     },
     "execution_count": 36,
     "metadata": {},
     "output_type": "execute_result"
    }
   ],
   "source": [
    "math.pi"
   ]
  },
  {
   "cell_type": "code",
   "execution_count": 37,
   "id": "47e9a2e9",
   "metadata": {
    "scrolled": true
   },
   "outputs": [
    {
     "data": {
      "text/plain": [
       "0.5000000000000001"
      ]
     },
     "execution_count": 37,
     "metadata": {},
     "output_type": "execute_result"
    }
   ],
   "source": [
    "math.cos(math.pi/3)"
   ]
  },
  {
   "cell_type": "code",
   "execution_count": 44,
   "id": "0fc22080",
   "metadata": {},
   "outputs": [
    {
     "data": {
      "text/plain": [
       "60"
      ]
     },
     "execution_count": 44,
     "metadata": {},
     "output_type": "execute_result"
    }
   ],
   "source": [
    "math.ceil(math.degrees(math.acos(0.5)))"
   ]
  },
  {
   "cell_type": "markdown",
   "id": "2f9391c6",
   "metadata": {},
   "source": [
    "PS: The degree symbol is :"
   ]
  },
  {
   "cell_type": "code",
   "execution_count": 45,
   "id": "f5e88e95",
   "metadata": {},
   "outputs": [
    {
     "data": {
      "text/plain": [
       "'°'"
      ]
     },
     "execution_count": 45,
     "metadata": {},
     "output_type": "execute_result"
    }
   ],
   "source": [
    "chr(176)"
   ]
  },
  {
   "cell_type": "markdown",
   "id": "42dea9f2",
   "metadata": {},
   "source": [
    "Q: print the output like this for N = 5\n",
    "1\n",
    "121\n",
    "12321\n",
    "1234321\n",
    "123454321"
   ]
  },
  {
   "cell_type": "markdown",
   "id": "b5259dd2",
   "metadata": {},
   "source": [
    "Method 1: using string"
   ]
  },
  {
   "cell_type": "code",
   "execution_count": null,
   "id": "19711733",
   "metadata": {},
   "outputs": [],
   "source": [
    "for i in range(1,int(input())+1):\n",
    "    print (\"\".join(map(str, list(range(1, i+1))))+\"\".join(map(str, list(reversed(list(range(1, i)))))))"
   ]
  },
  {
   "cell_type": "markdown",
   "id": "e5de8806",
   "metadata": {},
   "source": [
    "Method 2: using Demlo numbers"
   ]
  },
  {
   "cell_type": "code",
   "execution_count": null,
   "id": "4f1d3520",
   "metadata": {},
   "outputs": [],
   "source": [
    "for i in range(1,int(input())+1):\n",
    "    print (int((10**i - 1)/9)**2)"
   ]
  },
  {
   "cell_type": "markdown",
   "id": "2a9b57f7",
   "metadata": {},
   "source": [
    "RMK: Demlo numbers:1, 11, 111, 1111, ..."
   ]
  },
  {
   "cell_type": "code",
   "execution_count": 2,
   "id": "33c73d8e",
   "metadata": {},
   "outputs": [
    {
     "name": "stdout",
     "output_type": "stream",
     "text": [
      "5\n",
      "1\n",
      "11\n",
      "111\n",
      "1111\n",
      "11111\n"
     ]
    }
   ],
   "source": [
    "for i in range(1,int(input())+1):\n",
    "    print (int((10**i - 1)/9))"
   ]
  },
  {
   "cell_type": "markdown",
   "id": "f8028310",
   "metadata": {},
   "source": [
    "Q: Permutation and combinations"
   ]
  },
  {
   "cell_type": "code",
   "execution_count": null,
   "id": "226be709",
   "metadata": {},
   "outputs": [],
   "source": [
    "import itertools\n",
    "itertools.permutations()\n",
    "itertools.combinations()\n",
    "itertools.combinations_with_replacement()\n",
    "itertools.groupby()"
   ]
  },
  {
   "cell_type": "code",
   "execution_count": null,
   "id": "39ab818d",
   "metadata": {},
   "outputs": [],
   "source": [
    "# Enter your code here. Read input from STDIN. Print output to STDOUT\n",
    "ls = []\n",
    "s = list(map(int, list(input())))\n",
    "import itertools\n",
    "for i,j in itertools.groupby(s):\n",
    "    ls.append((len(list(j)), i))\n",
    "print(\" \".join(list(map(str, ls))))"
   ]
  },
  {
   "cell_type": "markdown",
   "id": "82a9a52d",
   "metadata": {},
   "source": [
    "Q: Input K series of lists, select one element from each list, add them together and find the largest modulus of given M."
   ]
  },
  {
   "cell_type": "code",
   "execution_count": null,
   "id": "1a82d5b7",
   "metadata": {},
   "outputs": [],
   "source": [
    "K, M = list(map(int, input().split(\" \")))\n",
    "ls = []\n",
    "for i in range(K):\n",
    "    l = list(map(int, input().split(\" \")))\n",
    "    s = set()\n",
    "    for j in l[1:]:\n",
    "        s.add((j**2)%M)\n",
    "    ls.append(s)\n",
    "\n",
    "\n",
    "def itersum(layer, ls, resls, sum):\n",
    "    for i in ls[layer]:\n",
    "        if(layer < len(ls)-1):\n",
    "            itersum(layer+1, ls, resls, (sum+i))\n",
    "        else:\n",
    "            resls.add(sum+i)\n",
    "            \n",
    "\n",
    "resset = set()\n",
    "itersum(0, ls, resset, 0)\n",
    "resls = list(resset)\n",
    "resls = [i%M for i in resls]\n",
    "resls.sort(reverse = True)\n",
    "print(resls[0])"
   ]
  },
  {
   "cell_type": "markdown",
   "id": "d97e66c6",
   "metadata": {},
   "source": [
    "Q: Covert a list to a dictionary"
   ]
  },
  {
   "cell_type": "code",
   "execution_count": null,
   "id": "7555a5d5",
   "metadata": {},
   "outputs": [],
   "source": [
    "collections.Counter()"
   ]
  },
  {
   "cell_type": "markdown",
   "id": "5ecfb9a1",
   "metadata": {},
   "source": [
    "Q: Walk through the whole list and save them into a dictionary"
   ]
  },
  {
   "cell_type": "code",
   "execution_count": null,
   "id": "09301115",
   "metadata": {},
   "outputs": [],
   "source": [
    "collections.defaultdict()"
   ]
  },
  {
   "cell_type": "markdown",
   "id": "1a055738",
   "metadata": {},
   "source": [
    "Q:An OrderedDict is a dictionary that remembers the order of the keys that were inserted first. If a new entry overwrites an existing entry, the original insertion position is left unchanged."
   ]
  },
  {
   "cell_type": "code",
   "execution_count": null,
   "id": "98533407",
   "metadata": {},
   "outputs": [],
   "source": [
    "ls = []\n",
    "import collections\n",
    "ordered_dic = collections.OrderedDict()\n",
    "N = int(input())\n",
    "for i in range(N):\n",
    "    line = input().split(\" \")\n",
    "    price = int(line[len(line)-1])\n",
    "    item = \" \".join(line[0:len(line)-1])\n",
    "    ordered_dic[item] = ordered_dic.get(item, 0) + price\n",
    "    \n",
    "for i, j in ordered_dic.items():\n",
    "    print(\" \".join([i, str(j)]))"
   ]
  },
  {
   "cell_type": "markdown",
   "id": "30e68cb3",
   "metadata": {},
   "source": [
    "Q: Double-ended quene, you can add or remove the elements in this quene from both ends."
   ]
  },
  {
   "cell_type": "code",
   "execution_count": null,
   "id": "41b261a5",
   "metadata": {},
   "outputs": [],
   "source": [
    "import collections\n",
    "collections.deque()"
   ]
  },
  {
   "cell_type": "markdown",
   "id": "2a1fdd65",
   "metadata": {},
   "source": [
    "Q: Sort a high-dimensional list with given columns"
   ]
  },
  {
   "cell_type": "code",
   "execution_count": 2,
   "id": "cdf577d5",
   "metadata": {},
   "outputs": [
    {
     "name": "stdout",
     "output_type": "stream",
     "text": [
      "Help on built-in function sorted in module builtins:\n",
      "\n",
      "sorted(iterable, /, *, key=None, reverse=False)\n",
      "    Return a new list containing all items from the iterable in ascending order.\n",
      "    \n",
      "    A custom key function can be supplied to customize the sort order, and the\n",
      "    reverse flag can be set to request the result in descending order.\n",
      "\n"
     ]
    }
   ],
   "source": [
    "help(sorted)"
   ]
  },
  {
   "cell_type": "code",
   "execution_count": null,
   "id": "e975d7a6",
   "metadata": {},
   "outputs": [],
   "source": [
    "ls = list([1,2,3], [2,1,1])\n",
    "ls.sort(key = lambda x: x[1], reverse = False)#sort ls by second column in ascending order.\n",
    "ls.sort(key = lambda x: (x[1], x[2]), reverse = True)#sort ls by second column and third column in descending order\n",
    "ls.sort(key = lambda x: (-x[1], x[2])) #sort ls by second column in descending order and third column in ascending\n",
    "#order."
   ]
  },
  {
   "cell_type": "markdown",
   "id": "5bb078bd",
   "metadata": {},
   "source": [
    "Q: Date and time"
   ]
  },
  {
   "cell_type": "code",
   "execution_count": 4,
   "id": "41f8eb7f",
   "metadata": {},
   "outputs": [
    {
     "name": "stdout",
     "output_type": "stream",
     "text": [
      "Help on class TextCalendar in module calendar:\n",
      "\n",
      "class TextCalendar(Calendar)\n",
      " |  TextCalendar(firstweekday=0)\n",
      " |  \n",
      " |  Subclass of Calendar that outputs a calendar as a simple plain text\n",
      " |  similar to the UNIX program cal.\n",
      " |  \n",
      " |  Method resolution order:\n",
      " |      TextCalendar\n",
      " |      Calendar\n",
      " |      builtins.object\n",
      " |  \n",
      " |  Methods defined here:\n",
      " |  \n",
      " |  formatday(self, day, weekday, width)\n",
      " |      Returns a formatted day.\n",
      " |  \n",
      " |  formatmonth(self, theyear, themonth, w=0, l=0)\n",
      " |      Return a month's calendar string (multi-line).\n",
      " |  \n",
      " |  formatmonthname(self, theyear, themonth, width, withyear=True)\n",
      " |      Return a formatted month name.\n",
      " |  \n",
      " |  formatweek(self, theweek, width)\n",
      " |      Returns a single week in a string (no newline).\n",
      " |  \n",
      " |  formatweekday(self, day, width)\n",
      " |      Returns a formatted week day name.\n",
      " |  \n",
      " |  formatweekheader(self, width)\n",
      " |      Return a header for a week.\n",
      " |  \n",
      " |  formatyear(self, theyear, w=2, l=1, c=6, m=3)\n",
      " |      Returns a year's calendar as a multi-line string.\n",
      " |  \n",
      " |  prmonth(self, theyear, themonth, w=0, l=0)\n",
      " |      Print a month's calendar.\n",
      " |  \n",
      " |  prweek(self, theweek, width)\n",
      " |      Print a single week (no newline).\n",
      " |  \n",
      " |  pryear(self, theyear, w=0, l=0, c=6, m=3)\n",
      " |      Print a year's calendar.\n",
      " |  \n",
      " |  ----------------------------------------------------------------------\n",
      " |  Methods inherited from Calendar:\n",
      " |  \n",
      " |  __init__(self, firstweekday=0)\n",
      " |      Initialize self.  See help(type(self)) for accurate signature.\n",
      " |  \n",
      " |  getfirstweekday(self)\n",
      " |  \n",
      " |  itermonthdates(self, year, month)\n",
      " |      Return an iterator for one month. The iterator will yield datetime.date\n",
      " |      values and will always iterate through complete weeks, so it will yield\n",
      " |      dates outside the specified month.\n",
      " |  \n",
      " |  itermonthdays(self, year, month)\n",
      " |      Like itermonthdates(), but will yield day numbers. For days outside\n",
      " |      the specified month the day number is 0.\n",
      " |  \n",
      " |  itermonthdays2(self, year, month)\n",
      " |      Like itermonthdates(), but will yield (day number, weekday number)\n",
      " |      tuples. For days outside the specified month the day number is 0.\n",
      " |  \n",
      " |  itermonthdays3(self, year, month)\n",
      " |      Like itermonthdates(), but will yield (year, month, day) tuples.  Can be\n",
      " |      used for dates outside of datetime.date range.\n",
      " |  \n",
      " |  itermonthdays4(self, year, month)\n",
      " |      Like itermonthdates(), but will yield (year, month, day, day_of_week) tuples.\n",
      " |      Can be used for dates outside of datetime.date range.\n",
      " |  \n",
      " |  iterweekdays(self)\n",
      " |      Return an iterator for one week of weekday numbers starting with the\n",
      " |      configured first one.\n",
      " |  \n",
      " |  monthdatescalendar(self, year, month)\n",
      " |      Return a matrix (list of lists) representing a month's calendar.\n",
      " |      Each row represents a week; week entries are datetime.date values.\n",
      " |  \n",
      " |  monthdays2calendar(self, year, month)\n",
      " |      Return a matrix representing a month's calendar.\n",
      " |      Each row represents a week; week entries are\n",
      " |      (day number, weekday number) tuples. Day numbers outside this month\n",
      " |      are zero.\n",
      " |  \n",
      " |  monthdayscalendar(self, year, month)\n",
      " |      Return a matrix representing a month's calendar.\n",
      " |      Each row represents a week; days outside this month are zero.\n",
      " |  \n",
      " |  setfirstweekday(self, firstweekday)\n",
      " |  \n",
      " |  yeardatescalendar(self, year, width=3)\n",
      " |      Return the data for the specified year ready for formatting. The return\n",
      " |      value is a list of month rows. Each month row contains up to width months.\n",
      " |      Each month contains between 4 and 6 weeks and each week contains 1-7\n",
      " |      days. Days are datetime.date objects.\n",
      " |  \n",
      " |  yeardays2calendar(self, year, width=3)\n",
      " |      Return the data for the specified year ready for formatting (similar to\n",
      " |      yeardatescalendar()). Entries in the week lists are\n",
      " |      (day number, weekday number) tuples. Day numbers outside this month are\n",
      " |      zero.\n",
      " |  \n",
      " |  yeardayscalendar(self, year, width=3)\n",
      " |      Return the data for the specified year ready for formatting (similar to\n",
      " |      yeardatescalendar()). Entries in the week lists are day numbers.\n",
      " |      Day numbers outside this month are zero.\n",
      " |  \n",
      " |  ----------------------------------------------------------------------\n",
      " |  Data descriptors inherited from Calendar:\n",
      " |  \n",
      " |  __dict__\n",
      " |      dictionary for instance variables (if defined)\n",
      " |  \n",
      " |  __weakref__\n",
      " |      list of weak references to the object (if defined)\n",
      " |  \n",
      " |  firstweekday\n",
      "\n"
     ]
    }
   ],
   "source": [
    "import calendar\n",
    "help(calendar.TextCalendar)"
   ]
  }
 ],
 "metadata": {
  "kernelspec": {
   "display_name": "Python 3.9.12 (tensorflow)",
   "language": "python",
   "name": "tensorflow"
  },
  "language_info": {
   "codemirror_mode": {
    "name": "ipython",
    "version": 3
   },
   "file_extension": ".py",
   "mimetype": "text/x-python",
   "name": "python",
   "nbconvert_exporter": "python",
   "pygments_lexer": "ipython3",
   "version": "3.9.12"
  }
 },
 "nbformat": 4,
 "nbformat_minor": 5
}
