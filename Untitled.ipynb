{
 "cells": [
  {
   "cell_type": "code",
   "execution_count": 1,
   "id": "90c31d28",
   "metadata": {},
   "outputs": [
    {
     "name": "stdout",
     "output_type": "stream",
     "text": [
      "Tensor Flow Version: 2.9.1\n",
      "Keras Version: 2.9.0\n",
      "\n",
      "Python 3.9.12 (main, Jun  1 2022, 06:36:29) \n",
      "[Clang 12.0.0 ]\n",
      "Pandas 1.4.2\n",
      "Scikit-Learn 1.0.2\n",
      "GPU is NOT AVAILABLE\n"
     ]
    }
   ],
   "source": [
    "# What version of Python do you have?\n",
    "import sys\n",
    "\n",
    "import tensorflow.keras\n",
    "import pandas as pd\n",
    "import sklearn as sk\n",
    "import tensorflow as tf\n",
    "\n",
    "print(f\"Tensor Flow Version: {tf.__version__}\")\n",
    "print(f\"Keras Version: {tensorflow.keras.__version__}\")\n",
    "print()\n",
    "print(f\"Python {sys.version}\")\n",
    "print(f\"Pandas {pd.__version__}\")\n",
    "print(f\"Scikit-Learn {sk.__version__}\")\n",
    "gpu = len(tf.config.list_physical_devices('GPU'))>0\n",
    "print(\"GPU is\", \"available\" if gpu else \"NOT AVAILABLE\")"
   ]
  },
  {
   "cell_type": "code",
   "execution_count": 2,
   "id": "1452ddb0",
   "metadata": {},
   "outputs": [
    {
     "name": "stdout",
     "output_type": "stream",
     "text": [
      "We are using Tensorflow version 2.9.1\n",
      "MKL enabled : False\n"
     ]
    }
   ],
   "source": [
    "import tensorflow as tf\n",
    "import os\n",
    "\n",
    "def get_mkl_enabled_flag():\n",
    "\n",
    "    mkl_enabled = False\n",
    "    major_version = int(tf.__version__.split(\".\")[0])\n",
    "    minor_version = int(tf.__version__.split(\".\")[1])\n",
    "    if major_version >= 2:\n",
    "        if minor_version < 5:\n",
    "            from tensorflow.python import _pywrap_util_port\n",
    "        else:\n",
    "            from tensorflow.python.util import _pywrap_util_port\n",
    "            onednn_enabled = int(os.environ.get('TF_ENABLE_ONEDNN_OPTS', '0'))\n",
    "        mkl_enabled = _pywrap_util_port.IsMklEnabled() or (onednn_enabled == 1)\n",
    "    else:\n",
    "        mkl_enabled = tf.pywrap_tensorflow.IsMklEnabled()\n",
    "    return mkl_enabled\n",
    "\n",
    "print (\"We are using Tensorflow version\", tf.__version__)\n",
    "print(\"MKL enabled :\", get_mkl_enabled_flag())"
   ]
  },
  {
   "cell_type": "code",
   "execution_count": 2,
   "id": "28c35782",
   "metadata": {},
   "outputs": [
    {
     "name": "stdout",
     "output_type": "stream",
     "text": [
      "False\n",
      "False\n"
     ]
    }
   ],
   "source": [
    "import tensorflow as tf\n",
    "print(tf.test.is_gpu_available())\n",
    "print(tf.test.is_built_with_cuda())"
   ]
  },
  {
   "cell_type": "code",
   "execution_count": 7,
   "id": "d2cc1496",
   "metadata": {},
   "outputs": [
    {
     "name": "stdout",
     "output_type": "stream",
     "text": [
      "Tensor Flow Version: 2.4.0\n",
      "Keras Version: 2.4.0\n",
      "\n",
      "Python 3.8.13 (default, Mar 28 2022, 06:16:26) \n",
      "[Clang 12.0.0 ]\n",
      "Pandas 1.4.2\n",
      "Scikit-Learn 1.0.2\n",
      "GPU is NOT AVAILABLE\n"
     ]
    }
   ],
   "source": [
    "# What version of Python do you have?\n",
    "import sys\n",
    "\n",
    "import tensorflow.keras\n",
    "import pandas as pd\n",
    "import sklearn as sk\n",
    "import tensorflow as tf\n",
    "\n",
    "print(f\"Tensor Flow Version: {tf.__version__}\")\n",
    "print(f\"Keras Version: {tensorflow.keras.__version__}\")\n",
    "print()\n",
    "print(f\"Python {sys.version}\")\n",
    "print(f\"Pandas {pd.__version__}\")\n",
    "print(f\"Scikit-Learn {sk.__version__}\")\n",
    "gpu = len(tf.config.list_physical_devices('GPU'))>0\n",
    "print(\"GPU is\", \"available\" if gpu else \"NOT AVAILABLE\")"
   ]
  },
  {
   "cell_type": "code",
   "execution_count": 8,
   "id": "a43bdbae",
   "metadata": {},
   "outputs": [
    {
     "name": "stdout",
     "output_type": "stream",
     "text": [
      "The Zen of Python, by Tim Peters\n",
      "\n",
      "Beautiful is better than ugly.\n",
      "Explicit is better than implicit.\n",
      "Simple is better than complex.\n",
      "Complex is better than complicated.\n",
      "Flat is better than nested.\n",
      "Sparse is better than dense.\n",
      "Readability counts.\n",
      "Special cases aren't special enough to break the rules.\n",
      "Although practicality beats purity.\n",
      "Errors should never pass silently.\n",
      "Unless explicitly silenced.\n",
      "In the face of ambiguity, refuse the temptation to guess.\n",
      "There should be one-- and preferably only one --obvious way to do it.\n",
      "Although that way may not be obvious at first unless you're Dutch.\n",
      "Now is better than never.\n",
      "Although never is often better than *right* now.\n",
      "If the implementation is hard to explain, it's a bad idea.\n",
      "If the implementation is easy to explain, it may be a good idea.\n",
      "Namespaces are one honking great idea -- let's do more of those!\n"
     ]
    }
   ],
   "source": [
    "import this"
   ]
  },
  {
   "cell_type": "code",
   "execution_count": 9,
   "id": "10c57878",
   "metadata": {},
   "outputs": [
    {
     "name": "stdout",
     "output_type": "stream",
     "text": [
      "hello world\n"
     ]
    }
   ],
   "source": [
    "print(\"hello world\")"
   ]
  },
  {
   "cell_type": "code",
   "execution_count": 10,
   "id": "8f9dbbab",
   "metadata": {},
   "outputs": [
    {
     "data": {
      "text/plain": [
       "5.6594827586206895"
      ]
     },
     "execution_count": 10,
     "metadata": {},
     "output_type": "execute_result"
    }
   ],
   "source": [
    "1313/232"
   ]
  },
  {
   "cell_type": "code",
   "execution_count": 11,
   "id": "a7870a28",
   "metadata": {},
   "outputs": [
    {
     "data": {
      "text/plain": [
       "3.3333333333333335"
      ]
     },
     "execution_count": 11,
     "metadata": {},
     "output_type": "execute_result"
    }
   ],
   "source": [
    "10/3"
   ]
  },
  {
   "cell_type": "code",
   "execution_count": 12,
   "id": "f069e651",
   "metadata": {},
   "outputs": [
    {
     "data": {
      "text/plain": [
       "0"
      ]
     },
     "execution_count": 12,
     "metadata": {},
     "output_type": "execute_result"
    }
   ],
   "source": [
    "3^3"
   ]
  },
  {
   "cell_type": "code",
   "execution_count": 13,
   "id": "bb05c9e3",
   "metadata": {},
   "outputs": [
    {
     "data": {
      "text/plain": [
       "27"
      ]
     },
     "execution_count": 13,
     "metadata": {},
     "output_type": "execute_result"
    }
   ],
   "source": [
    "3**3"
   ]
  },
  {
   "cell_type": "code",
   "execution_count": 14,
   "id": "0c5b4280",
   "metadata": {},
   "outputs": [
    {
     "data": {
      "text/plain": [
       "8"
      ]
     },
     "execution_count": 14,
     "metadata": {},
     "output_type": "execute_result"
    }
   ],
   "source": [
    "2**3"
   ]
  },
  {
   "cell_type": "code",
   "execution_count": 15,
   "id": "e7b03d92",
   "metadata": {},
   "outputs": [
    {
     "data": {
      "text/plain": [
       "6"
      ]
     },
     "execution_count": 15,
     "metadata": {},
     "output_type": "execute_result"
    }
   ],
   "source": [
    "2*3"
   ]
  },
  {
   "cell_type": "code",
   "execution_count": 16,
   "id": "cdc4df0c",
   "metadata": {},
   "outputs": [
    {
     "data": {
      "text/plain": [
       "1000"
      ]
     },
     "execution_count": 16,
     "metadata": {},
     "output_type": "execute_result"
    }
   ],
   "source": [
    "10**3"
   ]
  },
  {
   "cell_type": "code",
   "execution_count": 17,
   "id": "52da9dd6",
   "metadata": {},
   "outputs": [
    {
     "data": {
      "text/plain": [
       "90"
      ]
     },
     "execution_count": 17,
     "metadata": {},
     "output_type": "execute_result"
    }
   ],
   "source": [
    "10*3**2"
   ]
  },
  {
   "cell_type": "code",
   "execution_count": 25,
   "id": "0638478b",
   "metadata": {
    "scrolled": true
   },
   "outputs": [
    {
     "name": "stdout",
     "output_type": "stream",
     "text": [
      "guess a number:8\n",
      "Yes\n",
      "GG\n"
     ]
    }
   ],
   "source": [
    "\"First game.\"\n",
    "temp = input(\"guess a number:\")\n",
    "guess = int(temp)\n",
    "if guess == 8:\n",
    "    print(\"Yes\")\n",
    "else:\n",
    "    print(\"No\")\n",
    "print(\"GG\")"
   ]
  },
  {
   "cell_type": "code",
   "execution_count": 2,
   "id": "5a1b9a0b",
   "metadata": {
    "scrolled": false
   },
   "outputs": [
    {
     "data": {
      "text/plain": [
       "['ArithmeticError',\n",
       " 'AssertionError',\n",
       " 'AttributeError',\n",
       " 'BaseException',\n",
       " 'BlockingIOError',\n",
       " 'BrokenPipeError',\n",
       " 'BufferError',\n",
       " 'BytesWarning',\n",
       " 'ChildProcessError',\n",
       " 'ConnectionAbortedError',\n",
       " 'ConnectionError',\n",
       " 'ConnectionRefusedError',\n",
       " 'ConnectionResetError',\n",
       " 'DeprecationWarning',\n",
       " 'EOFError',\n",
       " 'Ellipsis',\n",
       " 'EnvironmentError',\n",
       " 'Exception',\n",
       " 'False',\n",
       " 'FileExistsError',\n",
       " 'FileNotFoundError',\n",
       " 'FloatingPointError',\n",
       " 'FutureWarning',\n",
       " 'GeneratorExit',\n",
       " 'IOError',\n",
       " 'ImportError',\n",
       " 'ImportWarning',\n",
       " 'IndentationError',\n",
       " 'IndexError',\n",
       " 'InterruptedError',\n",
       " 'IsADirectoryError',\n",
       " 'KeyError',\n",
       " 'KeyboardInterrupt',\n",
       " 'LookupError',\n",
       " 'MemoryError',\n",
       " 'ModuleNotFoundError',\n",
       " 'NameError',\n",
       " 'None',\n",
       " 'NotADirectoryError',\n",
       " 'NotImplemented',\n",
       " 'NotImplementedError',\n",
       " 'OSError',\n",
       " 'OverflowError',\n",
       " 'PendingDeprecationWarning',\n",
       " 'PermissionError',\n",
       " 'ProcessLookupError',\n",
       " 'RecursionError',\n",
       " 'ReferenceError',\n",
       " 'ResourceWarning',\n",
       " 'RuntimeError',\n",
       " 'RuntimeWarning',\n",
       " 'StopAsyncIteration',\n",
       " 'StopIteration',\n",
       " 'SyntaxError',\n",
       " 'SyntaxWarning',\n",
       " 'SystemError',\n",
       " 'SystemExit',\n",
       " 'TabError',\n",
       " 'TimeoutError',\n",
       " 'True',\n",
       " 'TypeError',\n",
       " 'UnboundLocalError',\n",
       " 'UnicodeDecodeError',\n",
       " 'UnicodeEncodeError',\n",
       " 'UnicodeError',\n",
       " 'UnicodeTranslateError',\n",
       " 'UnicodeWarning',\n",
       " 'UserWarning',\n",
       " 'ValueError',\n",
       " 'Warning',\n",
       " 'ZeroDivisionError',\n",
       " '__IPYTHON__',\n",
       " '__build_class__',\n",
       " '__debug__',\n",
       " '__doc__',\n",
       " '__import__',\n",
       " '__loader__',\n",
       " '__name__',\n",
       " '__package__',\n",
       " '__pybind11_internals_v3_clang_libcpp_cxxabi1002__',\n",
       " '__pybind11_internals_v4_clang_libcpp_cxxabi1002__',\n",
       " '__spec__',\n",
       " 'abs',\n",
       " 'all',\n",
       " 'any',\n",
       " 'ascii',\n",
       " 'bin',\n",
       " 'bool',\n",
       " 'breakpoint',\n",
       " 'bytearray',\n",
       " 'bytes',\n",
       " 'callable',\n",
       " 'chr',\n",
       " 'classmethod',\n",
       " 'compile',\n",
       " 'complex',\n",
       " 'copyright',\n",
       " 'credits',\n",
       " 'delattr',\n",
       " 'dict',\n",
       " 'dir',\n",
       " 'display',\n",
       " 'divmod',\n",
       " 'enumerate',\n",
       " 'eval',\n",
       " 'exec',\n",
       " 'execfile',\n",
       " 'filter',\n",
       " 'float',\n",
       " 'format',\n",
       " 'frozenset',\n",
       " 'get_ipython',\n",
       " 'getattr',\n",
       " 'globals',\n",
       " 'hasattr',\n",
       " 'hash',\n",
       " 'help',\n",
       " 'hex',\n",
       " 'id',\n",
       " 'input',\n",
       " 'int',\n",
       " 'isinstance',\n",
       " 'issubclass',\n",
       " 'iter',\n",
       " 'len',\n",
       " 'license',\n",
       " 'list',\n",
       " 'locals',\n",
       " 'map',\n",
       " 'max',\n",
       " 'memoryview',\n",
       " 'min',\n",
       " 'next',\n",
       " 'object',\n",
       " 'oct',\n",
       " 'open',\n",
       " 'ord',\n",
       " 'pow',\n",
       " 'print',\n",
       " 'property',\n",
       " 'range',\n",
       " 'repr',\n",
       " 'reversed',\n",
       " 'round',\n",
       " 'runfile',\n",
       " 'set',\n",
       " 'setattr',\n",
       " 'slice',\n",
       " 'sorted',\n",
       " 'staticmethod',\n",
       " 'str',\n",
       " 'sum',\n",
       " 'super',\n",
       " 'tuple',\n",
       " 'type',\n",
       " 'vars',\n",
       " 'zip']"
      ]
     },
     "execution_count": 2,
     "metadata": {},
     "output_type": "execute_result"
    }
   ],
   "source": [
    "dir(__builtins__)"
   ]
  },
  {
   "cell_type": "code",
   "execution_count": 28,
   "id": "fdc6d1ad",
   "metadata": {},
   "outputs": [
    {
     "name": "stdout",
     "output_type": "stream",
     "text": [
      "3\n",
      "let\"s go\n",
      "let's go\n",
      "\"Life is short, let's learn python. \"\n",
      "I love you. \n",
      "But I love her more.\n",
      "D:\three\two\\one\n",
      "D:\\three\\two\\one\n",
      "D:\\three\\two\\one\n",
      "I loveyou\n",
      "\n",
      "I\n",
      "love\n",
      "you\n",
      "\n",
      "I love you\n",
      "I love you\n",
      "I love you\n",
      "I love you\n",
      "I love you\n",
      "I love you\n",
      "I love you\n",
      "I love you\n",
      "I love you\n",
      "I love you\n",
      "\n"
     ]
    }
   ],
   "source": [
    "x = 3\n",
    "x\n",
    "print(x)\n",
    "print('let\"s go')\n",
    "print(\"let's go\")\n",
    "print('\\\"Life is short, let\\'s learn python. \\\"')\n",
    "print('I love you. \\nBut I love her more.')\n",
    "\n",
    "#raw string\n",
    "print('D:\\three\\two\\one')\n",
    "print('D:\\\\three\\\\two\\\\one')\n",
    "print(r'D:\\three\\two\\one')\n",
    "\n",
    "#long string\n",
    "print('I love\\\n",
    "you')\n",
    "print('''\n",
    "I\n",
    "love\n",
    "you\n",
    "''')\n",
    "\n",
    "#Repeat string\n",
    "print('I love you\\n' * 10)"
   ]
  },
  {
   "cell_type": "code",
   "execution_count": 31,
   "id": "af57d514",
   "metadata": {},
   "outputs": [
    {
     "name": "stdout",
     "output_type": "stream",
     "text": [
      "Who are you?Tim\n"
     ]
    }
   ],
   "source": [
    "temp = input(\"Who are you?\")"
   ]
  },
  {
   "cell_type": "code",
   "execution_count": 33,
   "id": "f794fb74",
   "metadata": {},
   "outputs": [
    {
     "name": "stdout",
     "output_type": "stream",
     "text": [
      "Tim\n"
     ]
    }
   ],
   "source": [
    "print(temp)"
   ]
  },
  {
   "cell_type": "code",
   "execution_count": null,
   "id": "0bad56c4",
   "metadata": {},
   "outputs": [],
   "source": [
    "is #determine whether two objects are equal\n",
    "is not # .......are unequal."
   ]
  },
  {
   "cell_type": "code",
   "execution_count": 35,
   "id": "db077edf",
   "metadata": {
    "scrolled": true
   },
   "outputs": [
    {
     "name": "stdout",
     "output_type": "stream",
     "text": [
      "True\n",
      "False\n",
      "True\n",
      "False\n"
     ]
    },
    {
     "name": "stderr",
     "output_type": "stream",
     "text": [
      "<>:1: SyntaxWarning: \"is\" with a literal. Did you mean \"==\"?\n",
      "<>:2: SyntaxWarning: \"is\" with a literal. Did you mean \"==\"?\n",
      "<>:3: SyntaxWarning: \"is not\" with a literal. Did you mean \"!=\"?\n",
      "<>:4: SyntaxWarning: \"is not\" with a literal. Did you mean \"!=\"?\n",
      "<>:1: SyntaxWarning: \"is\" with a literal. Did you mean \"==\"?\n",
      "<>:2: SyntaxWarning: \"is\" with a literal. Did you mean \"==\"?\n",
      "<>:3: SyntaxWarning: \"is not\" with a literal. Did you mean \"!=\"?\n",
      "<>:4: SyntaxWarning: \"is not\" with a literal. Did you mean \"!=\"?\n",
      "/var/folders/ld/l5hmq0nn6tg8mfw0_3xycn180000gn/T/ipykernel_23311/1037850107.py:1: SyntaxWarning: \"is\" with a literal. Did you mean \"==\"?\n",
      "  print('A' is 'A')\n",
      "/var/folders/ld/l5hmq0nn6tg8mfw0_3xycn180000gn/T/ipykernel_23311/1037850107.py:2: SyntaxWarning: \"is\" with a literal. Did you mean \"==\"?\n",
      "  print('AB' is 'A')\n",
      "/var/folders/ld/l5hmq0nn6tg8mfw0_3xycn180000gn/T/ipykernel_23311/1037850107.py:3: SyntaxWarning: \"is not\" with a literal. Did you mean \"!=\"?\n",
      "  print('A' is not 'B')\n",
      "/var/folders/ld/l5hmq0nn6tg8mfw0_3xycn180000gn/T/ipykernel_23311/1037850107.py:4: SyntaxWarning: \"is not\" with a literal. Did you mean \"!=\"?\n",
      "  print('A' is not 'A')\n"
     ]
    }
   ],
   "source": [
    "print('A' is 'A')\n",
    "print('AB' is 'A')\n",
    "print('A' is not 'B')\n",
    "print('A' is not 'A')"
   ]
  },
  {
   "cell_type": "code",
   "execution_count": 63,
   "id": "be5e58cd",
   "metadata": {
    "scrolled": true
   },
   "outputs": [
    {
     "data": {
      "text/plain": [
       "18"
      ]
     },
     "execution_count": 63,
     "metadata": {},
     "output_type": "execute_result"
    }
   ],
   "source": [
    "import random\n",
    "random.seed(a = 1, version = 2)\n",
    "random.randint(1, 100)"
   ]
  },
  {
   "cell_type": "code",
   "execution_count": 48,
   "id": "64f4cf62",
   "metadata": {},
   "outputs": [
    {
     "data": {
      "text/plain": [
       "98"
      ]
     },
     "execution_count": 48,
     "metadata": {},
     "output_type": "execute_result"
    }
   ],
   "source": [
    "random.randint(1,100)"
   ]
  },
  {
   "cell_type": "code",
   "execution_count": 72,
   "id": "87535d96",
   "metadata": {},
   "outputs": [
    {
     "name": "stdout",
     "output_type": "stream",
     "text": [
      "0.1 0.2\n",
      "0.3\n",
      "False\n",
      "True\n"
     ]
    }
   ],
   "source": [
    "import decimal\n",
    "a = decimal.Decimal('0.1')\n",
    "b = decimal.Decimal('0.2')\n",
    "print(a, b)\n",
    "c = 0.3\n",
    "print(c)\n",
    "print(a + b == c)\n",
    "d = decimal.Decimal('0.3')\n",
    "print(a + b == d)"
   ]
  },
  {
   "cell_type": "code",
   "execution_count": 81,
   "id": "e98a5c29",
   "metadata": {},
   "outputs": [
    {
     "name": "stdout",
     "output_type": "stream",
     "text": [
      "(1+2j)\n",
      "1.0\n",
      "2.0\n",
      "(1-2j)\n"
     ]
    }
   ],
   "source": [
    "#Complex number\n",
    "x = 1 + 2j\n",
    "print(x)\n",
    "print(x.real)\n",
    "print(x.imag)\n",
    "print(x.conjugate())"
   ]
  },
  {
   "cell_type": "code",
   "execution_count": 83,
   "id": "eff687b0",
   "metadata": {},
   "outputs": [
    {
     "name": "stdout",
     "output_type": "stream",
     "text": [
      "2\n",
      "1\n",
      "(1, 2)\n",
      "-5\n"
     ]
    }
   ],
   "source": [
    "#remainder\n",
    "print(5 % 3)\n",
    "#integer devision\n",
    "print(5//3)\n",
    "\n",
    "print(divmod(5, 3))\n",
    "\n",
    "#opposite number\n",
    "x=5\n",
    "print(-x)"
   ]
  },
  {
   "cell_type": "code",
   "execution_count": 89,
   "id": "bcfe3f94",
   "metadata": {},
   "outputs": [
    {
     "name": "stdout",
     "output_type": "stream",
     "text": [
      "False\n",
      "True\n"
     ]
    }
   ],
   "source": [
    "print(bool(0.0))\n",
    "print(bool(0.1))\n"
   ]
  },
  {
   "cell_type": "code",
   "execution_count": 90,
   "id": "2109ca1a",
   "metadata": {},
   "outputs": [
    {
     "data": {
      "text/plain": [
       "5"
      ]
     },
     "execution_count": 90,
     "metadata": {},
     "output_type": "execute_result"
    }
   ],
   "source": [
    "4 and 5"
   ]
  },
  {
   "cell_type": "code",
   "execution_count": 92,
   "id": "f426c63b",
   "metadata": {},
   "outputs": [
    {
     "data": {
      "text/plain": [
       "5"
      ]
     },
     "execution_count": 92,
     "metadata": {},
     "output_type": "execute_result"
    }
   ],
   "source": [
    "False or 5"
   ]
  },
  {
   "cell_type": "markdown",
   "id": "5273ca11",
   "metadata": {},
   "source": [
    "## If... else..."
   ]
  },
  {
   "cell_type": "code",
   "execution_count": 93,
   "id": "c3976b42",
   "metadata": {},
   "outputs": [
    {
     "name": "stdout",
     "output_type": "stream",
     "text": [
      "1\n"
     ]
    }
   ],
   "source": [
    "if 1:\n",
    "    print(1)\n",
    "elif 2:\n",
    "    print(2)\n",
    "else:\n",
    "    print(3)"
   ]
  },
  {
   "cell_type": "code",
   "execution_count": 96,
   "id": "26251d23",
   "metadata": {},
   "outputs": [
    {
     "name": "stdout",
     "output_type": "stream",
     "text": [
      "3\n"
     ]
    }
   ],
   "source": [
    "a = 3\n",
    "b = 5\n",
    "small = a if a < b else b\n",
    "print(small)"
   ]
  },
  {
   "cell_type": "code",
   "execution_count": 97,
   "id": "1e8d9b85",
   "metadata": {},
   "outputs": [
    {
     "name": "stdout",
     "output_type": "stream",
     "text": [
      "C\n"
     ]
    }
   ],
   "source": [
    "score = 66\n",
    "level = ('D' if 0 <= score < 60 else\n",
    "        'C' if 60 <= score < 80 else\n",
    "        'B' if 80 <= score < 90 else\n",
    "        'A')\n",
    "print(level)"
   ]
  },
  {
   "cell_type": "markdown",
   "id": "84553b59",
   "metadata": {},
   "source": [
    "## Loop Structure"
   ]
  },
  {
   "cell_type": "code",
   "execution_count": 99,
   "id": "75bc2f51",
   "metadata": {},
   "outputs": [
    {
     "ename": "NameError",
     "evalue": "name 'condition' is not defined",
     "output_type": "error",
     "traceback": [
      "\u001b[0;31m---------------------------------------------------------------------------\u001b[0m",
      "\u001b[0;31mNameError\u001b[0m                                 Traceback (most recent call last)",
      "Input \u001b[0;32mIn [99]\u001b[0m, in \u001b[0;36m<cell line: 2>\u001b[0;34m()\u001b[0m\n\u001b[1;32m      1\u001b[0m \u001b[38;5;66;03m#Loop structure\u001b[39;00m\n\u001b[0;32m----> 2\u001b[0m \u001b[38;5;28;01mwhile\u001b[39;00m \u001b[43mcondition\u001b[49m:\n\u001b[1;32m      3\u001b[0m     xxxx\n\u001b[1;32m      4\u001b[0m \u001b[38;5;28;01melse\u001b[39;00m:\n",
      "\u001b[0;31mNameError\u001b[0m: name 'condition' is not defined"
     ]
    }
   ],
   "source": [
    "#Loop structure\n",
    "while condition:\n",
    "    xxxx\n",
    "else:\n",
    "    xxxx\n",
    "#cease the whole loop\n",
    "break\n",
    "#jump out the current loop\n",
    "continue\n"
   ]
  },
  {
   "cell_type": "code",
   "execution_count": 104,
   "id": "5a6e4cd2",
   "metadata": {},
   "outputs": [
    {
     "name": "stdout",
     "output_type": "stream",
     "text": [
      "F\n",
      "i\n",
      "s\n",
      "h\n",
      "C\n",
      "1\n",
      "3\n",
      "5\n",
      "7\n",
      "9\n"
     ]
    }
   ],
   "source": [
    "\n",
    "for each in 'FishC':\n",
    "    print(each)\n",
    "    \n",
    "for i in range(1, 10, 2):\n",
    "    print(i)"
   ]
  },
  {
   "cell_type": "code",
   "execution_count": 124,
   "id": "29e370df",
   "metadata": {
    "scrolled": true
   },
   "outputs": [
    {
     "name": "stdout",
     "output_type": "stream",
     "text": [
      "['ironman', 'Thor', 'Blackwidow']\n",
      "['ironman', 'Thor', 'Blackwidow', 'Thano', 'Captain']\n",
      "['ironman', 'Doctor', 'Thor', 'Blackwidow', 'Thano', 'Captain']\n",
      "['ironman', 'Doctor', 'Thor', 'Blackwidow', 'Captain']\n",
      "['ironman', 'Doctor', 'Blackwidow', 'Captain']\n",
      "[]\n",
      "[2, 123, 3, 4, 1, 5, 6, 2, 3]\n",
      "[3, 2, 6, 5, 1, 4, 3, 123, 2]\n",
      "[1, 2, 2, 3, 3, 4, 5, 6, 123]\n",
      "[123, 6, 5, 4, 3, 3, 2, 2, 1]\n",
      "2\n",
      "4\n"
     ]
    }
   ],
   "source": [
    "heroes = ['ironman', 'Thor']\n",
    "heroes.append('Blackwidow')\n",
    "print(heroes)\n",
    "heroes.extend(['Thano', 'Captain'])\n",
    "print(heroes)\n",
    "heroes.insert(1, 'Doctor')\n",
    "print(heroes)\n",
    "heroes.remove('Thano')\n",
    "print(heroes)\n",
    "heroes.pop(2)\n",
    "print(heroes)\n",
    "heroes.clear()\n",
    "print(heroes)\n",
    "nums = [2,123,3,4,1,5,6,2,3]\n",
    "print(nums)\n",
    "nums.reverse()\n",
    "print(nums)\n",
    "nums.sort()\n",
    "print(nums)\n",
    "nums.reverse()\n",
    "print(nums)\n",
    "print(nums.count(3))\n",
    "print(nums.index(3))"
   ]
  },
  {
   "cell_type": "code",
   "execution_count": 3,
   "id": "cc1d122a",
   "metadata": {},
   "outputs": [
    {
     "name": "stdout",
     "output_type": "stream",
     "text": [
      "[2, 3]\n",
      "3\n"
     ]
    }
   ],
   "source": [
    "matrix = [[1,2],[2,3]]\n",
    "print(matrix[1])\n",
    "print(matrix[1][1])"
   ]
  },
  {
   "cell_type": "code",
   "execution_count": 10,
   "id": "ab8a1444",
   "metadata": {},
   "outputs": [
    {
     "name": "stdout",
     "output_type": "stream",
     "text": [
      "A is [[0, 0, 0], [0, 0, 0], [0, 0, 0]]\n",
      "B is [[0, 0, 0], [0, 0, 0], [0, 0, 0]]\n"
     ]
    }
   ],
   "source": [
    "#The following two construction formulas are unequivalent.\n",
    "A = [0,0,0]\n",
    "for i in range(3):\n",
    "    A[i] = [0] * 3\n",
    "B = [[0]*3]*3\n",
    "print('A is', A)\n",
    "print('B is', B)"
   ]
  },
  {
   "cell_type": "code",
   "execution_count": 11,
   "id": "911cb9d9",
   "metadata": {},
   "outputs": [
    {
     "name": "stdout",
     "output_type": "stream",
     "text": [
      "A is [[0, 0, 0], [0, 1, 0], [0, 0, 0]]\n",
      "B is [[0, 1, 0], [0, 1, 0], [0, 1, 0]]\n"
     ]
    }
   ],
   "source": [
    "A[1][1]=1\n",
    "B[1][1]=1\n",
    "print('A is', A)\n",
    "print('B is', B)"
   ]
  },
  {
   "cell_type": "code",
   "execution_count": 12,
   "id": "76d0508a",
   "metadata": {},
   "outputs": [
    {
     "name": "stdout",
     "output_type": "stream",
     "text": [
      "True\n",
      "False\n"
     ]
    }
   ],
   "source": [
    "#The above result is from the different saving structure of different type in python.\n",
    "x = 'FishC'\n",
    "y = 'FishC'\n",
    "print(x is y)\n",
    "x = [1,2]\n",
    "y = [1,2]\n",
    "print(x is y)"
   ]
  },
  {
   "cell_type": "code",
   "execution_count": 13,
   "id": "5ce2f7ee",
   "metadata": {},
   "outputs": [
    {
     "name": "stdout",
     "output_type": "stream",
     "text": [
      "False\n",
      "True\n"
     ]
    }
   ],
   "source": [
    "print(A[0] is A[1])#A uses two different locations to store A[0] and A[1]\n",
    "print(B[0] is B[1])#B only uses one location but two different pointers to store B[0] and B[1]"
   ]
  },
  {
   "cell_type": "markdown",
   "id": "eb40f92d",
   "metadata": {},
   "source": [
    "## Copy"
   ]
  },
  {
   "cell_type": "code",
   "execution_count": 15,
   "id": "51bdcff2",
   "metadata": {},
   "outputs": [
    {
     "name": "stdout",
     "output_type": "stream",
     "text": [
      "[1, 1, 3]\n",
      "[1, 2, 3]\n"
     ]
    }
   ],
   "source": [
    "#Shallow Copy 1\n",
    "x = [1,2,3]\n",
    "y = x.copy()\n",
    "x[1] = 1\n",
    "print(x)\n",
    "print(y)"
   ]
  },
  {
   "cell_type": "code",
   "execution_count": 16,
   "id": "7c1584eb",
   "metadata": {
    "scrolled": true
   },
   "outputs": [
    {
     "name": "stdout",
     "output_type": "stream",
     "text": [
      "[1, 1, 3]\n",
      "[1, 2, 3]\n"
     ]
    }
   ],
   "source": [
    "#Shallow Copy 2\n",
    "x = [1,2,3]\n",
    "y = x[:]\n",
    "x[1] = 1\n",
    "print(x)\n",
    "print(y)"
   ]
  },
  {
   "cell_type": "code",
   "execution_count": 1,
   "id": "b67e4fba",
   "metadata": {
    "scrolled": true
   },
   "outputs": [
    {
     "name": "stdout",
     "output_type": "stream",
     "text": [
      "[[1, 2, 3], [4, 0, 6], [7, 8, 9]]\n",
      "[[1, 2, 3], [4, 5, 6], [7, 8, 9]]\n"
     ]
    }
   ],
   "source": [
    "#Deep Copy (for matrix copy)\n",
    "import copy\n",
    "x = [[1,2,3],[4,5,6],[7,8,9]]\n",
    "y = copy.deepcopy(x)\n",
    "x[1][1]=0\n",
    "print(x)\n",
    "print(y)\n",
    "print(id(x))\n",
    "print(id(y))"
   ]
  },
  {
   "cell_type": "code",
   "execution_count": 20,
   "id": "82be0e66",
   "metadata": {},
   "outputs": [
    {
     "name": "stdout",
     "output_type": "stream",
     "text": [
      "[2, 4, 6, 8, 10]\n"
     ]
    }
   ],
   "source": [
    "#Multiply each element with 2 in an array\n",
    "oho = [1,2,3,4,5]\n",
    "oho = [i*2 for i in oho]\n",
    "print(oho)"
   ]
  },
  {
   "cell_type": "code",
   "execution_count": 26,
   "id": "fb8a9600",
   "metadata": {},
   "outputs": [
    {
     "name": "stdout",
     "output_type": "stream",
     "text": [
      "[1, 5, 9]\n",
      "3\n",
      "[3, 5, 7]\n"
     ]
    }
   ],
   "source": [
    "matrix = [[1,2,3],\n",
    "          [4,5,6],\n",
    "          [7,8,9]]\n",
    "diag = [matrix[i][i] for i in range(len(matrix))]\n",
    "print(diag)\n",
    "print(len(matrix))\n",
    "revdiag = [matrix[i][len(matrix)-i-1] for i in range(len(matrix))]\n",
    "print(revdiag)"
   ]
  },
  {
   "cell_type": "code",
   "execution_count": 29,
   "id": "7d43d69c",
   "metadata": {},
   "outputs": [
    {
     "name": "stdout",
     "output_type": "stream",
     "text": [
      "[[0, 0, 0], [0, 0, 0], [0, 0, 0]]\n",
      "[[0, 1, 0], [0, 0, 0], [0, 0, 0]]\n"
     ]
    }
   ],
   "source": [
    "A = [[0]*3 for i in range(3)]\n",
    "print(A)\n",
    "A[0][1]=1\n",
    "print(A)"
   ]
  },
  {
   "cell_type": "code",
   "execution_count": 46,
   "id": "c2044f9e",
   "metadata": {},
   "outputs": [
    {
     "name": "stdout",
     "output_type": "stream",
     "text": [
      "0123456789101112131415161718\n"
     ]
    }
   ],
   "source": [
    "n = 19\n",
    "ls = ''\n",
    "for i in range(n):\n",
    "    ls = ls + str(i)\n",
    "print(ls)"
   ]
  },
  {
   "cell_type": "code",
   "execution_count": 23,
   "id": "ef18faa7",
   "metadata": {},
   "outputs": [
    {
     "name": "stdout",
     "output_type": "stream",
     "text": [
      "Help on class list in module builtins:\n",
      "\n",
      "class list(object)\n",
      " |  list(iterable=(), /)\n",
      " |  \n",
      " |  Built-in mutable sequence.\n",
      " |  \n",
      " |  If no argument is given, the constructor creates a new empty list.\n",
      " |  The argument must be an iterable if specified.\n",
      " |  \n",
      " |  Methods defined here:\n",
      " |  \n",
      " |  __add__(self, value, /)\n",
      " |      Return self+value.\n",
      " |  \n",
      " |  __contains__(self, key, /)\n",
      " |      Return key in self.\n",
      " |  \n",
      " |  __delitem__(self, key, /)\n",
      " |      Delete self[key].\n",
      " |  \n",
      " |  __eq__(self, value, /)\n",
      " |      Return self==value.\n",
      " |  \n",
      " |  __ge__(self, value, /)\n",
      " |      Return self>=value.\n",
      " |  \n",
      " |  __getattribute__(self, name, /)\n",
      " |      Return getattr(self, name).\n",
      " |  \n",
      " |  __getitem__(...)\n",
      " |      x.__getitem__(y) <==> x[y]\n",
      " |  \n",
      " |  __gt__(self, value, /)\n",
      " |      Return self>value.\n",
      " |  \n",
      " |  __iadd__(self, value, /)\n",
      " |      Implement self+=value.\n",
      " |  \n",
      " |  __imul__(self, value, /)\n",
      " |      Implement self*=value.\n",
      " |  \n",
      " |  __init__(self, /, *args, **kwargs)\n",
      " |      Initialize self.  See help(type(self)) for accurate signature.\n",
      " |  \n",
      " |  __iter__(self, /)\n",
      " |      Implement iter(self).\n",
      " |  \n",
      " |  __le__(self, value, /)\n",
      " |      Return self<=value.\n",
      " |  \n",
      " |  __len__(self, /)\n",
      " |      Return len(self).\n",
      " |  \n",
      " |  __lt__(self, value, /)\n",
      " |      Return self<value.\n",
      " |  \n",
      " |  __mul__(self, value, /)\n",
      " |      Return self*value.\n",
      " |  \n",
      " |  __ne__(self, value, /)\n",
      " |      Return self!=value.\n",
      " |  \n",
      " |  __repr__(self, /)\n",
      " |      Return repr(self).\n",
      " |  \n",
      " |  __reversed__(self, /)\n",
      " |      Return a reverse iterator over the list.\n",
      " |  \n",
      " |  __rmul__(self, value, /)\n",
      " |      Return value*self.\n",
      " |  \n",
      " |  __setitem__(self, key, value, /)\n",
      " |      Set self[key] to value.\n",
      " |  \n",
      " |  __sizeof__(self, /)\n",
      " |      Return the size of the list in memory, in bytes.\n",
      " |  \n",
      " |  append(self, object, /)\n",
      " |      Append object to the end of the list.\n",
      " |  \n",
      " |  clear(self, /)\n",
      " |      Remove all items from list.\n",
      " |  \n",
      " |  copy(self, /)\n",
      " |      Return a shallow copy of the list.\n",
      " |  \n",
      " |  count(self, value, /)\n",
      " |      Return number of occurrences of value.\n",
      " |  \n",
      " |  extend(self, iterable, /)\n",
      " |      Extend list by appending elements from the iterable.\n",
      " |  \n",
      " |  index(self, value, start=0, stop=9223372036854775807, /)\n",
      " |      Return first index of value.\n",
      " |      \n",
      " |      Raises ValueError if the value is not present.\n",
      " |  \n",
      " |  insert(self, index, object, /)\n",
      " |      Insert object before index.\n",
      " |  \n",
      " |  pop(self, index=-1, /)\n",
      " |      Remove and return item at index (default last).\n",
      " |      \n",
      " |      Raises IndexError if list is empty or index is out of range.\n",
      " |  \n",
      " |  remove(self, value, /)\n",
      " |      Remove first occurrence of value.\n",
      " |      \n",
      " |      Raises ValueError if the value is not present.\n",
      " |  \n",
      " |  reverse(self, /)\n",
      " |      Reverse *IN PLACE*.\n",
      " |  \n",
      " |  sort(self, /, *, key=None, reverse=False)\n",
      " |      Sort the list in ascending order and return None.\n",
      " |      \n",
      " |      The sort is in-place (i.e. the list itself is modified) and stable (i.e. the\n",
      " |      order of two equal elements is maintained).\n",
      " |      \n",
      " |      If a key function is given, apply it once to each list item and sort them,\n",
      " |      ascending or descending, according to their function values.\n",
      " |      \n",
      " |      The reverse flag can be set to sort in descending order.\n",
      " |  \n",
      " |  ----------------------------------------------------------------------\n",
      " |  Class methods defined here:\n",
      " |  \n",
      " |  __class_getitem__(...) from builtins.type\n",
      " |      See PEP 585\n",
      " |  \n",
      " |  ----------------------------------------------------------------------\n",
      " |  Static methods defined here:\n",
      " |  \n",
      " |  __new__(*args, **kwargs) from builtins.type\n",
      " |      Create and return a new object.  See help(type) for accurate signature.\n",
      " |  \n",
      " |  ----------------------------------------------------------------------\n",
      " |  Data and other attributes defined here:\n",
      " |  \n",
      " |  __hash__ = None\n",
      "\n"
     ]
    }
   ],
   "source": [
    "help(list)"
   ]
  },
  {
   "cell_type": "code",
   "execution_count": 31,
   "id": "e1517bb8",
   "metadata": {},
   "outputs": [
    {
     "data": {
      "text/plain": [
       "[0, 2, 4, 6, 8]"
      ]
     },
     "execution_count": 31,
     "metadata": {},
     "output_type": "execute_result"
    }
   ],
   "source": [
    "even = [i for i in range(10) if i % 2 == 0]\n",
    "even"
   ]
  },
  {
   "cell_type": "code",
   "execution_count": 39,
   "id": "f1323fe1",
   "metadata": {},
   "outputs": [
    {
     "data": {
      "text/plain": [
       "['Fabulous']"
      ]
     },
     "execution_count": 39,
     "metadata": {},
     "output_type": "execute_result"
    }
   ],
   "source": [
    "words = ['Great', 'Excellent', 'Wonderful', 'Nice', 'Fabulous']\n",
    "filtered = [words[i] for i in range(len(words)) if words[i][0] == 'F']\n",
    "filtered"
   ]
  },
  {
   "cell_type": "code",
   "execution_count": 41,
   "id": "68b97545",
   "metadata": {},
   "outputs": [
    {
     "data": {
      "text/plain": [
       "['Fabulous']"
      ]
     },
     "execution_count": 41,
     "metadata": {},
     "output_type": "execute_result"
    }
   ],
   "source": [
    "fwords = [w for w in words if w[0] == 'F']\n",
    "fwords"
   ]
  },
  {
   "cell_type": "code",
   "execution_count": 43,
   "id": "5e71e16a",
   "metadata": {},
   "outputs": [
    {
     "data": {
      "text/plain": [
       "[1, 2, 3, 4, 5, 6, 7, 8, 9]"
      ]
     },
     "execution_count": 43,
     "metadata": {},
     "output_type": "execute_result"
    }
   ],
   "source": [
    "matrix = [[1,2,3],\n",
    "          [4,5,6],\n",
    "          [7,8,9]]\n",
    "flattenmat = [col for row in matrix for col in row]\n",
    "flattenmat"
   ]
  },
  {
   "cell_type": "markdown",
   "id": "f77e2cca",
   "metadata": {},
   "source": [
    "## Tuple"
   ]
  },
  {
   "cell_type": "code",
   "execution_count": 45,
   "id": "989a6314",
   "metadata": {},
   "outputs": [
    {
     "data": {
      "text/plain": [
       "tuple"
      ]
     },
     "execution_count": 45,
     "metadata": {},
     "output_type": "execute_result"
    }
   ],
   "source": [
    "#Tuple(won't change)\n",
    "#()\n",
    "#.count\n",
    "#.index\n",
    "x = (520,)\n",
    "type(x)"
   ]
  },
  {
   "cell_type": "code",
   "execution_count": 47,
   "id": "5c384448",
   "metadata": {},
   "outputs": [
    {
     "name": "stdout",
     "output_type": "stream",
     "text": [
      "L o ['v', 'e']\n"
     ]
    }
   ],
   "source": [
    "a, b, *c = \"Love\"\n",
    "print(a, b, c)"
   ]
  },
  {
   "cell_type": "code",
   "execution_count": 9,
   "id": "3908c88d",
   "metadata": {},
   "outputs": [
    {
     "name": "stdout",
     "output_type": "stream",
     "text": [
      "Input an integer:-11\n"
     ]
    },
    {
     "data": {
      "text/plain": [
       "'No'"
      ]
     },
     "execution_count": 9,
     "metadata": {},
     "output_type": "execute_result"
    }
   ],
   "source": [
    "x = input(\"Input an integer:\")\n",
    "\"Yes\" if x == x[::-1] else \"No\""
   ]
  },
  {
   "cell_type": "code",
   "execution_count": 11,
   "id": "d71e6866",
   "metadata": {},
   "outputs": [
    {
     "data": {
      "text/plain": [
       "'4321'"
      ]
     },
     "execution_count": 11,
     "metadata": {},
     "output_type": "execute_result"
    }
   ],
   "source": [
    "x = '1234'\n",
    "x[::-1]"
   ]
  },
  {
   "cell_type": "code",
   "execution_count": 53,
   "id": "4f51eea3",
   "metadata": {},
   "outputs": [
    {
     "data": {
      "text/plain": [
       "[]"
      ]
     },
     "execution_count": 53,
     "metadata": {},
     "output_type": "execute_result"
    }
   ],
   "source": [
    "x = [1,2,3,4,5]\n",
    "x.clear()\n",
    "x"
   ]
  },
  {
   "cell_type": "code",
   "execution_count": 58,
   "id": "31f36760",
   "metadata": {},
   "outputs": [
    {
     "data": {
      "text/plain": [
       "[]"
      ]
     },
     "execution_count": 58,
     "metadata": {},
     "output_type": "execute_result"
    }
   ],
   "source": [
    "x = [1,2,3,4,5]\n",
    "del x[::]\n",
    "x"
   ]
  },
  {
   "cell_type": "code",
   "execution_count": 60,
   "id": "eb5b72cb",
   "metadata": {},
   "outputs": [
    {
     "data": {
      "text/plain": [
       "'(1, 2, 3, 4, 5)'"
      ]
     },
     "execution_count": 60,
     "metadata": {},
     "output_type": "execute_result"
    }
   ],
   "source": [
    "list('Love')#Str to List\n",
    "list((1,2,3,4,5))#Tuple to List\n",
    "tuple('Love')#Str to Tuple\n",
    "tuple([1,2,3,4,5])#List to Tuple\n",
    "str([1,2,3,4,5])#List to Str\n",
    "str((1,2,3,4,5))#Tuple to Str"
   ]
  },
  {
   "cell_type": "code",
   "execution_count": 62,
   "id": "6bde4ead",
   "metadata": {},
   "outputs": [
    {
     "name": "stdout",
     "output_type": "stream",
     "text": [
      "v\n",
      "E\n"
     ]
    }
   ],
   "source": [
    "t = 'LOVElove'\n",
    "print(max(t))\n",
    "print(min(t))"
   ]
  },
  {
   "cell_type": "code",
   "execution_count": 70,
   "id": "6f203bb2",
   "metadata": {},
   "outputs": [
    {
     "name": "stdout",
     "output_type": "stream",
     "text": [
      "15\n",
      "115\n"
     ]
    }
   ],
   "source": [
    "print(sum((1,0,0,8,6)))\n",
    "print(sum((1,0,0,8,6), start = 100))"
   ]
  },
  {
   "cell_type": "code",
   "execution_count": 72,
   "id": "43c1178a",
   "metadata": {},
   "outputs": [
    {
     "name": "stdout",
     "output_type": "stream",
     "text": [
      "[1, 2, 3, 4, 8]\n",
      "[1, 2, 4, 8, 3]\n",
      "None\n",
      "[1, 2, 3, 4, 8]\n"
     ]
    }
   ],
   "source": [
    "s = [1,2,4,8,3]\n",
    "print(sorted(s))#Won't change the original list\n",
    "print(s)\n",
    "print(s.sort())#Will change the original list\n",
    "print(s)"
   ]
  },
  {
   "cell_type": "code",
   "execution_count": 73,
   "id": "fee57929",
   "metadata": {},
   "outputs": [
    {
     "name": "stdout",
     "output_type": "stream",
     "text": [
      "[5, 4, 3, 2, 1]\n",
      "[1, 2, 3, 4, 5]\n",
      "[5, 4, 3, 2, 1]\n"
     ]
    }
   ],
   "source": [
    "s = [1,2,3,4,5]\n",
    "print(list(reversed(s)))#won't change\n",
    "print(s)\n",
    "s.reverse()#will change\n",
    "print(s)"
   ]
  },
  {
   "cell_type": "code",
   "execution_count": 74,
   "id": "741c2fd4",
   "metadata": {},
   "outputs": [
    {
     "name": "stdout",
     "output_type": "stream",
     "text": [
      "False\n",
      "True\n",
      "True\n",
      "True\n"
     ]
    }
   ],
   "source": [
    "x = [1, 1, 0]\n",
    "y = [1, 1, 1]\n",
    "print(all(x))\n",
    "print(all(y))\n",
    "print(any(x))\n",
    "print(any(y))"
   ]
  },
  {
   "cell_type": "code",
   "execution_count": 75,
   "id": "ba513fa3",
   "metadata": {},
   "outputs": [
    {
     "name": "stdout",
     "output_type": "stream",
     "text": [
      "[(0, 'S'), (1, 'S'), (2, 'F'), (3, 'W')]\n",
      "[(10, 'S'), (11, 'S'), (12, 'F'), (13, 'W')]\n"
     ]
    }
   ],
   "source": [
    "seasons = ['S','S','F','W']\n",
    "print(list(enumerate(seasons)))\n",
    "print(list(enumerate(seasons, 10)))"
   ]
  },
  {
   "cell_type": "code",
   "execution_count": 76,
   "id": "7247d335",
   "metadata": {},
   "outputs": [
    {
     "data": {
      "text/plain": [
       "[(1, 4), (2, 5), (3, 6)]"
      ]
     },
     "execution_count": 76,
     "metadata": {},
     "output_type": "execute_result"
    }
   ],
   "source": [
    "x = [1,2,3]\n",
    "y = [4,5,6]\n",
    "zipped = zip(x,y)\n",
    "list(zipped)"
   ]
  },
  {
   "cell_type": "code",
   "execution_count": 79,
   "id": "9691670f",
   "metadata": {},
   "outputs": [
    {
     "data": {
      "text/plain": [
       "[(1, 4, 'L'), (2, 5, 'o'), (3, 6, 'v')]"
      ]
     },
     "execution_count": 79,
     "metadata": {},
     "output_type": "execute_result"
    }
   ],
   "source": [
    "z = 'Love'\n",
    "zipped2 = zip(x,y, z)\n",
    "list(zipped2)"
   ]
  },
  {
   "cell_type": "code",
   "execution_count": null,
   "id": "b345f14c",
   "metadata": {},
   "outputs": [],
   "source": [
    "# import itertools\n",
    "zipped2 = itertools.zip_longest(x,y,z)\n",
    "list(zipped2)"
   ]
  },
  {
   "cell_type": "code",
   "execution_count": 81,
   "id": "1991952a",
   "metadata": {},
   "outputs": [
    {
     "data": {
      "text/plain": [
       "[108, 111, 118, 101]"
      ]
     },
     "execution_count": 81,
     "metadata": {},
     "output_type": "execute_result"
    }
   ],
   "source": [
    "mapped = map(ord, \"love\")\n",
    "list(mapped)"
   ]
  },
  {
   "cell_type": "code",
   "execution_count": 82,
   "id": "6d5e5618",
   "metadata": {},
   "outputs": [
    {
     "data": {
      "text/plain": [
       "[16, 27, 16]"
      ]
     },
     "execution_count": 82,
     "metadata": {},
     "output_type": "execute_result"
    }
   ],
   "source": [
    "mapped = map(pow, [2, 3, 4], [4, 3, 2])#2^4, 3^3, 4^2\n",
    "list(mapped)"
   ]
  },
  {
   "cell_type": "code",
   "execution_count": 84,
   "id": "e2e6365d",
   "metadata": {},
   "outputs": [
    {
     "data": {
      "text/plain": [
       "[3, 3, 9]"
      ]
     },
     "execution_count": 84,
     "metadata": {},
     "output_type": "execute_result"
    }
   ],
   "source": [
    "list(map(max, [1, 3, 5], [2, 2, 2],[3, 1, 9, 2]))"
   ]
  },
  {
   "cell_type": "code",
   "execution_count": 85,
   "id": "662c1da1",
   "metadata": {},
   "outputs": [
    {
     "data": {
      "text/plain": [
       "['i', 's', 'h']"
      ]
     },
     "execution_count": 85,
     "metadata": {},
     "output_type": "execute_result"
    }
   ],
   "source": [
    "list(filter(str.islower, 'FishC'))"
   ]
  },
  {
   "cell_type": "code",
   "execution_count": 93,
   "id": "7586cc64",
   "metadata": {},
   "outputs": [
    {
     "name": "stdout",
     "output_type": "stream",
     "text": [
      "<class 'list'>\n",
      "<class 'list_iterator'>\n"
     ]
    }
   ],
   "source": [
    "#Iterator is one-time\n",
    "x = [1,2,3,4,5]\n",
    "y = iter(x)\n",
    "print(type(x))\n",
    "print(type(y))"
   ]
  },
  {
   "cell_type": "code",
   "execution_count": 94,
   "id": "d6d73946",
   "metadata": {},
   "outputs": [
    {
     "name": "stdout",
     "output_type": "stream",
     "text": [
      "1\n",
      "2\n",
      "3\n",
      "4\n",
      "5\n",
      "Empty.\n",
      "Empty.\n"
     ]
    }
   ],
   "source": [
    "for i in range(7):\n",
    "    print(next(y, 'Empty.'))"
   ]
  },
  {
   "cell_type": "code",
   "execution_count": 103,
   "id": "dff17bef",
   "metadata": {},
   "outputs": [
    {
     "name": "stdout",
     "output_type": "stream",
     "text": [
      "Please input a word from 1 to 0:1\n",
      "['1']\n",
      "['a']\n"
     ]
    }
   ],
   "source": [
    "#Method 1:\n",
    "c_table = [\"1\", '2', '3', '4', '5', '6', '7', '8', '9', '0']\n",
    "d_table = ['a', 'b', 'c', 'd', 'e', 'f', 'g', 'h', 'i', 'j']\n",
    "code = input(\"Please input a word from 1 to 0:\")\n",
    "split_code = code.split(\",\")\n",
    "print(split_code)\n",
    "result = [d_table[c_table.index(each)] for each in split_code]\n",
    "print(result)"
   ]
  },
  {
   "cell_type": "code",
   "execution_count": 106,
   "id": "0dcdd930",
   "metadata": {},
   "outputs": [
    {
     "name": "stdout",
     "output_type": "stream",
     "text": [
      "Please input a word from 1 to 0:1,2,3,4,5,6,7,8,9,0\n",
      "['1', '2', '3', '4', '5', '6', '7', '8', '9', '0']\n",
      "['a', 'b', 'c', 'd', 'e', 'f', 'g', 'h', 'i', 'j']\n"
     ]
    }
   ],
   "source": [
    "#Method 2:\n",
    "c_table = [\"1\",'a', '2', 'b', '3', 'c','4','d', '5','e', '6','f', '7','g', '8','h', '9','i', '0','j']\n",
    "code = input(\"Please input a word from 1 to 0:\")\n",
    "split_code = code.split(\",\")\n",
    "print(split_code)\n",
    "result = [c_table[c_table.index(each)+1] for each in split_code]\n",
    "print(result)"
   ]
  },
  {
   "cell_type": "code",
   "execution_count": 109,
   "id": "7c085026",
   "metadata": {},
   "outputs": [
    {
     "name": "stdout",
     "output_type": "stream",
     "text": [
      "Please input a word from 1 to 0:1,2,3,4,5,6,7,8,9,0\n",
      "['1', '2', '3', '4', '5', '6', '7', '8', '9', '0']\n",
      "['a', 'b', 'c', 'd', 'e', 'f', 'g', 'h', 'i', 'j']\n"
     ]
    }
   ],
   "source": [
    "#Method 3:\n",
    "c_table = {'1':'a', '2':'b', '3':'c', '4':'d', '5':'e', '6':'f', '7':'g', '8':'h', '9':'i', '0':'j'}\n",
    "code = input(\"Please input a word from 1 to 0:\")\n",
    "split_code = code.split(\",\")\n",
    "print(split_code)\n",
    "result = [c_table[each] for each in split_code]\n",
    "print(result)"
   ]
  },
  {
   "cell_type": "code",
   "execution_count": 111,
   "id": "40332f4e",
   "metadata": {},
   "outputs": [
    {
     "name": "stdout",
     "output_type": "stream",
     "text": [
      "<class 'dict'>\n",
      "{'LV': 'lv', 'Gucci': 'gucci', 'Coach': 'coach', 'Cartier': 'cartier'}\n"
     ]
    }
   ],
   "source": [
    "#Dictionary\n",
    "x = {\"LV\":\"lv\", \"Gucci\":\"gucci\", 'Coach':'coach'}\n",
    "print(type(x))\n",
    "x['Cartier'] ='cartier'\n",
    "print(x)"
   ]
  },
  {
   "cell_type": "code",
   "execution_count": 113,
   "id": "8f87c178",
   "metadata": {},
   "outputs": [
    {
     "name": "stdout",
     "output_type": "stream",
     "text": [
      "{'LV': 'lv', 'Gucci': 'gucci'} {'LV': 'lv', 'Gucci': 'gucci'} {'LV': 'lv', 'Gucci': 'gucci'} {'LV': 'lv', 'Gucci': 'gucci'} {'LV': 'lv', 'Gucci': 'gucci', 'Couch': 'couch'} {'LV': 'lv', 'Gucci': 'gucci'}\n"
     ]
    }
   ],
   "source": [
    "#Five method to create a dictionary\n",
    "a = {'LV':'lv', 'Gucci': 'gucci'}\n",
    "b = dict(LV = 'lv', Gucci = 'gucci')\n",
    "c = dict([('LV', 'lv'), ('Gucci', 'gucci')])\n",
    "d = dict({'LV': 'lv', 'Gucci': 'gucci'})\n",
    "e = dict({'LV': 'lv', 'Gucci': 'gucci'}, Couch = 'couch')\n",
    "f = dict(zip(['LV', 'Gucci'], ['lv', 'gucci']))\n",
    "print(a,b,c,d,e,f)"
   ]
  },
  {
   "cell_type": "code",
   "execution_count": 122,
   "id": "d5815f84",
   "metadata": {},
   "outputs": [
    {
     "name": "stdout",
     "output_type": "stream",
     "text": [
      "{'l': 250, 'o': 250, 'v': 250, 'e': 250}\n"
     ]
    }
   ],
   "source": [
    "#Create a initial dict\n",
    "d = dict.fromkeys('love', 250)\n",
    "print(d)"
   ]
  },
  {
   "cell_type": "code",
   "execution_count": null,
   "id": "8d4213ed",
   "metadata": {},
   "outputs": [],
   "source": []
  },
  {
   "cell_type": "code",
   "execution_count": 115,
   "id": "efb4e6ef",
   "metadata": {},
   "outputs": [
    {
     "name": "stdout",
     "output_type": "stream",
     "text": [
      "{'l': 90, 'o': 250, 'v': 250, 'e': 250}\n"
     ]
    }
   ],
   "source": [
    "d['l']=90\n",
    "print(d)"
   ]
  },
  {
   "cell_type": "code",
   "execution_count": 116,
   "id": "d7e0dbff",
   "metadata": {},
   "outputs": [
    {
     "name": "stdout",
     "output_type": "stream",
     "text": [
      "{'l': 90, 'o': 250, 'v': 250, 'e': 250, 'i': 0}\n"
     ]
    }
   ],
   "source": [
    "d['i']=00#add new one\n",
    "print(d)"
   ]
  },
  {
   "cell_type": "code",
   "execution_count": 117,
   "id": "0f81aeea",
   "metadata": {},
   "outputs": [
    {
     "name": "stdout",
     "output_type": "stream",
     "text": [
      "{'l': 90, 'o': 250, 'v': 250, 'e': 250}\n"
     ]
    }
   ],
   "source": [
    "d.pop('i')#remove\n",
    "print(d)"
   ]
  },
  {
   "cell_type": "code",
   "execution_count": 119,
   "id": "81a4cb0a",
   "metadata": {},
   "outputs": [
    {
     "name": "stdout",
     "output_type": "stream",
     "text": [
      "{'l': 90, 'o': 250, 'v': 250}\n"
     ]
    }
   ],
   "source": [
    "d.popitem()#remove the last one\n",
    "print(d)"
   ]
  },
  {
   "cell_type": "code",
   "execution_count": 120,
   "id": "a7d4edb7",
   "metadata": {},
   "outputs": [
    {
     "name": "stdout",
     "output_type": "stream",
     "text": [
      "{'o': 250, 'v': 250}\n"
     ]
    }
   ],
   "source": [
    "del d['l']#remove the specific one\n",
    "print(d)"
   ]
  },
  {
   "cell_type": "code",
   "execution_count": 121,
   "id": "9fa40921",
   "metadata": {},
   "outputs": [
    {
     "ename": "NameError",
     "evalue": "name 'd' is not defined",
     "output_type": "error",
     "traceback": [
      "\u001b[0;31m---------------------------------------------------------------------------\u001b[0m",
      "\u001b[0;31mNameError\u001b[0m                                 Traceback (most recent call last)",
      "Input \u001b[0;32mIn [121]\u001b[0m, in \u001b[0;36m<cell line: 2>\u001b[0;34m()\u001b[0m\n\u001b[1;32m      1\u001b[0m \u001b[38;5;28;01mdel\u001b[39;00m d\u001b[38;5;66;03m#remove the whole dict\u001b[39;00m\n\u001b[0;32m----> 2\u001b[0m \u001b[38;5;28mprint\u001b[39m(\u001b[43md\u001b[49m)\n",
      "\u001b[0;31mNameError\u001b[0m: name 'd' is not defined"
     ]
    }
   ],
   "source": [
    "del d#remove the whole dict\n",
    "print(d)"
   ]
  },
  {
   "cell_type": "code",
   "execution_count": 123,
   "id": "354f6411",
   "metadata": {},
   "outputs": [
    {
     "name": "stdout",
     "output_type": "stream",
     "text": [
      "{}\n"
     ]
    }
   ],
   "source": [
    "d.clear()#remove all elements\n",
    "print(d)"
   ]
  },
  {
   "cell_type": "code",
   "execution_count": 124,
   "id": "fb73bacc",
   "metadata": {},
   "outputs": [
    {
     "name": "stdout",
     "output_type": "stream",
     "text": [
      "{'l': 250, 'o': 250, 'v': 250, 'e': 250}\n",
      "{'l': 1, 'o': 0, 'v': 250, 'e': 250}\n",
      "{'l': 1, 'o': 0, 'v': '2', 'e': '3'}\n"
     ]
    }
   ],
   "source": [
    "#Edit the dict\n",
    "d = dict.fromkeys('love', 250)\n",
    "print(d)\n",
    "d.update({'l':1, 'o':0})\n",
    "print(d)\n",
    "d.update(v ='2',e='3')\n",
    "print(d)"
   ]
  },
  {
   "cell_type": "code",
   "execution_count": 125,
   "id": "55b18394",
   "metadata": {},
   "outputs": [
    {
     "data": {
      "text/plain": [
       "'There is no key like this here.'"
      ]
     },
     "execution_count": 125,
     "metadata": {},
     "output_type": "execute_result"
    }
   ],
   "source": [
    "#Search\n",
    "d.get('c', 'There is no key like this here.')"
   ]
  },
  {
   "cell_type": "code",
   "execution_count": 128,
   "id": "345a108b",
   "metadata": {},
   "outputs": [
    {
     "name": "stdout",
     "output_type": "stream",
     "text": [
      "{'l': 1, 'o': 0, 'v': '2', 'e': '3', 'c': '99'}\n"
     ]
    },
    {
     "data": {
      "text/plain": [
       "1"
      ]
     },
     "execution_count": 128,
     "metadata": {},
     "output_type": "execute_result"
    }
   ],
   "source": [
    "#Search, and if there is no such key, then append this key\n",
    "d.setdefault('c', '99')\n",
    "print(d)\n",
    "d.setdefault('l', '99')"
   ]
  },
  {
   "cell_type": "code",
   "execution_count": 136,
   "id": "50ba342d",
   "metadata": {},
   "outputs": [
    {
     "name": "stdout",
     "output_type": "stream",
     "text": [
      "dict_keys(['l', 'o', 'v', 'e', 'c']) \n",
      " dict_values([1, 0, '2', '3', '99']) \n",
      " dict_items([('l', 1), ('o', 0), ('v', '2'), ('e', '3'), ('c', '99')])\n",
      "dict_keys(['l', 'o', 'v', 'e']) \n",
      " dict_values([1, 0, '2', '3']) \n",
      " dict_items([('l', 1), ('o', 0), ('v', '2'), ('e', '3')])\n"
     ]
    }
   ],
   "source": [
    "#values, keys and items of a dictionary, i.e. three pointers\n",
    "keys = d.keys()\n",
    "values = d.values()\n",
    "items = d.items()\n",
    "print(keys,'\\n',values,'\\n',items)\n",
    "d.pop('c')\n",
    "print(keys,'\\n',values,'\\n',items)"
   ]
  },
  {
   "cell_type": "code",
   "execution_count": 138,
   "id": "3bf3a2ce",
   "metadata": {},
   "outputs": [
    {
     "name": "stdout",
     "output_type": "stream",
     "text": [
      "{'l': 250, 'o': 250, 'v': 250, 'e': 250}\n",
      "{'l': 1, 'o': 0, 'v': 250, 'e': 250}\n",
      "{'l': 1, 'o': 0, 'v': '2', 'e': '3'}\n",
      "{1: 'l', 0: 'o', '2': 'v', '3': 'e'}\n"
     ]
    }
   ],
   "source": [
    "#swap the keys with values\n",
    "d = dict.fromkeys('love', 250)\n",
    "print(d)\n",
    "d.update({'l':1, 'o':0})\n",
    "print(d)\n",
    "d.update(v ='2',e='3')\n",
    "print(d)\n",
    "d = {v:k for k,v in d.items()}\n",
    "print(d)"
   ]
  },
  {
   "cell_type": "code",
   "execution_count": 139,
   "id": "9b93e20a",
   "metadata": {},
   "outputs": [
    {
     "name": "stdout",
     "output_type": "stream",
     "text": [
      "{1: 6, 3: 6, 5: 6}\n"
     ]
    }
   ],
   "source": [
    "#Remark: each key in a dictionary should have a unique value\n",
    "d = {x:y for x in [1,3,5] for y in [2,4,6]}\n",
    "print(d)"
   ]
  },
  {
   "cell_type": "code",
   "execution_count": 1,
   "id": "48bc5833",
   "metadata": {},
   "outputs": [
    {
     "data": {
      "text/plain": [
       "{'L', 'e', 'o', 'v'}"
      ]
     },
     "execution_count": 1,
     "metadata": {},
     "output_type": "execute_result"
    }
   ],
   "source": [
    "#Set (no order)\n",
    "{s for s in 'Love'}\n",
    "{'L', 'o', 'v', 'e'}\n",
    "set('Love')"
   ]
  },
  {
   "cell_type": "code",
   "execution_count": 4,
   "id": "1d718a7f",
   "metadata": {},
   "outputs": [
    {
     "data": {
      "text/plain": [
       "False"
      ]
     },
     "execution_count": 4,
     "metadata": {},
     "output_type": "execute_result"
    }
   ],
   "source": [
    "#We can use set to de-duplicate the orginal set\n",
    "s = [1,1,2,3,5]\n",
    "len(s) == len(set(s))"
   ]
  },
  {
   "cell_type": "code",
   "execution_count": 5,
   "id": "f659d630",
   "metadata": {},
   "outputs": [
    {
     "data": {
      "text/plain": [
       "{1, '2', '3', 'e', 'l', 'o', 'v'}"
      ]
     },
     "execution_count": 5,
     "metadata": {},
     "output_type": "execute_result"
    }
   ],
   "source": [
    "s = set(\"love\")\n",
    "s.update([1,1], '23')\n",
    "s"
   ]
  },
  {
   "cell_type": "code",
   "execution_count": 6,
   "id": "78d23a49",
   "metadata": {
    "scrolled": true
   },
   "outputs": [
    {
     "ename": "TypeError",
     "evalue": "symmetric_difference_update() takes exactly one argument (0 given)",
     "output_type": "error",
     "traceback": [
      "\u001b[0;31m---------------------------------------------------------------------------\u001b[0m",
      "\u001b[0;31mTypeError\u001b[0m                                 Traceback (most recent call last)",
      "Input \u001b[0;32mIn [6]\u001b[0m, in \u001b[0;36m<cell line: 3>\u001b[0;34m()\u001b[0m\n\u001b[1;32m      1\u001b[0m s\u001b[38;5;241m.\u001b[39mintersection_update()\n\u001b[1;32m      2\u001b[0m s\u001b[38;5;241m.\u001b[39mdifference_update()\n\u001b[0;32m----> 3\u001b[0m \u001b[43ms\u001b[49m\u001b[38;5;241;43m.\u001b[39;49m\u001b[43msymmetric_difference_update\u001b[49m\u001b[43m(\u001b[49m\u001b[43m)\u001b[49m\n",
      "\u001b[0;31mTypeError\u001b[0m: symmetric_difference_update() takes exactly one argument (0 given)"
     ]
    }
   ],
   "source": [
    "s.intersection_update()\n",
    "s.difference_update()\n",
    "s.symmetric_difference_update()"
   ]
  },
  {
   "cell_type": "code",
   "execution_count": 8,
   "id": "8c1ae424",
   "metadata": {},
   "outputs": [
    {
     "data": {
      "text/plain": [
       "{1, '2', '3', '45', 'e', 'l', 'o', 'v'}"
      ]
     },
     "execution_count": 8,
     "metadata": {},
     "output_type": "execute_result"
    }
   ],
   "source": [
    "#Rmk update is appending each char into the set, but add is keeping the whole thing and adding it into the set.\n",
    "s.add('45')\n",
    "s"
   ]
  },
  {
   "cell_type": "code",
   "execution_count": 7,
   "id": "1a3bd237",
   "metadata": {},
   "outputs": [
    {
     "ename": "AttributeError",
     "evalue": "'frozenset' object has no attribute 'update'",
     "output_type": "error",
     "traceback": [
      "\u001b[0;31m---------------------------------------------------------------------------\u001b[0m",
      "\u001b[0;31mAttributeError\u001b[0m                            Traceback (most recent call last)",
      "Input \u001b[0;32mIn [7]\u001b[0m, in \u001b[0;36m<cell line: 2>\u001b[0;34m()\u001b[0m\n\u001b[1;32m      1\u001b[0m t \u001b[38;5;241m=\u001b[39m \u001b[38;5;28mfrozenset\u001b[39m(\u001b[38;5;124m'\u001b[39m\u001b[38;5;124mlove\u001b[39m\u001b[38;5;124m'\u001b[39m)\u001b[38;5;66;03m#frozenset is unchangeable\u001b[39;00m\n\u001b[0;32m----> 2\u001b[0m \u001b[43mt\u001b[49m\u001b[38;5;241;43m.\u001b[39;49m\u001b[43mupdate\u001b[49m([\u001b[38;5;241m1\u001b[39m,\u001b[38;5;241m1\u001b[39m])\n",
      "\u001b[0;31mAttributeError\u001b[0m: 'frozenset' object has no attribute 'update'"
     ]
    }
   ],
   "source": [
    "t = frozenset('love')#frozenset is unchangeable\n",
    "t.update([1,1])"
   ]
  },
  {
   "cell_type": "code",
   "execution_count": 10,
   "id": "efbf3a8b",
   "metadata": {},
   "outputs": [
    {
     "ename": "KeyError",
     "evalue": "'l'",
     "output_type": "error",
     "traceback": [
      "\u001b[0;31m---------------------------------------------------------------------------\u001b[0m",
      "\u001b[0;31mKeyError\u001b[0m                                  Traceback (most recent call last)",
      "Input \u001b[0;32mIn [10]\u001b[0m, in \u001b[0;36m<cell line: 2>\u001b[0;34m()\u001b[0m\n\u001b[1;32m      1\u001b[0m \u001b[38;5;66;03m#Delete an element\u001b[39;00m\n\u001b[0;32m----> 2\u001b[0m \u001b[43ms\u001b[49m\u001b[38;5;241;43m.\u001b[39;49m\u001b[43mremove\u001b[49m\u001b[43m(\u001b[49m\u001b[38;5;124;43m'\u001b[39;49m\u001b[38;5;124;43ml\u001b[39;49m\u001b[38;5;124;43m'\u001b[39;49m\u001b[43m)\u001b[49m\u001b[38;5;66;03m#if there is no such element, then it will return an error.\u001b[39;00m\n\u001b[1;32m      3\u001b[0m \u001b[38;5;28mprint\u001b[39m(s)\n\u001b[1;32m      4\u001b[0m s\u001b[38;5;241m.\u001b[39mdiscard(\u001b[38;5;124m'\u001b[39m\u001b[38;5;124mo\u001b[39m\u001b[38;5;124m'\u001b[39m)\u001b[38;5;66;03m#if there is no such element, then it won't return an error.\u001b[39;00m\n",
      "\u001b[0;31mKeyError\u001b[0m: 'l'"
     ]
    }
   ],
   "source": [
    "#Delete an element\n",
    "s.remove('l')#if there is no such element, then it will return an error.\n",
    "print(s)\n",
    "s.discard('o')#if there is no such element, then it won't return an error.\n",
    "print(s)\n",
    "s.pop()#randomly return an element in the set and delete it.\n",
    "print(s)\n",
    "s.clear()\n",
    "print(s)"
   ]
  },
  {
   "cell_type": "code",
   "execution_count": 11,
   "id": "b5a44c51",
   "metadata": {},
   "outputs": [
    {
     "name": "stdout",
     "output_type": "stream",
     "text": [
      "There are totally 645 matches.\n",
      "The seaching process totally costs 76.74377480200019 seconds.\n"
     ]
    }
   ],
   "source": [
    "import random\n",
    "import timeit\n",
    "\n",
    "haystack = [random.randint(1, 10000000) for i in range(10000000)]\n",
    "needles = [random.randint(1, 1000) for i in range(1000)]\n",
    "\n",
    "def find():\n",
    "    found = 0\n",
    "    for each in needles:\n",
    "        if each in haystack:\n",
    "            found +=1\n",
    "            \n",
    "    print(f'There are totally {found} matches.')\n",
    "    \n",
    "t = timeit.timeit('find()', setup = 'from __main__ import find', number = 1)\n",
    "print(f'The seaching process totally costs {t} seconds.')"
   ]
  },
  {
   "cell_type": "code",
   "execution_count": 13,
   "id": "b5a6c45b",
   "metadata": {},
   "outputs": [
    {
     "name": "stdout",
     "output_type": "stream",
     "text": [
      "There are totally 642 matches.\n",
      "The seaching process totally costs 91.12786895999989 seconds.\n",
      "There are totally 642 matches.\n",
      "The seaching process totally costs 0.00014873999998599174 seconds.\n"
     ]
    }
   ],
   "source": [
    "import random\n",
    "import timeit\n",
    "\n",
    "haystack = [random.randint(1, 10000000) for i in range(10000000)]\n",
    "needles = [random.randint(1, 1000) for i in range(1000)]\n",
    "haystack1 = set(haystack)\n",
    "\n",
    "def find1():\n",
    "    found1 = 0\n",
    "    for each in needles:\n",
    "        if each in haystack1:\n",
    "            found1 +=1\n",
    "            \n",
    "    print(f'There are totally {found1} matches.')\n",
    "    \n",
    "t = timeit.timeit('find()', setup = 'from __main__ import find', number = 1)\n",
    "print(f'The seaching process totally costs {t} seconds.')\n",
    "t1 = timeit.timeit('find1()', setup = 'from __main__ import find1', number = 1)\n",
    "print(f'The seaching process totally costs {t1} seconds.')"
   ]
  },
  {
   "cell_type": "code",
   "execution_count": 15,
   "id": "cae440f6",
   "metadata": {},
   "outputs": [],
   "source": [
    "def myfunc():\n",
    "    pass\n",
    "myfunc()"
   ]
  },
  {
   "cell_type": "code",
   "execution_count": 16,
   "id": "b177eb0f",
   "metadata": {},
   "outputs": [
    {
     "name": "stdout",
     "output_type": "stream",
     "text": [
      "0\n",
      "1\n",
      "2\n"
     ]
    }
   ],
   "source": [
    "def myfunc():\n",
    "    for i in range(3):\n",
    "        print(i)\n",
    "myfunc()"
   ]
  },
  {
   "cell_type": "code",
   "execution_count": 18,
   "id": "cd82f1b3",
   "metadata": {},
   "outputs": [
    {
     "name": "stdout",
     "output_type": "stream",
     "text": [
      "jj\n",
      "jj\n",
      "jj\n"
     ]
    }
   ],
   "source": [
    "def myfunc(name):\n",
    "    for i in range(3):\n",
    "        print(name)\n",
    "myfunc('jj')"
   ]
  },
  {
   "cell_type": "code",
   "execution_count": 19,
   "id": "248b6478",
   "metadata": {},
   "outputs": [
    {
     "name": "stdout",
     "output_type": "stream",
     "text": [
      "jj\n",
      "jj\n",
      "jj\n",
      "jj\n",
      "jj\n"
     ]
    }
   ],
   "source": [
    "def myfunc(name, times):\n",
    "    for i in range(times):\n",
    "        print(name)\n",
    "myfunc('jj', 5)"
   ]
  },
  {
   "cell_type": "code",
   "execution_count": 23,
   "id": "0a541b88",
   "metadata": {},
   "outputs": [
    {
     "name": "stdout",
     "output_type": "stream",
     "text": [
      "Error!\n"
     ]
    }
   ],
   "source": [
    "def div(x, y):\n",
    "    z = x / y if y != 0 else print(\"Error!\") \n",
    "    return z\n",
    "div(4, 0)"
   ]
  },
  {
   "cell_type": "code",
   "execution_count": 26,
   "id": "206ce4d0",
   "metadata": {},
   "outputs": [
    {
     "data": {
      "text/plain": [
       "'Error'"
      ]
     },
     "execution_count": 26,
     "metadata": {},
     "output_type": "execute_result"
    }
   ],
   "source": [
    "def div(x, y):\n",
    "    if y != 0:\n",
    "        z = x/y\n",
    "        return z\n",
    "    else:\n",
    "        return 'Error'\n",
    "div(4, 0)"
   ]
  },
  {
   "cell_type": "code",
   "execution_count": 30,
   "id": "1347ff97",
   "metadata": {},
   "outputs": [
    {
     "name": "stdout",
     "output_type": "stream",
     "text": [
      "Help on built-in function sum in module builtins:\n",
      "\n",
      "sum(iterable, /, start=0)\n",
      "    Return the sum of a 'start' value (default: 0) plus an iterable of numbers\n",
      "    \n",
      "    When the iterable is empty, return the start value.\n",
      "    This function is intended specifically for use with numeric values and may\n",
      "    reject non-numeric types.\n",
      "\n",
      "16\n",
      "16\n"
     ]
    }
   ],
   "source": [
    "help(sum)\n",
    "#'/' left should be value without specific parameter's name\n",
    "#'/' right can use value with or without specific parameter's name\n",
    "#Eg\n",
    "print(sum([1,2,3], 10))\n",
    "print(sum([1,2,3], start = 10))\n",
    "print(sum(iterable = [1,2,3], start = 10))#Error"
   ]
  },
  {
   "cell_type": "code",
   "execution_count": 31,
   "id": "a3d2e796",
   "metadata": {},
   "outputs": [
    {
     "name": "stdout",
     "output_type": "stream",
     "text": [
      "0\n"
     ]
    },
    {
     "ename": "TypeError",
     "evalue": "abc() got some positional-only arguments passed as keyword arguments: 'a'",
     "output_type": "error",
     "traceback": [
      "\u001b[0;31m---------------------------------------------------------------------------\u001b[0m",
      "\u001b[0;31mTypeError\u001b[0m                                 Traceback (most recent call last)",
      "Input \u001b[0;32mIn [31]\u001b[0m, in \u001b[0;36m<cell line: 6>\u001b[0;34m()\u001b[0m\n\u001b[1;32m      4\u001b[0m     \u001b[38;5;28;01mreturn\u001b[39;00m z\n\u001b[1;32m      5\u001b[0m \u001b[38;5;28mprint\u001b[39m(abc(\u001b[38;5;241m1\u001b[39m, b \u001b[38;5;241m=\u001b[39m \u001b[38;5;241m2\u001b[39m, c \u001b[38;5;241m=\u001b[39m \u001b[38;5;241m3\u001b[39m))\n\u001b[0;32m----> 6\u001b[0m \u001b[38;5;28mprint\u001b[39m(\u001b[43mabc\u001b[49m\u001b[43m(\u001b[49m\u001b[43ma\u001b[49m\u001b[38;5;241;43m=\u001b[39;49m\u001b[38;5;241;43m1\u001b[39;49m\u001b[43m,\u001b[49m\u001b[43mb\u001b[49m\u001b[38;5;241;43m=\u001b[39;49m\u001b[38;5;241;43m2\u001b[39;49m\u001b[43m,\u001b[49m\u001b[43mc\u001b[49m\u001b[38;5;241;43m=\u001b[39;49m\u001b[38;5;241;43m3\u001b[39;49m\u001b[43m)\u001b[49m)\n",
      "\u001b[0;31mTypeError\u001b[0m: abc() got some positional-only arguments passed as keyword arguments: 'a'"
     ]
    }
   ],
   "source": [
    "#So when we construct a new function, we can also use '/' to specify which parameters can be mentioned, which cannot.\n",
    "def abc(a, /, b, c):\n",
    "    z = a + b - c\n",
    "    return z\n",
    "print(abc(1, b = 2, c = 3))\n",
    "print(abc(a=1,b=2,c=3))#Error"
   ]
  },
  {
   "cell_type": "code",
   "execution_count": 33,
   "id": "5b8e0661",
   "metadata": {},
   "outputs": [
    {
     "name": "stdout",
     "output_type": "stream",
     "text": [
      "0\n",
      "0\n"
     ]
    },
    {
     "ename": "TypeError",
     "evalue": "abc() takes 1 positional argument but 3 were given",
     "output_type": "error",
     "traceback": [
      "\u001b[0;31m---------------------------------------------------------------------------\u001b[0m",
      "\u001b[0;31mTypeError\u001b[0m                                 Traceback (most recent call last)",
      "Input \u001b[0;32mIn [33]\u001b[0m, in \u001b[0;36m<cell line: 9>\u001b[0;34m()\u001b[0m\n\u001b[1;32m      7\u001b[0m \u001b[38;5;28mprint\u001b[39m(abc(a\u001b[38;5;241m=\u001b[39m\u001b[38;5;241m1\u001b[39m,b\u001b[38;5;241m=\u001b[39m\u001b[38;5;241m2\u001b[39m,c\u001b[38;5;241m=\u001b[39m\u001b[38;5;241m3\u001b[39m))\n\u001b[1;32m      8\u001b[0m \u001b[38;5;28mprint\u001b[39m(abc(\u001b[38;5;241m1\u001b[39m, b \u001b[38;5;241m=\u001b[39m \u001b[38;5;241m2\u001b[39m, c \u001b[38;5;241m=\u001b[39m \u001b[38;5;241m3\u001b[39m))\n\u001b[0;32m----> 9\u001b[0m \u001b[38;5;28mprint\u001b[39m(\u001b[43mabc\u001b[49m\u001b[43m(\u001b[49m\u001b[38;5;241;43m1\u001b[39;49m\u001b[43m,\u001b[49m\u001b[43m \u001b[49m\u001b[38;5;241;43m2\u001b[39;49m\u001b[43m,\u001b[49m\u001b[43m \u001b[49m\u001b[38;5;241;43m3\u001b[39;49m\u001b[43m)\u001b[49m)\n",
      "\u001b[0;31mTypeError\u001b[0m: abc() takes 1 positional argument but 3 were given"
     ]
    }
   ],
   "source": [
    "#Using '*' to specify which parameters have to be mentioned. '*' leftside can be both of them, but rightside only\n",
    "#can be mentioned with their names.\n",
    "def abc(a, *, b, c):\n",
    "    z = a + b - c\n",
    "    return z\n",
    "\n",
    "print(abc(a=1,b=2,c=3))\n",
    "print(abc(1, b = 2, c = 3))\n",
    "print(abc(1, 2, 3))#Error"
   ]
  },
  {
   "cell_type": "code",
   "execution_count": 37,
   "id": "08b35958",
   "metadata": {},
   "outputs": [
    {
     "name": "stdout",
     "output_type": "stream",
     "text": [
      "There are totally 4 input values\n",
      "The second input value is 2\n",
      "There are totally 1 input values\n"
     ]
    }
   ],
   "source": [
    "#Using '*' to define a collection parameter, i.e. this parameter doesn't care about the number of input values.\n",
    "#It's essense is using the tuple structure.\n",
    "def myfunc(*args):\n",
    "    print('There are totally {} input values'.format(len(args)))\n",
    "    if len(args) >= 2:\n",
    "        print('The second input value is {}'.format(args[1]))\n",
    "    \n",
    "myfunc(1,2,3,4)\n",
    "myfunc(1)"
   ]
  },
  {
   "cell_type": "code",
   "execution_count": 42,
   "id": "e96a5bb8",
   "metadata": {},
   "outputs": [
    {
     "name": "stdout",
     "output_type": "stream",
     "text": [
      "1 2 3\n",
      "4 5 6\n",
      "8 9 7\n"
     ]
    }
   ],
   "source": [
    "x,y,z = [1,2,3]#list, ordered\n",
    "print(x,y,z)\n",
    "x,y,z = (4,5,6)#tuple, ordered\n",
    "print(x,y,z)\n",
    "x,y,z = {7,8,9}#set, disordered\n",
    "print(x,y,z)"
   ]
  },
  {
   "cell_type": "code",
   "execution_count": 43,
   "id": "4224bdc1",
   "metadata": {},
   "outputs": [
    {
     "name": "stdout",
     "output_type": "stream",
     "text": [
      "1 2 (3, 4, 5)\n"
     ]
    }
   ],
   "source": [
    "#Method 1:\n",
    "def myfunc(a,b,*args):\n",
    "    print(a,b,args)\n",
    "myfunc(1,2,3,4,5)"
   ]
  },
  {
   "cell_type": "code",
   "execution_count": 44,
   "id": "d8b2c8df",
   "metadata": {},
   "outputs": [
    {
     "name": "stdout",
     "output_type": "stream",
     "text": [
      "4 5 (1, 2, 3)\n"
     ]
    }
   ],
   "source": [
    "#Method 2:\n",
    "def myfunc(*args,a,b):\n",
    "    print(a,b,args)\n",
    "myfunc(1,2,3,a=4,b=5)"
   ]
  },
  {
   "cell_type": "code",
   "execution_count": 45,
   "id": "3b5060b9",
   "metadata": {},
   "outputs": [
    {
     "ename": "TypeError",
     "evalue": "myfunc() missing 2 required keyword-only arguments: 'a' and 'b'",
     "output_type": "error",
     "traceback": [
      "\u001b[0;31m---------------------------------------------------------------------------\u001b[0m",
      "\u001b[0;31mTypeError\u001b[0m                                 Traceback (most recent call last)",
      "Input \u001b[0;32mIn [45]\u001b[0m, in \u001b[0;36m<cell line: 4>\u001b[0;34m()\u001b[0m\n\u001b[1;32m      2\u001b[0m \u001b[38;5;28;01mdef\u001b[39;00m \u001b[38;5;21mmyfunc\u001b[39m(\u001b[38;5;241m*\u001b[39margs,a,b):\n\u001b[1;32m      3\u001b[0m     \u001b[38;5;28mprint\u001b[39m(a,b,args)\n\u001b[0;32m----> 4\u001b[0m \u001b[43mmyfunc\u001b[49m\u001b[43m(\u001b[49m\u001b[38;5;241;43m1\u001b[39;49m\u001b[43m,\u001b[49m\u001b[38;5;241;43m2\u001b[39;49m\u001b[43m,\u001b[49m\u001b[38;5;241;43m3\u001b[39;49m\u001b[43m,\u001b[49m\u001b[38;5;241;43m4\u001b[39;49m\u001b[43m,\u001b[49m\u001b[38;5;241;43m5\u001b[39;49m\u001b[43m)\u001b[49m\n",
      "\u001b[0;31mTypeError\u001b[0m: myfunc() missing 2 required keyword-only arguments: 'a' and 'b'"
     ]
    }
   ],
   "source": [
    "#Error one\n",
    "def myfunc(*args,a,b):\n",
    "    print(a,b,args)\n",
    "myfunc(1,2,3,4,5)"
   ]
  },
  {
   "cell_type": "code",
   "execution_count": 47,
   "id": "4395a772",
   "metadata": {
    "scrolled": true
   },
   "outputs": [
    {
     "name": "stdout",
     "output_type": "stream",
     "text": [
      "{'a': 1, 'b': 2}\n"
     ]
    },
    {
     "data": {
      "text/plain": [
       "dict"
      ]
     },
     "execution_count": 47,
     "metadata": {},
     "output_type": "execute_result"
    }
   ],
   "source": [
    "#Construct a function using dictionary instead of tuple\n",
    "def myfunc(**kwargs):\n",
    "    print(kwargs)\n",
    "    return(kwargs)\n",
    "type(myfunc(a=1,b=2))"
   ]
  },
  {
   "cell_type": "code",
   "execution_count": 49,
   "id": "fffa7923",
   "metadata": {
    "scrolled": true
   },
   "outputs": [
    {
     "name": "stdout",
     "output_type": "stream",
     "text": [
      "1 \n",
      " (2, 3, 4) \n",
      " {'ki': 19}\n"
     ]
    }
   ],
   "source": [
    "#Mixed one\n",
    "def myfunc(a, *b, **c):\n",
    "    print(a,'\\n',b,'\\n',c)\n",
    "myfunc(1,2,3,4, ki=19)"
   ]
  },
  {
   "cell_type": "code",
   "execution_count": 52,
   "id": "c58fd8ad",
   "metadata": {},
   "outputs": [
    {
     "name": "stdout",
     "output_type": "stream",
     "text": [
      "Help on method_descriptor:\n",
      "\n",
      "format(...)\n",
      "    S.format(*args, **kwargs) -> str\n",
      "    \n",
      "    Return a formatted version of S, using substitutions from args and kwargs.\n",
      "    The substitutions are identified by braces ('{' and '}').\n",
      "\n"
     ]
    }
   ],
   "source": [
    "help(str.format)"
   ]
  },
  {
   "cell_type": "code",
   "execution_count": 54,
   "id": "7ec28ba8",
   "metadata": {},
   "outputs": [
    {
     "name": "stdout",
     "output_type": "stream",
     "text": [
      "1 2 3 4\n",
      "1 2 3 4\n"
     ]
    }
   ],
   "source": [
    "#Decode and pass the parameters\n",
    "def myfunc(a,b,c,d):\n",
    "    print(a,b,c,d)\n",
    "\n",
    "#For tuples\n",
    "args = (1,2,3,4)\n",
    "#myfunc(args)#Error\n",
    "myfunc(*args)\n",
    "\n",
    "#For dictionary\n",
    "kwargs = dict(a=1,b=2,c=3,d=4)\n",
    "#myfunc(kwargs)#Error\n",
    "myfunc(**kwargs)"
   ]
  },
  {
   "cell_type": "code",
   "execution_count": 55,
   "id": "424a04b1",
   "metadata": {},
   "outputs": [
    {
     "name": "stdout",
     "output_type": "stream",
     "text": [
      "520\n",
      "520\n"
     ]
    }
   ],
   "source": [
    "#Create or edit a global variable in a function\n",
    "x = 888\n",
    "def myfunc():\n",
    "    global x\n",
    "    x = 520\n",
    "    print(x)\n",
    "myfunc()\n",
    "print(x)"
   ]
  },
  {
   "cell_type": "code",
   "execution_count": 57,
   "id": "984ca225",
   "metadata": {},
   "outputs": [
    {
     "name": "stdout",
     "output_type": "stream",
     "text": [
      "520\n",
      "880\n",
      "880\n"
     ]
    }
   ],
   "source": [
    "#Using 'nonlocal' to edit the variable in outer shell\n",
    "def funA():\n",
    "    x = 520\n",
    "    print(x)\n",
    "    def funB():\n",
    "        nonlocal x\n",
    "        x = 880\n",
    "        print(x)\n",
    "    funB()\n",
    "    print(x)\n",
    "\n",
    "funA()    "
   ]
  },
  {
   "cell_type": "code",
   "execution_count": 62,
   "id": "53b7b4d6",
   "metadata": {},
   "outputs": [
    {
     "name": "stdout",
     "output_type": "stream",
     "text": [
      "880\n"
     ]
    }
   ],
   "source": [
    "def funC():\n",
    "    def funD():\n",
    "        x = 880\n",
    "        print(x)\n",
    "    return funD\n",
    "\n",
    "funC()()    "
   ]
  },
  {
   "cell_type": "code",
   "execution_count": 65,
   "id": "35274298",
   "metadata": {},
   "outputs": [
    {
     "name": "stdout",
     "output_type": "stream",
     "text": [
      "start...\n",
      "loading...\n",
      "end.\n"
     ]
    }
   ],
   "source": [
    "def myfunc():\n",
    "    print('loading...')\n",
    "\n",
    "def report(func):\n",
    "    print('start...')\n",
    "    func()\n",
    "    print('end.')\n",
    "    \n",
    "report(myfunc)"
   ]
  },
  {
   "cell_type": "code",
   "execution_count": 70,
   "id": "e68ae8c4",
   "metadata": {},
   "outputs": [
    {
     "name": "stdout",
     "output_type": "stream",
     "text": [
      "start\n",
      "I love you.\n",
      "end\n",
      "cost 2.00 seconds\n"
     ]
    }
   ],
   "source": [
    "import time\n",
    "\n",
    "def time_master(func):\n",
    "    def call_func():\n",
    "        print('start')\n",
    "        start = time.time()\n",
    "        func()\n",
    "        stop = time.time()\n",
    "        print('end')\n",
    "        print(f\"cost {(stop-start):.2f} seconds\")\n",
    "    return call_func\n",
    "    \n",
    "@time_master\n",
    "def myfunc():\n",
    "    time.sleep(2)\n",
    "    print('I love you.')\n",
    "\n",
    "myfunc()"
   ]
  },
  {
   "cell_type": "code",
   "execution_count": 75,
   "id": "f9c494e4",
   "metadata": {},
   "outputs": [
    {
     "data": {
      "text/plain": [
       "65"
      ]
     },
     "execution_count": 75,
     "metadata": {},
     "output_type": "execute_result"
    }
   ],
   "source": [
    "def add(func):\n",
    "    def inner():\n",
    "        x = func()\n",
    "        return x+1\n",
    "    return inner\n",
    "\n",
    "def cube(func):\n",
    "    def inner():\n",
    "        x = func()\n",
    "        return x ** 3\n",
    "    return inner\n",
    "\n",
    "def square(func):\n",
    "    def inner():\n",
    "        x = func()\n",
    "        return x ** 2\n",
    "    return inner\n",
    "\n",
    "@add\n",
    "@cube\n",
    "@square\n",
    "def test():\n",
    "    return 2\n",
    "\n",
    "test()\n",
    "#The calculation is firstly 'add', then 'cube', and finally 'square'."
   ]
  },
  {
   "cell_type": "code",
   "execution_count": 79,
   "id": "2cf990f4",
   "metadata": {},
   "outputs": [
    {
     "name": "stdout",
     "output_type": "stream",
     "text": [
      "I love you.\n",
      "A cost 2.00 seconds\n"
     ]
    }
   ],
   "source": [
    "#With one more shell 'call_func()'\n",
    "\n",
    "import time\n",
    "\n",
    "def mes(m):\n",
    "    def time_master(func):\n",
    "        def call_func():\n",
    "            start = time.time()\n",
    "            func()\n",
    "            stop = time.time()\n",
    "            print(f\"{m} cost {(stop-start):.2f} seconds\")\n",
    "        return call_func\n",
    "    return time_master\n",
    "\n",
    "@mes('A')\n",
    "def myfunc():\n",
    "    time.sleep(2)\n",
    "    print('I love you.')\n",
    "    \n",
    "myfunc()"
   ]
  },
  {
   "cell_type": "code",
   "execution_count": 81,
   "id": "32b49e99",
   "metadata": {},
   "outputs": [
    {
     "name": "stdout",
     "output_type": "stream",
     "text": [
      "I love you.\n",
      "A cost 2.00 seconds\n"
     ]
    }
   ],
   "source": [
    "#Without one more shell 'call_func()'\n",
    "\n",
    "import time\n",
    "\n",
    "def mes(m):\n",
    "    def time_master(func):\n",
    "        start = time.time()\n",
    "        func()\n",
    "        stop = time.time()\n",
    "        print(f\"{m} cost {(stop-start):.2f} seconds\")\n",
    "    return time_master\n",
    "\n",
    "@mes('A')\n",
    "def myfunc():\n",
    "    time.sleep(2)\n",
    "    print('I love you.')\n",
    "    \n",
    "myfunc"
   ]
  },
  {
   "cell_type": "code",
   "execution_count": 84,
   "id": "cf426e1d",
   "metadata": {},
   "outputs": [
    {
     "data": {
      "text/plain": [
       "4"
      ]
     },
     "execution_count": 84,
     "metadata": {},
     "output_type": "execute_result"
    }
   ],
   "source": [
    "square = lambda y : y**2\n",
    "square(2) "
   ]
  },
  {
   "cell_type": "code",
   "execution_count": 86,
   "id": "a6840e5f",
   "metadata": {},
   "outputs": [
    {
     "name": "stdout",
     "output_type": "stream",
     "text": [
      "0\n",
      "1\n",
      "2\n",
      "3\n",
      "4\n",
      "5\n"
     ]
    }
   ],
   "source": [
    "#Generator 1\n",
    "def counter():\n",
    "    i = 0\n",
    "    while i <= 5:\n",
    "        yield i\n",
    "        i += 1 \n",
    "\n",
    "j = counter()\n",
    "for i in j:\n",
    "    print(i)"
   ]
  },
  {
   "cell_type": "code",
   "execution_count": 87,
   "id": "8bdcbde7",
   "metadata": {},
   "outputs": [
    {
     "name": "stdout",
     "output_type": "stream",
     "text": [
      "0\n",
      "1\n",
      "4\n",
      "9\n",
      "16\n",
      "25\n",
      "36\n",
      "49\n",
      "64\n",
      "81\n"
     ]
    }
   ],
   "source": [
    "#Generator 2\n",
    "t = (i ** 2 for i in range(10))\n",
    "for i in t:\n",
    "    print(i)\n"
   ]
  },
  {
   "cell_type": "code",
   "execution_count": 3,
   "id": "bc0f2208",
   "metadata": {},
   "outputs": [
    {
     "name": "stdout",
     "output_type": "stream",
     "text": [
      "Layers of hano:3\n",
      "A --> C\n",
      "A --> B\n",
      "C --> B\n",
      "A --> C\n",
      "B --> A\n",
      "B --> C\n",
      "A --> C\n"
     ]
    }
   ],
   "source": [
    "def hano(n, x, y, z):\n",
    "    if n == 1:\n",
    "        print(x, '-->', z)\n",
    "    else:\n",
    "        hano(n-1, x, z, y)\n",
    "        print(x, '-->', z)\n",
    "        hano(n-1, y, x, z)\n",
    "    \n",
    "temp = input('Layers of hano:')\n",
    "num = int(temp)\n",
    "hano(num, 'A', 'B', 'C')"
   ]
  },
  {
   "cell_type": "code",
   "execution_count": 4,
   "id": "72c6e252",
   "metadata": {},
   "outputs": [
    {
     "data": {
      "text/plain": [
       "6.32"
      ]
     },
     "execution_count": 4,
     "metadata": {},
     "output_type": "execute_result"
    }
   ],
   "source": [
    "#Adding the definition of a defined function\n",
    "def exchange(dollar, rate = 6.32):\n",
    "    \"\"\"\n",
    "    function: convert USD to RMB\n",
    "    dollar: amount of USD\n",
    "    rate: exchange rate\n",
    "    \"\"\"\n",
    "    return dollar*rate\n",
    "\n",
    "exchange(1)"
   ]
  },
  {
   "cell_type": "code",
   "execution_count": 5,
   "id": "568de631",
   "metadata": {},
   "outputs": [
    {
     "data": {
      "text/plain": [
       "'LoveLoveLove'"
      ]
     },
     "execution_count": 5,
     "metadata": {},
     "output_type": "execute_result"
    }
   ],
   "source": [
    "def times(s:str, n:int) -> str:\n",
    "    return s*n\n",
    "#Here 's:str' means the input type of s should be str (not mandatory, just recommended), 'n:int' menas the input \n",
    "#type of n should be integer, and '-> str:' will return a string.\n",
    "\n",
    "times('Love', 3)"
   ]
  },
  {
   "cell_type": "code",
   "execution_count": 11,
   "id": "492c4ae3",
   "metadata": {},
   "outputs": [
    {
     "data": {
      "text/plain": [
       "['L', 'o', 'v', 'e', 'L', 'o', 'v', 'e', 'L', 'o', 'v', 'e']"
      ]
     },
     "execution_count": 11,
     "metadata": {},
     "output_type": "execute_result"
    }
   ],
   "source": [
    "def times(s:list, n:int) -> list:\n",
    "    return s*n\n",
    "\n",
    "times(['L','o','v','e'], 3)"
   ]
  },
  {
   "cell_type": "code",
   "execution_count": 5,
   "id": "20b0f9c5",
   "metadata": {
    "scrolled": false
   },
   "outputs": [
    {
     "data": {
      "text/plain": [
       "[1, 2, 3, 1, 2, 3, 1, 2, 3, 1, 2, 3]"
      ]
     },
     "execution_count": 5,
     "metadata": {},
     "output_type": "execute_result"
    }
   ],
   "source": [
    "#Error, TBD, maybe because the edition is older\n",
    "#Fixed, updated to 3.9.12\n",
    "def times(s:list[int], n:int = 3) -> list:\n",
    "    return s*n\n",
    "times([1,2,3], 4)"
   ]
  },
  {
   "cell_type": "code",
   "execution_count": 4,
   "id": "1237c853",
   "metadata": {
    "scrolled": true
   },
   "outputs": [],
   "source": [
    "#Error, TBD\n",
    "#Fixed\n",
    "def times(s:dict[str, int], n:int) -> list:\n",
    "    return list(s.keys()) * n"
   ]
  },
  {
   "cell_type": "code",
   "execution_count": 19,
   "id": "f4db9374",
   "metadata": {},
   "outputs": [
    {
     "name": "stdout",
     "output_type": "stream",
     "text": [
      "Help on function exchange in module __main__:\n",
      "\n",
      "exchange(dollar, rate=6.32)\n",
      "    function: convert USD to RMB\n",
      "    dollar: amount of USD\n",
      "    rate: exchange rate\n",
      "\n"
     ]
    }
   ],
   "source": [
    "help(exchange)"
   ]
  },
  {
   "cell_type": "code",
   "execution_count": 20,
   "id": "4a4661c9",
   "metadata": {},
   "outputs": [
    {
     "name": "stdout",
     "output_type": "stream",
     "text": [
      "\n",
      "    function: convert USD to RMB\n",
      "    dollar: amount of USD\n",
      "    rate: exchange rate\n",
      "    \n"
     ]
    }
   ],
   "source": [
    "print(exchange.__doc__)"
   ]
  },
  {
   "cell_type": "code",
   "execution_count": 21,
   "id": "22d28e84",
   "metadata": {},
   "outputs": [
    {
     "data": {
      "text/plain": [
       "'exchange'"
      ]
     },
     "execution_count": 21,
     "metadata": {},
     "output_type": "execute_result"
    }
   ],
   "source": [
    "exchange.__name__"
   ]
  },
  {
   "cell_type": "code",
   "execution_count": 22,
   "id": "44397953",
   "metadata": {},
   "outputs": [
    {
     "data": {
      "text/plain": [
       "{}"
      ]
     },
     "execution_count": 22,
     "metadata": {},
     "output_type": "execute_result"
    }
   ],
   "source": [
    "exchange.__annotations__"
   ]
  },
  {
   "cell_type": "code",
   "execution_count": 2,
   "id": "b6824024",
   "metadata": {
    "scrolled": true
   },
   "outputs": [
    {
     "name": "stdout",
     "output_type": "stream",
     "text": [
      "3.9.12\n"
     ]
    }
   ],
   "source": [
    "from platform import python_version\n",
    "print(python_version())"
   ]
  },
  {
   "cell_type": "code",
   "execution_count": 12,
   "id": "89f41e24",
   "metadata": {},
   "outputs": [
    {
     "name": "stdout",
     "output_type": "stream",
     "text": [
      "3628800\n",
      "9\n"
     ]
    }
   ],
   "source": [
    "#Iteration function 'reduce'\n",
    "import functools\n",
    "a = functools.reduce(lambda x,y: x*y, range(1, 11))\n",
    "print(a)\n",
    "b = functools.reduce(lambda x,y: x+y, [1,3,5])\n",
    "print(b)"
   ]
  },
  {
   "cell_type": "code",
   "execution_count": 15,
   "id": "458dbc20",
   "metadata": {},
   "outputs": [
    {
     "name": "stdout",
     "output_type": "stream",
     "text": [
      "Help on built-in function pow in module builtins:\n",
      "\n",
      "pow(base, exp, mod=None)\n",
      "    Equivalent to base**exp with 2 arguments or base**exp % mod with 3 arguments\n",
      "    \n",
      "    Some types, such as ints, are able to use a more efficient algorithm when\n",
      "    invoked using the three argument form.\n",
      "\n"
     ]
    }
   ],
   "source": [
    "help(pow)"
   ]
  },
  {
   "cell_type": "code",
   "execution_count": 19,
   "id": "9f6817e1",
   "metadata": {},
   "outputs": [
    {
     "data": {
      "text/plain": [
       "9765625"
      ]
     },
     "execution_count": 19,
     "metadata": {},
     "output_type": "execute_result"
    }
   ],
   "source": [
    "square = functools.partial(pow, base = 5)\n",
    "square(exp = 10)"
   ]
  },
  {
   "cell_type": "code",
   "execution_count": 20,
   "id": "9fcce81a",
   "metadata": {},
   "outputs": [
    {
     "name": "stdout",
     "output_type": "stream",
     "text": [
      "Help on built-in function open in module io:\n",
      "\n",
      "open(file, mode='r', buffering=-1, encoding=None, errors=None, newline=None, closefd=True, opener=None)\n",
      "    Open file and return a stream.  Raise OSError upon failure.\n",
      "    \n",
      "    file is either a text or byte string giving the name (and the path\n",
      "    if the file isn't in the current working directory) of the file to\n",
      "    be opened or an integer file descriptor of the file to be\n",
      "    wrapped. (If a file descriptor is given, it is closed when the\n",
      "    returned I/O object is closed, unless closefd is set to False.)\n",
      "    \n",
      "    mode is an optional string that specifies the mode in which the file\n",
      "    is opened. It defaults to 'r' which means open for reading in text\n",
      "    mode.  Other common values are 'w' for writing (truncating the file if\n",
      "    it already exists), 'x' for creating and writing to a new file, and\n",
      "    'a' for appending (which on some Unix systems, means that all writes\n",
      "    append to the end of the file regardless of the current seek position).\n",
      "    In text mode, if encoding is not specified the encoding used is platform\n",
      "    dependent: locale.getpreferredencoding(False) is called to get the\n",
      "    current locale encoding. (For reading and writing raw bytes use binary\n",
      "    mode and leave encoding unspecified.) The available modes are:\n",
      "    \n",
      "    ========= ===============================================================\n",
      "    Character Meaning\n",
      "    --------- ---------------------------------------------------------------\n",
      "    'r'       open for reading (default)\n",
      "    'w'       open for writing, truncating the file first\n",
      "    'x'       create a new file and open it for writing\n",
      "    'a'       open for writing, appending to the end of the file if it exists\n",
      "    'b'       binary mode\n",
      "    't'       text mode (default)\n",
      "    '+'       open a disk file for updating (reading and writing)\n",
      "    'U'       universal newline mode (deprecated)\n",
      "    ========= ===============================================================\n",
      "    \n",
      "    The default mode is 'rt' (open for reading text). For binary random\n",
      "    access, the mode 'w+b' opens and truncates the file to 0 bytes, while\n",
      "    'r+b' opens the file without truncation. The 'x' mode implies 'w' and\n",
      "    raises an `FileExistsError` if the file already exists.\n",
      "    \n",
      "    Python distinguishes between files opened in binary and text modes,\n",
      "    even when the underlying operating system doesn't. Files opened in\n",
      "    binary mode (appending 'b' to the mode argument) return contents as\n",
      "    bytes objects without any decoding. In text mode (the default, or when\n",
      "    't' is appended to the mode argument), the contents of the file are\n",
      "    returned as strings, the bytes having been first decoded using a\n",
      "    platform-dependent encoding or using the specified encoding if given.\n",
      "    \n",
      "    'U' mode is deprecated and will raise an exception in future versions\n",
      "    of Python.  It has no effect in Python 3.  Use newline to control\n",
      "    universal newlines mode.\n",
      "    \n",
      "    buffering is an optional integer used to set the buffering policy.\n",
      "    Pass 0 to switch buffering off (only allowed in binary mode), 1 to select\n",
      "    line buffering (only usable in text mode), and an integer > 1 to indicate\n",
      "    the size of a fixed-size chunk buffer.  When no buffering argument is\n",
      "    given, the default buffering policy works as follows:\n",
      "    \n",
      "    * Binary files are buffered in fixed-size chunks; the size of the buffer\n",
      "      is chosen using a heuristic trying to determine the underlying device's\n",
      "      \"block size\" and falling back on `io.DEFAULT_BUFFER_SIZE`.\n",
      "      On many systems, the buffer will typically be 4096 or 8192 bytes long.\n",
      "    \n",
      "    * \"Interactive\" text files (files for which isatty() returns True)\n",
      "      use line buffering.  Other text files use the policy described above\n",
      "      for binary files.\n",
      "    \n",
      "    encoding is the name of the encoding used to decode or encode the\n",
      "    file. This should only be used in text mode. The default encoding is\n",
      "    platform dependent, but any encoding supported by Python can be\n",
      "    passed.  See the codecs module for the list of supported encodings.\n",
      "    \n",
      "    errors is an optional string that specifies how encoding errors are to\n",
      "    be handled---this argument should not be used in binary mode. Pass\n",
      "    'strict' to raise a ValueError exception if there is an encoding error\n",
      "    (the default of None has the same effect), or pass 'ignore' to ignore\n",
      "    errors. (Note that ignoring encoding errors can lead to data loss.)\n",
      "    See the documentation for codecs.register or run 'help(codecs.Codec)'\n",
      "    for a list of the permitted encoding error strings.\n",
      "    \n",
      "    newline controls how universal newlines works (it only applies to text\n",
      "    mode). It can be None, '', '\\n', '\\r', and '\\r\\n'.  It works as\n",
      "    follows:\n",
      "    \n",
      "    * On input, if newline is None, universal newlines mode is\n",
      "      enabled. Lines in the input can end in '\\n', '\\r', or '\\r\\n', and\n",
      "      these are translated into '\\n' before being returned to the\n",
      "      caller. If it is '', universal newline mode is enabled, but line\n",
      "      endings are returned to the caller untranslated. If it has any of\n",
      "      the other legal values, input lines are only terminated by the given\n",
      "      string, and the line ending is returned to the caller untranslated.\n",
      "    \n",
      "    * On output, if newline is None, any '\\n' characters written are\n",
      "      translated to the system default line separator, os.linesep. If\n",
      "      newline is '' or '\\n', no translation takes place. If newline is any\n",
      "      of the other legal values, any '\\n' characters written are translated\n",
      "      to the given string.\n",
      "    \n",
      "    If closefd is False, the underlying file descriptor will be kept open\n",
      "    when the file is closed. This does not work when a file name is given\n",
      "    and must be True in that case.\n",
      "    \n",
      "    A custom opener can be used by passing a callable as *opener*. The\n",
      "    underlying file descriptor for the file object is then obtained by\n",
      "    calling *opener* with (*file*, *flags*). *opener* must return an open\n",
      "    file descriptor (passing os.open as *opener* results in functionality\n",
      "    similar to passing None).\n",
      "    \n",
      "    open() returns a file object whose type depends on the mode, and\n",
      "    through which the standard file operations such as reading and writing\n",
      "    are performed. When open() is used to open a file in a text mode ('w',\n",
      "    'r', 'wt', 'rt', etc.), it returns a TextIOWrapper. When used to open\n",
      "    a file in a binary mode, the returned class varies: in read binary\n",
      "    mode, it returns a BufferedReader; in write binary and append binary\n",
      "    modes, it returns a BufferedWriter, and in read/write mode, it returns\n",
      "    a BufferedRandom.\n",
      "    \n",
      "    It is also possible to use a string or bytearray as a file for both\n",
      "    reading and writing. For strings StringIO can be used like a file\n",
      "    opened in a text mode, and for bytes a BytesIO can be used like a file\n",
      "    opened in a binary mode.\n",
      "\n"
     ]
    }
   ],
   "source": [
    "help(open)"
   ]
  },
  {
   "cell_type": "code",
   "execution_count": 24,
   "id": "de9ac45d",
   "metadata": {},
   "outputs": [
    {
     "data": {
      "text/plain": [
       "{'__name__': '__main__',\n",
       " '__doc__': 'Automatically created module for IPython interactive environment',\n",
       " '__package__': None,\n",
       " '__loader__': None,\n",
       " '__spec__': None,\n",
       " '__builtin__': <module 'builtins' (built-in)>,\n",
       " '__builtins__': <module 'builtins' (built-in)>,\n",
       " '_ih': ['',\n",
       "  '# What version of Python do you have?\\nimport sys\\n\\nimport tensorflow.keras\\nimport pandas as pd\\nimport sklearn as sk\\nimport tensorflow as tf\\n\\nprint(f\"Tensor Flow Version: {tf.__version__}\")\\nprint(f\"Keras Version: {tensorflow.keras.__version__}\")\\nprint()\\nprint(f\"Python {sys.version}\")\\nprint(f\"Pandas {pd.__version__}\")\\nprint(f\"Scikit-Learn {sk.__version__}\")\\ngpu = len(tf.config.list_physical_devices(\\'GPU\\'))>0\\nprint(\"GPU is\", \"available\" if gpu else \"NOT AVAILABLE\")',\n",
       "  'from platform import python_version\\nprint(python_version())',\n",
       "  '#Error, TBD, maybe because the edition is older\\ndef times(s:list[int], n:int = 3) -> list:\\n    return s*n',\n",
       "  '#Error, TBD\\ndef times(s:dict[str, int], n:int) -> list:\\n    return list(s.keys()) * n',\n",
       "  '#Error, TBD, maybe because the edition is older\\n#Fixed, updated to 3.9.12\\ndef times(s:list[int], n:int = 3) -> list:\\n    return s*n\\ntimes([1,2,3], 4)',\n",
       "  \"#Iteration function 'reduce'\\nimport functools\\nfunctools.reduce(lambda x,y: x*y, range(1, 11))\",\n",
       "  \"#Iteration function 'reduce'\\nimport functools\\na = functools.reduce(lambda x,y: x*y, range(1, 11))\\nprint(a)\\nb = functools.reduce(sum, [1,3,5])\",\n",
       "  \"#Iteration function 'reduce'\\nimport functools\\na = functools.reduce(lambda x,y: x*y, range(1, 11))\\nprint(a)\\n#b = functools.reduce(sum, [1,3,5])\\nsum(1,3)\",\n",
       "  \"#Iteration function 'reduce'\\nimport functools\\na = functools.reduce(lambda x,y: x*y, range(1, 11))\\nprint(a)\\n#b = functools.reduce(sum, [1,3,5])\",\n",
       "  'help(sum)',\n",
       "  \"#Iteration function 'reduce'\\nimport functools\\na = functools.reduce(lambda x,y: x*y, range(1, 11))\\nprint(a)\\n#b = functools.reduce(sum, [1,3,5])\\nsum(range(1,11))\",\n",
       "  \"#Iteration function 'reduce'\\nimport functools\\na = functools.reduce(lambda x,y: x*y, range(1, 11))\\nprint(a)\\nb = functools.reduce(lambda x,y: x+y, [1,3,5])\\nprint(b)\",\n",
       "  'f',\n",
       "  'help(pow)',\n",
       "  'help(pow)',\n",
       "  'square = functools.partial(pow, exp = 5)\\nsquare(10)',\n",
       "  'square = functools.partial(pow, base = 5)\\nsquare(10)',\n",
       "  'square = functools.partial(pow, base = 5)\\nsquare(10)',\n",
       "  'square = functools.partial(pow, base = 5)\\nsquare(exp = 10)',\n",
       "  'help(open)',\n",
       "  'help(for)',\n",
       "  'help(for in)',\n",
       "  'help(while)',\n",
       "  'globals()'],\n",
       " '_oh': {5: [1, 2, 3, 1, 2, 3, 1, 2, 3, 1, 2, 3],\n",
       "  6: 3628800,\n",
       "  11: 55,\n",
       "  16: 100000,\n",
       "  19: 9765625},\n",
       " '_dh': [PosixPath('/Users/a123456')],\n",
       " 'In': ['',\n",
       "  '# What version of Python do you have?\\nimport sys\\n\\nimport tensorflow.keras\\nimport pandas as pd\\nimport sklearn as sk\\nimport tensorflow as tf\\n\\nprint(f\"Tensor Flow Version: {tf.__version__}\")\\nprint(f\"Keras Version: {tensorflow.keras.__version__}\")\\nprint()\\nprint(f\"Python {sys.version}\")\\nprint(f\"Pandas {pd.__version__}\")\\nprint(f\"Scikit-Learn {sk.__version__}\")\\ngpu = len(tf.config.list_physical_devices(\\'GPU\\'))>0\\nprint(\"GPU is\", \"available\" if gpu else \"NOT AVAILABLE\")',\n",
       "  'from platform import python_version\\nprint(python_version())',\n",
       "  '#Error, TBD, maybe because the edition is older\\ndef times(s:list[int], n:int = 3) -> list:\\n    return s*n',\n",
       "  '#Error, TBD\\ndef times(s:dict[str, int], n:int) -> list:\\n    return list(s.keys()) * n',\n",
       "  '#Error, TBD, maybe because the edition is older\\n#Fixed, updated to 3.9.12\\ndef times(s:list[int], n:int = 3) -> list:\\n    return s*n\\ntimes([1,2,3], 4)',\n",
       "  \"#Iteration function 'reduce'\\nimport functools\\nfunctools.reduce(lambda x,y: x*y, range(1, 11))\",\n",
       "  \"#Iteration function 'reduce'\\nimport functools\\na = functools.reduce(lambda x,y: x*y, range(1, 11))\\nprint(a)\\nb = functools.reduce(sum, [1,3,5])\",\n",
       "  \"#Iteration function 'reduce'\\nimport functools\\na = functools.reduce(lambda x,y: x*y, range(1, 11))\\nprint(a)\\n#b = functools.reduce(sum, [1,3,5])\\nsum(1,3)\",\n",
       "  \"#Iteration function 'reduce'\\nimport functools\\na = functools.reduce(lambda x,y: x*y, range(1, 11))\\nprint(a)\\n#b = functools.reduce(sum, [1,3,5])\",\n",
       "  'help(sum)',\n",
       "  \"#Iteration function 'reduce'\\nimport functools\\na = functools.reduce(lambda x,y: x*y, range(1, 11))\\nprint(a)\\n#b = functools.reduce(sum, [1,3,5])\\nsum(range(1,11))\",\n",
       "  \"#Iteration function 'reduce'\\nimport functools\\na = functools.reduce(lambda x,y: x*y, range(1, 11))\\nprint(a)\\nb = functools.reduce(lambda x,y: x+y, [1,3,5])\\nprint(b)\",\n",
       "  'f',\n",
       "  'help(pow)',\n",
       "  'help(pow)',\n",
       "  'square = functools.partial(pow, exp = 5)\\nsquare(10)',\n",
       "  'square = functools.partial(pow, base = 5)\\nsquare(10)',\n",
       "  'square = functools.partial(pow, base = 5)\\nsquare(10)',\n",
       "  'square = functools.partial(pow, base = 5)\\nsquare(exp = 10)',\n",
       "  'help(open)',\n",
       "  'help(for)',\n",
       "  'help(for in)',\n",
       "  'help(while)',\n",
       "  'globals()'],\n",
       " 'Out': {5: [1, 2, 3, 1, 2, 3, 1, 2, 3, 1, 2, 3],\n",
       "  6: 3628800,\n",
       "  11: 55,\n",
       "  16: 100000,\n",
       "  19: 9765625},\n",
       " 'get_ipython': <bound method InteractiveShell.get_ipython of <ipykernel.zmqshell.ZMQInteractiveShell object at 0x7fb988353190>>,\n",
       " 'exit': <IPython.core.autocall.ZMQExitAutocall at 0x7fb9684700d0>,\n",
       " 'quit': <IPython.core.autocall.ZMQExitAutocall at 0x7fb9684700d0>,\n",
       " '_': 9765625,\n",
       " '__': 100000,\n",
       " '___': 55,\n",
       " '_i': 'help(while)',\n",
       " '_ii': 'help(for in)',\n",
       " '_iii': 'help(for)',\n",
       " '_i1': '# What version of Python do you have?\\nimport sys\\n\\nimport tensorflow.keras\\nimport pandas as pd\\nimport sklearn as sk\\nimport tensorflow as tf\\n\\nprint(f\"Tensor Flow Version: {tf.__version__}\")\\nprint(f\"Keras Version: {tensorflow.keras.__version__}\")\\nprint()\\nprint(f\"Python {sys.version}\")\\nprint(f\"Pandas {pd.__version__}\")\\nprint(f\"Scikit-Learn {sk.__version__}\")\\ngpu = len(tf.config.list_physical_devices(\\'GPU\\'))>0\\nprint(\"GPU is\", \"available\" if gpu else \"NOT AVAILABLE\")',\n",
       " 'sys': <module 'sys' (built-in)>,\n",
       " 'tensorflow': <module 'tensorflow' from '/Users/a123456/opt/miniconda3/envs/tensorflow/lib/python3.9/site-packages/tensorflow/__init__.py'>,\n",
       " 'pd': <module 'pandas' from '/Users/a123456/opt/miniconda3/envs/tensorflow/lib/python3.9/site-packages/pandas/__init__.py'>,\n",
       " 'sk': <module 'sklearn' from '/Users/a123456/opt/miniconda3/envs/tensorflow/lib/python3.9/site-packages/sklearn/__init__.py'>,\n",
       " 'tf': <module 'tensorflow' from '/Users/a123456/opt/miniconda3/envs/tensorflow/lib/python3.9/site-packages/tensorflow/__init__.py'>,\n",
       " 'gpu': False,\n",
       " '_i2': 'from platform import python_version\\nprint(python_version())',\n",
       " 'python_version': <function platform.python_version()>,\n",
       " '_i3': '#Error, TBD, maybe because the edition is older\\ndef times(s:list[int], n:int = 3) -> list:\\n    return s*n',\n",
       " 'times': <function __main__.times(s: list[int], n: int = 3) -> list>,\n",
       " '_i4': '#Error, TBD\\ndef times(s:dict[str, int], n:int) -> list:\\n    return list(s.keys()) * n',\n",
       " '_i5': '#Error, TBD, maybe because the edition is older\\n#Fixed, updated to 3.9.12\\ndef times(s:list[int], n:int = 3) -> list:\\n    return s*n\\ntimes([1,2,3], 4)',\n",
       " '_5': [1, 2, 3, 1, 2, 3, 1, 2, 3, 1, 2, 3],\n",
       " '_i6': \"#Iteration function 'reduce'\\nimport functools\\nfunctools.reduce(lambda x,y: x*y, range(1, 11))\",\n",
       " 'functools': <module 'functools' from '/Users/a123456/opt/miniconda3/envs/tensorflow/lib/python3.9/functools.py'>,\n",
       " '_6': 3628800,\n",
       " '_i7': \"#Iteration function 'reduce'\\nimport functools\\na = functools.reduce(lambda x,y: x*y, range(1, 11))\\nprint(a)\\nb = functools.reduce(sum, [1,3,5])\",\n",
       " 'a': 3628800,\n",
       " '_i8': \"#Iteration function 'reduce'\\nimport functools\\na = functools.reduce(lambda x,y: x*y, range(1, 11))\\nprint(a)\\n#b = functools.reduce(sum, [1,3,5])\\nsum(1,3)\",\n",
       " '_i9': \"#Iteration function 'reduce'\\nimport functools\\na = functools.reduce(lambda x,y: x*y, range(1, 11))\\nprint(a)\\n#b = functools.reduce(sum, [1,3,5])\",\n",
       " '_i10': 'help(sum)',\n",
       " '_i11': \"#Iteration function 'reduce'\\nimport functools\\na = functools.reduce(lambda x,y: x*y, range(1, 11))\\nprint(a)\\n#b = functools.reduce(sum, [1,3,5])\\nsum(range(1,11))\",\n",
       " '_11': 55,\n",
       " '_i12': \"#Iteration function 'reduce'\\nimport functools\\na = functools.reduce(lambda x,y: x*y, range(1, 11))\\nprint(a)\\nb = functools.reduce(lambda x,y: x+y, [1,3,5])\\nprint(b)\",\n",
       " 'b': 9,\n",
       " '_i13': 'f',\n",
       " '_i14': 'help(pow)',\n",
       " '_i15': 'help(pow)',\n",
       " '_i16': 'square = functools.partial(pow, exp = 5)\\nsquare(10)',\n",
       " 'square': functools.partial(<built-in function pow>, base=5),\n",
       " '_16': 100000,\n",
       " '_i17': 'square = functools.partial(pow, base = 5)\\nsquare(10)',\n",
       " '_i18': 'square = functools.partial(pow, base = 5)\\nsquare(10)',\n",
       " '_i19': 'square = functools.partial(pow, base = 5)\\nsquare(exp = 10)',\n",
       " '_19': 9765625,\n",
       " '_i20': 'help(open)',\n",
       " '_i21': 'help(for)',\n",
       " '_i22': 'help(for in)',\n",
       " '_i23': 'help(while)',\n",
       " '_i24': 'globals()'}"
      ]
     },
     "execution_count": 24,
     "metadata": {},
     "output_type": "execute_result"
    }
   ],
   "source": [
    "globals()"
   ]
  },
  {
   "cell_type": "code",
   "execution_count": 25,
   "id": "5f7365e1",
   "metadata": {},
   "outputs": [
    {
     "data": {
      "text/plain": [
       "['In',\n",
       " 'Out',\n",
       " '_',\n",
       " '_11',\n",
       " '_16',\n",
       " '_19',\n",
       " '_24',\n",
       " '_5',\n",
       " '_6',\n",
       " '__',\n",
       " '___',\n",
       " '__builtin__',\n",
       " '__builtins__',\n",
       " '__doc__',\n",
       " '__loader__',\n",
       " '__name__',\n",
       " '__package__',\n",
       " '__spec__',\n",
       " '_dh',\n",
       " '_i',\n",
       " '_i1',\n",
       " '_i10',\n",
       " '_i11',\n",
       " '_i12',\n",
       " '_i13',\n",
       " '_i14',\n",
       " '_i15',\n",
       " '_i16',\n",
       " '_i17',\n",
       " '_i18',\n",
       " '_i19',\n",
       " '_i2',\n",
       " '_i20',\n",
       " '_i21',\n",
       " '_i22',\n",
       " '_i23',\n",
       " '_i24',\n",
       " '_i25',\n",
       " '_i3',\n",
       " '_i4',\n",
       " '_i5',\n",
       " '_i6',\n",
       " '_i7',\n",
       " '_i8',\n",
       " '_i9',\n",
       " '_ih',\n",
       " '_ii',\n",
       " '_iii',\n",
       " '_oh',\n",
       " 'a',\n",
       " 'b',\n",
       " 'exit',\n",
       " 'functools',\n",
       " 'get_ipython',\n",
       " 'gpu',\n",
       " 'pd',\n",
       " 'python_version',\n",
       " 'quit',\n",
       " 'sk',\n",
       " 'square',\n",
       " 'sys',\n",
       " 'tensorflow',\n",
       " 'tf',\n",
       " 'times']"
      ]
     },
     "execution_count": 25,
     "metadata": {},
     "output_type": "execute_result"
    }
   ],
   "source": [
    "dir()"
   ]
  },
  {
   "cell_type": "code",
   "execution_count": 27,
   "id": "6e771d8b",
   "metadata": {},
   "outputs": [
    {
     "name": "stdout",
     "output_type": "stream",
     "text": [
      "{'In': ['',\n",
      "        '# What version of Python do you have?\\n'\n",
      "        'import sys\\n'\n",
      "        '\\n'\n",
      "        'import tensorflow.keras\\n'\n",
      "        'import pandas as pd\\n'\n",
      "        'import sklearn as sk\\n'\n",
      "        'import tensorflow as tf\\n'\n",
      "        '\\n'\n",
      "        'print(f\"Tensor Flow Version: {tf.__version__}\")\\n'\n",
      "        'print(f\"Keras Version: {tensorflow.keras.__version__}\")\\n'\n",
      "        'print()\\n'\n",
      "        'print(f\"Python {sys.version}\")\\n'\n",
      "        'print(f\"Pandas {pd.__version__}\")\\n'\n",
      "        'print(f\"Scikit-Learn {sk.__version__}\")\\n'\n",
      "        \"gpu = len(tf.config.list_physical_devices('GPU'))>0\\n\"\n",
      "        'print(\"GPU is\", \"available\" if gpu else \"NOT AVAILABLE\")',\n",
      "        'from platform import python_version\\nprint(python_version())',\n",
      "        '#Error, TBD, maybe because the edition is older\\n'\n",
      "        'def times(s:list[int], n:int = 3) -> list:\\n'\n",
      "        '    return s*n',\n",
      "        '#Error, TBD\\n'\n",
      "        'def times(s:dict[str, int], n:int) -> list:\\n'\n",
      "        '    return list(s.keys()) * n',\n",
      "        '#Error, TBD, maybe because the edition is older\\n'\n",
      "        '#Fixed, updated to 3.9.12\\n'\n",
      "        'def times(s:list[int], n:int = 3) -> list:\\n'\n",
      "        '    return s*n\\n'\n",
      "        'times([1,2,3], 4)',\n",
      "        \"#Iteration function 'reduce'\\n\"\n",
      "        'import functools\\n'\n",
      "        'functools.reduce(lambda x,y: x*y, range(1, 11))',\n",
      "        \"#Iteration function 'reduce'\\n\"\n",
      "        'import functools\\n'\n",
      "        'a = functools.reduce(lambda x,y: x*y, range(1, 11))\\n'\n",
      "        'print(a)\\n'\n",
      "        'b = functools.reduce(sum, [1,3,5])',\n",
      "        \"#Iteration function 'reduce'\\n\"\n",
      "        'import functools\\n'\n",
      "        'a = functools.reduce(lambda x,y: x*y, range(1, 11))\\n'\n",
      "        'print(a)\\n'\n",
      "        '#b = functools.reduce(sum, [1,3,5])\\n'\n",
      "        'sum(1,3)',\n",
      "        \"#Iteration function 'reduce'\\n\"\n",
      "        'import functools\\n'\n",
      "        'a = functools.reduce(lambda x,y: x*y, range(1, 11))\\n'\n",
      "        'print(a)\\n'\n",
      "        '#b = functools.reduce(sum, [1,3,5])',\n",
      "        'help(sum)',\n",
      "        \"#Iteration function 'reduce'\\n\"\n",
      "        'import functools\\n'\n",
      "        'a = functools.reduce(lambda x,y: x*y, range(1, 11))\\n'\n",
      "        'print(a)\\n'\n",
      "        '#b = functools.reduce(sum, [1,3,5])\\n'\n",
      "        'sum(range(1,11))',\n",
      "        \"#Iteration function 'reduce'\\n\"\n",
      "        'import functools\\n'\n",
      "        'a = functools.reduce(lambda x,y: x*y, range(1, 11))\\n'\n",
      "        'print(a)\\n'\n",
      "        'b = functools.reduce(lambda x,y: x+y, [1,3,5])\\n'\n",
      "        'print(b)',\n",
      "        'f',\n",
      "        'help(pow)',\n",
      "        'help(pow)',\n",
      "        'square = functools.partial(pow, exp = 5)\\nsquare(10)',\n",
      "        'square = functools.partial(pow, base = 5)\\nsquare(10)',\n",
      "        'square = functools.partial(pow, base = 5)\\nsquare(10)',\n",
      "        'square = functools.partial(pow, base = 5)\\nsquare(exp = 10)',\n",
      "        'help(open)',\n",
      "        'help(for)',\n",
      "        'help(for in)',\n",
      "        'help(while)',\n",
      "        'globals()',\n",
      "        'dir()',\n",
      "        'locals()',\n",
      "        'import pprint\\npprint.pprint(locals())'],\n",
      " 'Out': {5: [1, 2, 3, 1, 2, 3, 1, 2, 3, 1, 2, 3],\n",
      "         6: 3628800,\n",
      "         11: 55,\n",
      "         16: 100000,\n",
      "         19: 9765625,\n",
      "         24: <Recursion on dict with id=140434830910016>,\n",
      "         25: ['In',\n",
      "              'Out',\n",
      "              '_',\n",
      "              '_11',\n",
      "              '_16',\n",
      "              '_19',\n",
      "              '_24',\n",
      "              '_5',\n",
      "              '_6',\n",
      "              '__',\n",
      "              '___',\n",
      "              '__builtin__',\n",
      "              '__builtins__',\n",
      "              '__doc__',\n",
      "              '__loader__',\n",
      "              '__name__',\n",
      "              '__package__',\n",
      "              '__spec__',\n",
      "              '_dh',\n",
      "              '_i',\n",
      "              '_i1',\n",
      "              '_i10',\n",
      "              '_i11',\n",
      "              '_i12',\n",
      "              '_i13',\n",
      "              '_i14',\n",
      "              '_i15',\n",
      "              '_i16',\n",
      "              '_i17',\n",
      "              '_i18',\n",
      "              '_i19',\n",
      "              '_i2',\n",
      "              '_i20',\n",
      "              '_i21',\n",
      "              '_i22',\n",
      "              '_i23',\n",
      "              '_i24',\n",
      "              '_i25',\n",
      "              '_i3',\n",
      "              '_i4',\n",
      "              '_i5',\n",
      "              '_i6',\n",
      "              '_i7',\n",
      "              '_i8',\n",
      "              '_i9',\n",
      "              '_ih',\n",
      "              '_ii',\n",
      "              '_iii',\n",
      "              '_oh',\n",
      "              'a',\n",
      "              'b',\n",
      "              'exit',\n",
      "              'functools',\n",
      "              'get_ipython',\n",
      "              'gpu',\n",
      "              'pd',\n",
      "              'python_version',\n",
      "              'quit',\n",
      "              'sk',\n",
      "              'square',\n",
      "              'sys',\n",
      "              'tensorflow',\n",
      "              'tf',\n",
      "              'times'],\n",
      "         26: <Recursion on dict with id=140434830910016>},\n",
      " '_': <Recursion on dict with id=140434830910016>,\n",
      " '_11': 55,\n",
      " '_16': 100000,\n",
      " '_19': 9765625,\n",
      " '_24': <Recursion on dict with id=140434830910016>,\n",
      " '_25': ['In',\n",
      "         'Out',\n",
      "         '_',\n",
      "         '_11',\n",
      "         '_16',\n",
      "         '_19',\n",
      "         '_24',\n",
      "         '_5',\n",
      "         '_6',\n",
      "         '__',\n",
      "         '___',\n",
      "         '__builtin__',\n",
      "         '__builtins__',\n",
      "         '__doc__',\n",
      "         '__loader__',\n",
      "         '__name__',\n",
      "         '__package__',\n",
      "         '__spec__',\n",
      "         '_dh',\n",
      "         '_i',\n",
      "         '_i1',\n",
      "         '_i10',\n",
      "         '_i11',\n",
      "         '_i12',\n",
      "         '_i13',\n",
      "         '_i14',\n",
      "         '_i15',\n",
      "         '_i16',\n",
      "         '_i17',\n",
      "         '_i18',\n",
      "         '_i19',\n",
      "         '_i2',\n",
      "         '_i20',\n",
      "         '_i21',\n",
      "         '_i22',\n",
      "         '_i23',\n",
      "         '_i24',\n",
      "         '_i25',\n",
      "         '_i3',\n",
      "         '_i4',\n",
      "         '_i5',\n",
      "         '_i6',\n",
      "         '_i7',\n",
      "         '_i8',\n",
      "         '_i9',\n",
      "         '_ih',\n",
      "         '_ii',\n",
      "         '_iii',\n",
      "         '_oh',\n",
      "         'a',\n",
      "         'b',\n",
      "         'exit',\n",
      "         'functools',\n",
      "         'get_ipython',\n",
      "         'gpu',\n",
      "         'pd',\n",
      "         'python_version',\n",
      "         'quit',\n",
      "         'sk',\n",
      "         'square',\n",
      "         'sys',\n",
      "         'tensorflow',\n",
      "         'tf',\n",
      "         'times'],\n",
      " '_26': <Recursion on dict with id=140434830910016>,\n",
      " '_5': [1, 2, 3, 1, 2, 3, 1, 2, 3, 1, 2, 3],\n",
      " '_6': 3628800,\n",
      " '__': ['In',\n",
      "        'Out',\n",
      "        '_',\n",
      "        '_11',\n",
      "        '_16',\n",
      "        '_19',\n",
      "        '_24',\n",
      "        '_5',\n",
      "        '_6',\n",
      "        '__',\n",
      "        '___',\n",
      "        '__builtin__',\n",
      "        '__builtins__',\n",
      "        '__doc__',\n",
      "        '__loader__',\n",
      "        '__name__',\n",
      "        '__package__',\n",
      "        '__spec__',\n",
      "        '_dh',\n",
      "        '_i',\n",
      "        '_i1',\n",
      "        '_i10',\n",
      "        '_i11',\n",
      "        '_i12',\n",
      "        '_i13',\n",
      "        '_i14',\n",
      "        '_i15',\n",
      "        '_i16',\n",
      "        '_i17',\n",
      "        '_i18',\n",
      "        '_i19',\n",
      "        '_i2',\n",
      "        '_i20',\n",
      "        '_i21',\n",
      "        '_i22',\n",
      "        '_i23',\n",
      "        '_i24',\n",
      "        '_i25',\n",
      "        '_i3',\n",
      "        '_i4',\n",
      "        '_i5',\n",
      "        '_i6',\n",
      "        '_i7',\n",
      "        '_i8',\n",
      "        '_i9',\n",
      "        '_ih',\n",
      "        '_ii',\n",
      "        '_iii',\n",
      "        '_oh',\n",
      "        'a',\n",
      "        'b',\n",
      "        'exit',\n",
      "        'functools',\n",
      "        'get_ipython',\n",
      "        'gpu',\n",
      "        'pd',\n",
      "        'python_version',\n",
      "        'quit',\n",
      "        'sk',\n",
      "        'square',\n",
      "        'sys',\n",
      "        'tensorflow',\n",
      "        'tf',\n",
      "        'times'],\n",
      " '___': <Recursion on dict with id=140434830910016>,\n",
      " '__builtin__': <module 'builtins' (built-in)>,\n",
      " '__builtins__': <module 'builtins' (built-in)>,\n",
      " '__doc__': 'Automatically created module for IPython interactive environment',\n",
      " '__loader__': None,\n",
      " '__name__': '__main__',\n",
      " '__package__': None,\n",
      " '__spec__': None,\n",
      " '_dh': [PosixPath('/Users/a123456')],\n",
      " '_i': 'locals()',\n",
      " '_i1': '# What version of Python do you have?\\n'\n",
      "        'import sys\\n'\n",
      "        '\\n'\n",
      "        'import tensorflow.keras\\n'\n",
      "        'import pandas as pd\\n'\n",
      "        'import sklearn as sk\\n'\n",
      "        'import tensorflow as tf\\n'\n",
      "        '\\n'\n",
      "        'print(f\"Tensor Flow Version: {tf.__version__}\")\\n'\n",
      "        'print(f\"Keras Version: {tensorflow.keras.__version__}\")\\n'\n",
      "        'print()\\n'\n",
      "        'print(f\"Python {sys.version}\")\\n'\n",
      "        'print(f\"Pandas {pd.__version__}\")\\n'\n",
      "        'print(f\"Scikit-Learn {sk.__version__}\")\\n'\n",
      "        \"gpu = len(tf.config.list_physical_devices('GPU'))>0\\n\"\n",
      "        'print(\"GPU is\", \"available\" if gpu else \"NOT AVAILABLE\")',\n",
      " '_i10': 'help(sum)',\n",
      " '_i11': \"#Iteration function 'reduce'\\n\"\n",
      "         'import functools\\n'\n",
      "         'a = functools.reduce(lambda x,y: x*y, range(1, 11))\\n'\n",
      "         'print(a)\\n'\n",
      "         '#b = functools.reduce(sum, [1,3,5])\\n'\n",
      "         'sum(range(1,11))',\n",
      " '_i12': \"#Iteration function 'reduce'\\n\"\n",
      "         'import functools\\n'\n",
      "         'a = functools.reduce(lambda x,y: x*y, range(1, 11))\\n'\n",
      "         'print(a)\\n'\n",
      "         'b = functools.reduce(lambda x,y: x+y, [1,3,5])\\n'\n",
      "         'print(b)',\n",
      " '_i13': 'f',\n",
      " '_i14': 'help(pow)',\n",
      " '_i15': 'help(pow)',\n",
      " '_i16': 'square = functools.partial(pow, exp = 5)\\nsquare(10)',\n",
      " '_i17': 'square = functools.partial(pow, base = 5)\\nsquare(10)',\n",
      " '_i18': 'square = functools.partial(pow, base = 5)\\nsquare(10)',\n",
      " '_i19': 'square = functools.partial(pow, base = 5)\\nsquare(exp = 10)',\n",
      " '_i2': 'from platform import python_version\\nprint(python_version())',\n",
      " '_i20': 'help(open)',\n",
      " '_i21': 'help(for)',\n",
      " '_i22': 'help(for in)',\n",
      " '_i23': 'help(while)',\n",
      " '_i24': 'globals()',\n",
      " '_i25': 'dir()',\n",
      " '_i26': 'locals()',\n",
      " '_i27': 'import pprint\\npprint.pprint(locals())',\n",
      " '_i3': '#Error, TBD, maybe because the edition is older\\n'\n",
      "        'def times(s:list[int], n:int = 3) -> list:\\n'\n",
      "        '    return s*n',\n",
      " '_i4': '#Error, TBD\\n'\n",
      "        'def times(s:dict[str, int], n:int) -> list:\\n'\n",
      "        '    return list(s.keys()) * n',\n",
      " '_i5': '#Error, TBD, maybe because the edition is older\\n'\n",
      "        '#Fixed, updated to 3.9.12\\n'\n",
      "        'def times(s:list[int], n:int = 3) -> list:\\n'\n",
      "        '    return s*n\\n'\n",
      "        'times([1,2,3], 4)',\n",
      " '_i6': \"#Iteration function 'reduce'\\n\"\n",
      "        'import functools\\n'\n",
      "        'functools.reduce(lambda x,y: x*y, range(1, 11))',\n",
      " '_i7': \"#Iteration function 'reduce'\\n\"\n",
      "        'import functools\\n'\n",
      "        'a = functools.reduce(lambda x,y: x*y, range(1, 11))\\n'\n",
      "        'print(a)\\n'\n",
      "        'b = functools.reduce(sum, [1,3,5])',\n",
      " '_i8': \"#Iteration function 'reduce'\\n\"\n",
      "        'import functools\\n'\n",
      "        'a = functools.reduce(lambda x,y: x*y, range(1, 11))\\n'\n",
      "        'print(a)\\n'\n",
      "        '#b = functools.reduce(sum, [1,3,5])\\n'\n",
      "        'sum(1,3)',\n",
      " '_i9': \"#Iteration function 'reduce'\\n\"\n",
      "        'import functools\\n'\n",
      "        'a = functools.reduce(lambda x,y: x*y, range(1, 11))\\n'\n",
      "        'print(a)\\n'\n",
      "        '#b = functools.reduce(sum, [1,3,5])',\n",
      " '_ih': ['',\n",
      "         '# What version of Python do you have?\\n'\n",
      "         'import sys\\n'\n",
      "         '\\n'\n",
      "         'import tensorflow.keras\\n'\n",
      "         'import pandas as pd\\n'\n",
      "         'import sklearn as sk\\n'\n",
      "         'import tensorflow as tf\\n'\n",
      "         '\\n'\n",
      "         'print(f\"Tensor Flow Version: {tf.__version__}\")\\n'\n",
      "         'print(f\"Keras Version: {tensorflow.keras.__version__}\")\\n'\n",
      "         'print()\\n'\n",
      "         'print(f\"Python {sys.version}\")\\n'\n",
      "         'print(f\"Pandas {pd.__version__}\")\\n'\n",
      "         'print(f\"Scikit-Learn {sk.__version__}\")\\n'\n",
      "         \"gpu = len(tf.config.list_physical_devices('GPU'))>0\\n\"\n",
      "         'print(\"GPU is\", \"available\" if gpu else \"NOT AVAILABLE\")',\n",
      "         'from platform import python_version\\nprint(python_version())',\n",
      "         '#Error, TBD, maybe because the edition is older\\n'\n",
      "         'def times(s:list[int], n:int = 3) -> list:\\n'\n",
      "         '    return s*n',\n",
      "         '#Error, TBD\\n'\n",
      "         'def times(s:dict[str, int], n:int) -> list:\\n'\n",
      "         '    return list(s.keys()) * n',\n",
      "         '#Error, TBD, maybe because the edition is older\\n'\n",
      "         '#Fixed, updated to 3.9.12\\n'\n",
      "         'def times(s:list[int], n:int = 3) -> list:\\n'\n",
      "         '    return s*n\\n'\n",
      "         'times([1,2,3], 4)',\n",
      "         \"#Iteration function 'reduce'\\n\"\n",
      "         'import functools\\n'\n",
      "         'functools.reduce(lambda x,y: x*y, range(1, 11))',\n",
      "         \"#Iteration function 'reduce'\\n\"\n",
      "         'import functools\\n'\n",
      "         'a = functools.reduce(lambda x,y: x*y, range(1, 11))\\n'\n",
      "         'print(a)\\n'\n",
      "         'b = functools.reduce(sum, [1,3,5])',\n",
      "         \"#Iteration function 'reduce'\\n\"\n",
      "         'import functools\\n'\n",
      "         'a = functools.reduce(lambda x,y: x*y, range(1, 11))\\n'\n",
      "         'print(a)\\n'\n",
      "         '#b = functools.reduce(sum, [1,3,5])\\n'\n",
      "         'sum(1,3)',\n",
      "         \"#Iteration function 'reduce'\\n\"\n",
      "         'import functools\\n'\n",
      "         'a = functools.reduce(lambda x,y: x*y, range(1, 11))\\n'\n",
      "         'print(a)\\n'\n",
      "         '#b = functools.reduce(sum, [1,3,5])',\n",
      "         'help(sum)',\n",
      "         \"#Iteration function 'reduce'\\n\"\n",
      "         'import functools\\n'\n",
      "         'a = functools.reduce(lambda x,y: x*y, range(1, 11))\\n'\n",
      "         'print(a)\\n'\n",
      "         '#b = functools.reduce(sum, [1,3,5])\\n'\n",
      "         'sum(range(1,11))',\n",
      "         \"#Iteration function 'reduce'\\n\"\n",
      "         'import functools\\n'\n",
      "         'a = functools.reduce(lambda x,y: x*y, range(1, 11))\\n'\n",
      "         'print(a)\\n'\n",
      "         'b = functools.reduce(lambda x,y: x+y, [1,3,5])\\n'\n",
      "         'print(b)',\n",
      "         'f',\n",
      "         'help(pow)',\n",
      "         'help(pow)',\n",
      "         'square = functools.partial(pow, exp = 5)\\nsquare(10)',\n",
      "         'square = functools.partial(pow, base = 5)\\nsquare(10)',\n",
      "         'square = functools.partial(pow, base = 5)\\nsquare(10)',\n",
      "         'square = functools.partial(pow, base = 5)\\nsquare(exp = 10)',\n",
      "         'help(open)',\n",
      "         'help(for)',\n",
      "         'help(for in)',\n",
      "         'help(while)',\n",
      "         'globals()',\n",
      "         'dir()',\n",
      "         'locals()',\n",
      "         'import pprint\\npprint.pprint(locals())'],\n",
      " '_ii': 'dir()',\n",
      " '_iii': 'globals()',\n",
      " '_oh': {5: [1, 2, 3, 1, 2, 3, 1, 2, 3, 1, 2, 3],\n",
      "         6: 3628800,\n",
      "         11: 55,\n",
      "         16: 100000,\n",
      "         19: 9765625,\n",
      "         24: <Recursion on dict with id=140434830910016>,\n",
      "         25: ['In',\n",
      "              'Out',\n",
      "              '_',\n",
      "              '_11',\n",
      "              '_16',\n",
      "              '_19',\n",
      "              '_24',\n",
      "              '_5',\n",
      "              '_6',\n",
      "              '__',\n",
      "              '___',\n",
      "              '__builtin__',\n",
      "              '__builtins__',\n",
      "              '__doc__',\n",
      "              '__loader__',\n",
      "              '__name__',\n",
      "              '__package__',\n",
      "              '__spec__',\n",
      "              '_dh',\n",
      "              '_i',\n",
      "              '_i1',\n",
      "              '_i10',\n",
      "              '_i11',\n",
      "              '_i12',\n",
      "              '_i13',\n",
      "              '_i14',\n",
      "              '_i15',\n",
      "              '_i16',\n",
      "              '_i17',\n",
      "              '_i18',\n",
      "              '_i19',\n",
      "              '_i2',\n",
      "              '_i20',\n",
      "              '_i21',\n",
      "              '_i22',\n",
      "              '_i23',\n",
      "              '_i24',\n",
      "              '_i25',\n",
      "              '_i3',\n",
      "              '_i4',\n",
      "              '_i5',\n",
      "              '_i6',\n",
      "              '_i7',\n",
      "              '_i8',\n",
      "              '_i9',\n",
      "              '_ih',\n",
      "              '_ii',\n",
      "              '_iii',\n",
      "              '_oh',\n",
      "              'a',\n",
      "              'b',\n",
      "              'exit',\n",
      "              'functools',\n",
      "              'get_ipython',\n",
      "              'gpu',\n",
      "              'pd',\n",
      "              'python_version',\n",
      "              'quit',\n",
      "              'sk',\n",
      "              'square',\n",
      "              'sys',\n",
      "              'tensorflow',\n",
      "              'tf',\n",
      "              'times'],\n",
      "         26: <Recursion on dict with id=140434830910016>},\n",
      " 'a': 3628800,\n",
      " 'b': 9,\n",
      " 'exit': <IPython.core.autocall.ZMQExitAutocall object at 0x7fb9684700d0>,\n",
      " 'functools': <module 'functools' from '/Users/a123456/opt/miniconda3/envs/tensorflow/lib/python3.9/functools.py'>,\n",
      " 'get_ipython': <bound method InteractiveShell.get_ipython of <ipykernel.zmqshell.ZMQInteractiveShell object at 0x7fb988353190>>,\n",
      " 'gpu': False,\n",
      " 'pd': <module 'pandas' from '/Users/a123456/opt/miniconda3/envs/tensorflow/lib/python3.9/site-packages/pandas/__init__.py'>,\n",
      " 'pprint': <module 'pprint' from '/Users/a123456/opt/miniconda3/envs/tensorflow/lib/python3.9/pprint.py'>,\n",
      " 'python_version': <function python_version at 0x7fb9680474c0>,\n",
      " 'quit': <IPython.core.autocall.ZMQExitAutocall object at 0x7fb9684700d0>,\n",
      " 'sk': <module 'sklearn' from '/Users/a123456/opt/miniconda3/envs/tensorflow/lib/python3.9/site-packages/sklearn/__init__.py'>,\n",
      " 'square': functools.partial(<built-in function pow>, base=5),\n",
      " 'sys': <module 'sys' (built-in)>,\n",
      " 'tensorflow': <module 'tensorflow' from '/Users/a123456/opt/miniconda3/envs/tensorflow/lib/python3.9/site-packages/tensorflow/__init__.py'>,\n",
      " 'tf': <module 'tensorflow' from '/Users/a123456/opt/miniconda3/envs/tensorflow/lib/python3.9/site-packages/tensorflow/__init__.py'>,\n",
      " 'times': <function times at 0x7fb969a39b80>}\n"
     ]
    }
   ],
   "source": [
    "import pprint\n",
    "pprint.pprint(locals())"
   ]
  },
  {
   "cell_type": "code",
   "execution_count": 28,
   "id": "291a7dd4",
   "metadata": {
    "scrolled": true
   },
   "outputs": [
    {
     "name": "stdout",
     "output_type": "stream",
     "text": [
      "a\t b\t functools\t gpu\t pd\t pprint\t python_version\t sk\t square\t \n",
      "sys\t tensorflow\t tf\t times\t \n"
     ]
    }
   ],
   "source": [
    "#List all the defined variables!!!!!!\n",
    "%who"
   ]
  },
  {
   "cell_type": "code",
   "execution_count": 29,
   "id": "48820ca9",
   "metadata": {},
   "outputs": [
    {
     "name": "stdout",
     "output_type": "stream",
     "text": [
      "Error\n"
     ]
    }
   ],
   "source": [
    "#Error operation:\n",
    "try:\n",
    "    1/0\n",
    "except:\n",
    "    print(\"Error\")"
   ]
  },
  {
   "cell_type": "code",
   "execution_count": 31,
   "id": "383b227a",
   "metadata": {},
   "outputs": [
    {
     "name": "stdout",
     "output_type": "stream",
     "text": [
      "Error\n"
     ]
    }
   ],
   "source": [
    "try:\n",
    "    1/0\n",
    "except ZeroDivisionError: #Specify which error type you are looking for\n",
    "    print(\"Error\")\n",
    "    "
   ]
  },
  {
   "cell_type": "code",
   "execution_count": 34,
   "id": "63f6697c",
   "metadata": {},
   "outputs": [
    {
     "name": "stdout",
     "output_type": "stream",
     "text": [
      "Right\n"
     ]
    }
   ],
   "source": [
    "try:\n",
    "    1/1\n",
    "    print(\"Right\")\n",
    "except:\n",
    "    print(\"Error\")"
   ]
  },
  {
   "cell_type": "code",
   "execution_count": 35,
   "id": "b35243b6",
   "metadata": {},
   "outputs": [
    {
     "name": "stdout",
     "output_type": "stream",
     "text": [
      "division by zero\n"
     ]
    }
   ],
   "source": [
    "try:\n",
    "    1/0\n",
    "except ZeroDivisionError as e: #Let e be the description of this specified error.\n",
    "    print(e)"
   ]
  },
  {
   "cell_type": "code",
   "execution_count": 38,
   "id": "b7eefe0c",
   "metadata": {},
   "outputs": [
    {
     "name": "stdout",
     "output_type": "stream",
     "text": [
      "division by zero\n"
     ]
    }
   ],
   "source": [
    "#Multiple error detection:\n",
    "try:\n",
    "    1/0\n",
    "    520 + 'Love'\n",
    "except (ZeroDivisionError, ValueError, TypeError) as g:\n",
    "    print(g)\n",
    "#The return only captured the error in first line b/c when it got stuck in one line, it wouldn't go down."
   ]
  },
  {
   "cell_type": "code",
   "execution_count": 41,
   "id": "ad4453c4",
   "metadata": {},
   "outputs": [
    {
     "name": "stdout",
     "output_type": "stream",
     "text": [
      "unsupported operand type(s) for +: 'int' and 'str'\n"
     ]
    }
   ],
   "source": [
    "try:\n",
    "    520 + 'Love'\n",
    "    1/0\n",
    "except (ZeroDivisionError, ValueError, TypeError) as g:\n",
    "    print(g)"
   ]
  },
  {
   "cell_type": "code",
   "execution_count": 42,
   "id": "6fbe07be",
   "metadata": {},
   "outputs": [
    {
     "name": "stdout",
     "output_type": "stream",
     "text": [
      "unsupported operand type(s) for +: 'int' and 'str'\n"
     ]
    }
   ],
   "source": [
    "try:\n",
    "    520 + 'Love'\n",
    "    1/0\n",
    "except ZeroDivisionError as g:\n",
    "    print(g)\n",
    "except ValueError as g:\n",
    "    print(g)\n",
    "except TypeError as g:\n",
    "    print(g)"
   ]
  },
  {
   "cell_type": "code",
   "execution_count": 40,
   "id": "52350635",
   "metadata": {},
   "outputs": [],
   "source": [
    "#Use 'pass' to ignore the error and omit the warning.\n",
    "try:\n",
    "    1/0\n",
    "except:\n",
    "    pass"
   ]
  },
  {
   "cell_type": "code",
   "execution_count": 43,
   "id": "f69059b7",
   "metadata": {},
   "outputs": [
    {
     "name": "stdout",
     "output_type": "stream",
     "text": [
      "False\n"
     ]
    }
   ],
   "source": [
    "try:\n",
    "    1/0\n",
    "except:\n",
    "    print('False')\n",
    "else:\n",
    "    print('True')"
   ]
  },
  {
   "cell_type": "code",
   "execution_count": 44,
   "id": "be76300f",
   "metadata": {},
   "outputs": [
    {
     "name": "stdout",
     "output_type": "stream",
     "text": [
      "True\n"
     ]
    }
   ],
   "source": [
    "try:\n",
    "    1/1\n",
    "except:\n",
    "    print('False')\n",
    "else:\n",
    "    print('True')"
   ]
  },
  {
   "cell_type": "code",
   "execution_count": 47,
   "id": "7f358a59",
   "metadata": {},
   "outputs": [
    {
     "name": "stdout",
     "output_type": "stream",
     "text": [
      "False\n",
      "Always this code will be run.\n"
     ]
    }
   ],
   "source": [
    "try:\n",
    "    1/0\n",
    "except:\n",
    "    print('False')\n",
    "else:\n",
    "    print('True')\n",
    "finally:\n",
    "    print('Always this code will be run.')"
   ]
  },
  {
   "cell_type": "code",
   "execution_count": 48,
   "id": "ae4def1d",
   "metadata": {},
   "outputs": [
    {
     "name": "stdout",
     "output_type": "stream",
     "text": [
      "1.0\n",
      "wrong\n"
     ]
    }
   ],
   "source": [
    "#Use 'raise' to create a error.\n",
    "try:\n",
    "    a= 1/1\n",
    "    print(a)\n",
    "    raise ValueError('No')\n",
    "except:\n",
    "    print('wrong')"
   ]
  },
  {
   "cell_type": "code",
   "execution_count": 49,
   "id": "c76c824d",
   "metadata": {},
   "outputs": [],
   "source": [
    "#Use 'assert' to quickly test your codes.\n",
    "s = 'love'\n",
    "assert s == 'love'"
   ]
  },
  {
   "cell_type": "code",
   "execution_count": 50,
   "id": "bfbcf537",
   "metadata": {},
   "outputs": [
    {
     "ename": "AssertionError",
     "evalue": "",
     "output_type": "error",
     "traceback": [
      "\u001b[0;31m---------------------------------------------------------------------------\u001b[0m",
      "\u001b[0;31mAssertionError\u001b[0m                            Traceback (most recent call last)",
      "Input \u001b[0;32mIn [50]\u001b[0m, in \u001b[0;36m<cell line: 1>\u001b[0;34m()\u001b[0m\n\u001b[0;32m----> 1\u001b[0m \u001b[38;5;28;01massert\u001b[39;00m s \u001b[38;5;241m!=\u001b[39m \u001b[38;5;124m'\u001b[39m\u001b[38;5;124mlove\u001b[39m\u001b[38;5;124m'\u001b[39m\n",
      "\u001b[0;31mAssertionError\u001b[0m: "
     ]
    }
   ],
   "source": [
    "assert s != 'love'"
   ]
  },
  {
   "cell_type": "code",
   "execution_count": 52,
   "id": "d4694f8b",
   "metadata": {
    "scrolled": true
   },
   "outputs": [
    {
     "name": "stdout",
     "output_type": "stream",
     "text": [
      "0\n",
      "1\n",
      "2\n",
      "3\n",
      "End.\n"
     ]
    }
   ],
   "source": [
    "try:\n",
    "    for i in range(10):\n",
    "        if i > 3:\n",
    "            raise\n",
    "        print(i)\n",
    "except:\n",
    "    print('End.')"
   ]
  },
  {
   "cell_type": "code",
   "execution_count": null,
   "id": "4afd7f21",
   "metadata": {},
   "outputs": [],
   "source": [
    "#Class"
   ]
  },
  {
   "cell_type": "code",
   "execution_count": 54,
   "id": "1666fe17",
   "metadata": {},
   "outputs": [
    {
     "name": "stdout",
     "output_type": "stream",
     "text": [
      "hello\n"
     ]
    }
   ],
   "source": [
    "class C:\n",
    "    def hello(self):#Even here we won't use 'self', we still need to pass self into this function, otherwise it will\n",
    "                    #return an error.\n",
    "        print('hello')\n",
    "c = C()\n",
    "c.hello()"
   ]
  },
  {
   "cell_type": "code",
   "execution_count": 62,
   "id": "ec5ce136",
   "metadata": {},
   "outputs": [
    {
     "name": "stdout",
     "output_type": "stream",
     "text": [
      "2\n",
      "1\n"
     ]
    }
   ],
   "source": [
    "class Turtle:\n",
    "    head = 1\n",
    "    eyes = 2\n",
    "    legs = 4\n",
    "    shell = True\n",
    "    \n",
    "    def crawl(self):\n",
    "        print('1')\n",
    "    def run(self):\n",
    "        print('2')\n",
    "\n",
    "t = Turtle()\n",
    "print(t.eyes)\n",
    "t.crawl()"
   ]
  },
  {
   "cell_type": "code",
   "execution_count": 60,
   "id": "59732bb4",
   "metadata": {
    "scrolled": true
   },
   "outputs": [
    {
     "data": {
      "text/plain": [
       "__main__.Turtle"
      ]
     },
     "execution_count": 60,
     "metadata": {},
     "output_type": "execute_result"
    }
   ],
   "source": [
    "type(t)"
   ]
  },
  {
   "cell_type": "code",
   "execution_count": 65,
   "id": "5d604a51",
   "metadata": {},
   "outputs": [
    {
     "data": {
      "text/plain": [
       "['__class__',\n",
       " '__delattr__',\n",
       " '__dict__',\n",
       " '__dir__',\n",
       " '__doc__',\n",
       " '__eq__',\n",
       " '__format__',\n",
       " '__ge__',\n",
       " '__getattribute__',\n",
       " '__gt__',\n",
       " '__hash__',\n",
       " '__init__',\n",
       " '__init_subclass__',\n",
       " '__le__',\n",
       " '__lt__',\n",
       " '__module__',\n",
       " '__ne__',\n",
       " '__new__',\n",
       " '__reduce__',\n",
       " '__reduce_ex__',\n",
       " '__repr__',\n",
       " '__setattr__',\n",
       " '__sizeof__',\n",
       " '__str__',\n",
       " '__subclasshook__',\n",
       " '__weakref__',\n",
       " 'crawl',\n",
       " 'eyes',\n",
       " 'head',\n",
       " 'legs',\n",
       " 'run',\n",
       " 'shell']"
      ]
     },
     "execution_count": 65,
     "metadata": {},
     "output_type": "execute_result"
    }
   ],
   "source": [
    "dir(t)"
   ]
  },
  {
   "cell_type": "code",
   "execution_count": 68,
   "id": "21455d21",
   "metadata": {},
   "outputs": [
    {
     "data": {
      "text/plain": [
       "['__class__',\n",
       " '__delattr__',\n",
       " '__dict__',\n",
       " '__dir__',\n",
       " '__doc__',\n",
       " '__eq__',\n",
       " '__format__',\n",
       " '__ge__',\n",
       " '__getattribute__',\n",
       " '__gt__',\n",
       " '__hash__',\n",
       " '__init__',\n",
       " '__init_subclass__',\n",
       " '__le__',\n",
       " '__lt__',\n",
       " '__module__',\n",
       " '__ne__',\n",
       " '__new__',\n",
       " '__reduce__',\n",
       " '__reduce_ex__',\n",
       " '__repr__',\n",
       " '__setattr__',\n",
       " '__sizeof__',\n",
       " '__str__',\n",
       " '__subclasshook__',\n",
       " '__weakref__',\n",
       " 'crawl',\n",
       " 'eyes',\n",
       " 'head',\n",
       " 'legs',\n",
       " 'run',\n",
       " 'shell',\n",
       " 'tail']"
      ]
     },
     "execution_count": 68,
     "metadata": {},
     "output_type": "execute_result"
    }
   ],
   "source": [
    "t.tail = 1\n",
    "dir(t)"
   ]
  },
  {
   "cell_type": "code",
   "execution_count": 69,
   "id": "9be6e627",
   "metadata": {},
   "outputs": [
    {
     "data": {
      "text/plain": [
       "{'tail': 1}"
      ]
     },
     "execution_count": 69,
     "metadata": {},
     "output_type": "execute_result"
    }
   ],
   "source": [
    "#Use '__dict__' to check the created properties of this var\n",
    "t.__dict__"
   ]
  },
  {
   "cell_type": "code",
   "execution_count": 59,
   "id": "2f9190ad",
   "metadata": {},
   "outputs": [
    {
     "name": "stdout",
     "output_type": "stream",
     "text": [
      "520\n",
      "A\n"
     ]
    }
   ],
   "source": [
    "class A:\n",
    "    x = 520\n",
    "    def hello(self):\n",
    "        print('A')\n",
    "class B:\n",
    "    x = 880\n",
    "    def hello(self):\n",
    "        print('B')\n",
    "class C(A,B):\n",
    "    pass\n",
    "\n",
    "c = C()\n",
    "print(c.x)\n",
    "c.hello()\n",
    "#From the result we can see that the inheritance is from left to right, so the order is essential."
   ]
  },
  {
   "cell_type": "code",
   "execution_count": 70,
   "id": "a47b0493",
   "metadata": {},
   "outputs": [
    {
     "name": "stdout",
     "output_type": "stream",
     "text": [
      "Black\n",
      "Green\n"
     ]
    }
   ],
   "source": [
    "#Add a 'set' function to the class\n",
    "class flag:\n",
    "    color = 'Black'\n",
    "    def SetColor(self, col):\n",
    "        self.color = col\n",
    "        \n",
    "f = flag()\n",
    "print(f.color)\n",
    "f.SetColor('Green')\n",
    "print(f.color)"
   ]
  },
  {
   "cell_type": "code",
   "execution_count": 1,
   "id": "fab8a0b6",
   "metadata": {},
   "outputs": [
    {
     "data": {
      "text/plain": [
       "5"
      ]
     },
     "execution_count": 1,
     "metadata": {},
     "output_type": "execute_result"
    }
   ],
   "source": [
    "#Create a customizable class\n",
    "class C:\n",
    "    def __init__(self, x, y): #'__init__' is used to customize this class\n",
    "        self.x = x\n",
    "        self.y = y\n",
    "    def add(self):\n",
    "        return self.x + self.y\n",
    "    def mul(self):\n",
    "        return self.x * self.y\n",
    "c = C(2, 3)\n",
    "c.add()"
   ]
  },
  {
   "cell_type": "code",
   "execution_count": 2,
   "id": "6d78d5b4",
   "metadata": {},
   "outputs": [
    {
     "data": {
      "text/plain": [
       "6"
      ]
     },
     "execution_count": 2,
     "metadata": {},
     "output_type": "execute_result"
    }
   ],
   "source": [
    "c.mul()"
   ]
  },
  {
   "cell_type": "code",
   "execution_count": 3,
   "id": "4d389846",
   "metadata": {},
   "outputs": [
    {
     "data": {
      "text/plain": [
       "{'x': 2, 'y': 3}"
      ]
     },
     "execution_count": 3,
     "metadata": {},
     "output_type": "execute_result"
    }
   ],
   "source": [
    "c.__dict__#View this class"
   ]
  },
  {
   "cell_type": "code",
   "execution_count": 4,
   "id": "e7cbea85",
   "metadata": {},
   "outputs": [],
   "source": [
    "#Rewrite (subclass to parent class)\n",
    "class D(C):\n",
    "    def __init__(self, x, y, z):\n",
    "        C.__init__(self, x, y)\n",
    "        self.z = z\n",
    "    def add(self):\n",
    "        return C.add(self) + self.z\n",
    "    def mul(self):\n",
    "        return C.mul(self) * self.z"
   ]
  },
  {
   "cell_type": "code",
   "execution_count": 4,
   "id": "790b827b",
   "metadata": {},
   "outputs": [
    {
     "data": {
      "text/plain": [
       "3.141592653589793"
      ]
     },
     "execution_count": 4,
     "metadata": {},
     "output_type": "execute_result"
    }
   ],
   "source": [
    "import math\n",
    "math.pi"
   ]
  },
  {
   "cell_type": "code",
   "execution_count": 5,
   "id": "f11d5f6d",
   "metadata": {},
   "outputs": [],
   "source": [
    "#Private/Hidden variables and methods\n",
    "class C:\n",
    "    def __init__(self, x):\n",
    "        self.__x = x\n",
    "    def set_x(self, x):\n",
    "        self.__x = x\n",
    "    def get_x(self):\n",
    "        print(self.__x)\n",
    "    def __func(self):\n",
    "        print('The value is {self.__x}')\n"
   ]
  },
  {
   "cell_type": "code",
   "execution_count": 9,
   "id": "afe9bcd4",
   "metadata": {},
   "outputs": [],
   "source": [
    "#Using '__slots__' to fix the number of vars in a class\n",
    "class C:\n",
    "    __slots__ = ['x', 'y']\n",
    "    def __init__(self, x):\n",
    "        self.x = x\n",
    "#So for class C, we can only manipulate these two vars, cannot add new vars into this class.\n",
    "#And the property of fixed vars only works on this class, not on its subclass\n",
    "class D(C):\n",
    "    pass\n",
    "#class D won't be limited on its vars number."
   ]
  },
  {
   "cell_type": "code",
   "execution_count": null,
   "id": "f4a50a55",
   "metadata": {},
   "outputs": [],
   "source": []
  }
 ],
 "metadata": {
  "kernelspec": {
   "display_name": "Python 3.9.12 (tensorflow)",
   "language": "python",
   "name": "tensorflow"
  },
  "language_info": {
   "codemirror_mode": {
    "name": "ipython",
    "version": 3
   },
   "file_extension": ".py",
   "mimetype": "text/x-python",
   "name": "python",
   "nbconvert_exporter": "python",
   "pygments_lexer": "ipython3",
   "version": "3.9.12"
  }
 },
 "nbformat": 4,
 "nbformat_minor": 5
}
