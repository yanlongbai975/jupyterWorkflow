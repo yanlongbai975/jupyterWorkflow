{
 "cells": [
  {
   "cell_type": "code",
   "execution_count": 1,
   "id": "24049b79",
   "metadata": {},
   "outputs": [
    {
     "name": "stdout",
     "output_type": "stream",
     "text": [
      "[[1 4]\n",
      " [2 5]\n",
      " [3 6]]\n"
     ]
    }
   ],
   "source": [
    "import numpy as np\n",
    "\n",
    "arr1 = np.array([1, 2, 3])\n",
    "\n",
    "arr2 = np.array([4, 5, 6])\n",
    "\n",
    "arr = np.stack((arr1, arr2), axis=1)\n",
    "\n",
    "print(arr)"
   ]
  },
  {
   "cell_type": "code",
   "execution_count": 1,
   "id": "cfb5e361",
   "metadata": {},
   "outputs": [
    {
     "data": {
      "text/plain": [
       "array('ABC', dtype='<U3')"
      ]
     },
     "execution_count": 1,
     "metadata": {},
     "output_type": "execute_result"
    }
   ],
   "source": [
    "import numpy as np\n",
    "s = 'ABC'\n",
    "a = np.array(s)\n",
    "a"
   ]
  },
  {
   "cell_type": "code",
   "execution_count": 5,
   "id": "bbc9c565",
   "metadata": {},
   "outputs": [
    {
     "data": {
      "text/plain": [
       "3"
      ]
     },
     "execution_count": 5,
     "metadata": {},
     "output_type": "execute_result"
    }
   ],
   "source": [
    "len(s)"
   ]
  },
  {
   "cell_type": "code",
   "execution_count": 6,
   "id": "e06baac9",
   "metadata": {},
   "outputs": [
    {
     "data": {
      "text/plain": [
       "'A'"
      ]
     },
     "execution_count": 6,
     "metadata": {},
     "output_type": "execute_result"
    }
   ],
   "source": [
    "s[0]"
   ]
  },
  {
   "cell_type": "code",
   "execution_count": 8,
   "id": "c8a1993b",
   "metadata": {},
   "outputs": [
    {
     "name": "stdout",
     "output_type": "stream",
     "text": [
      "0\n",
      "2\n",
      "1\n",
      "3\n",
      "2\n",
      "5\n",
      "3\n",
      "8\n",
      "4\n",
      "12\n",
      "5\n",
      "17\n",
      "6\n",
      "23\n",
      "7\n",
      "30\n",
      "8\n",
      "38\n",
      "9\n",
      "47\n"
     ]
    }
   ],
   "source": [
    "a = 2\n",
    "for i in range(10):\n",
    "    print(i)\n",
    "    a = a + i\n",
    "    print(a)\n"
   ]
  },
  {
   "cell_type": "code",
   "execution_count": null,
   "id": "993bfef1",
   "metadata": {},
   "outputs": [],
   "source": []
  },
  {
   "cell_type": "code",
   "execution_count": 12,
   "id": "a6787736",
   "metadata": {},
   "outputs": [],
   "source": [
    "def getOrder(s):\n",
    "    if s == 'I':\n",
    "        return 1\n",
    "    elif s == 'V':\n",
    "        return 5\n",
    "    elif s == 'X':\n",
    "        return 10\n",
    "    elif s == 'L':\n",
    "        return 50\n",
    "    elif s == 'C':\n",
    "        return 100\n",
    "    elif s == 'D':\n",
    "        return 500\n",
    "    elif s == 'M':\n",
    "        return 1000\n",
    "    else:\n",
    "        print('Error')"
   ]
  },
  {
   "cell_type": "code",
   "execution_count": 22,
   "id": "fe684032",
   "metadata": {},
   "outputs": [
    {
     "name": "stdout",
     "output_type": "stream",
     "text": [
      "1994\n"
     ]
    }
   ],
   "source": [
    "s = 'MCMXCIV'\n",
    "ind = 0\n",
    "sum = 0\n",
    "for i in range(len(s)):\n",
    "    if ind == 0:\n",
    "        a = s[i]\n",
    "        if i+1 < len(s):\n",
    "            b = s[i+1]\n",
    "        else:\n",
    "            b = 'I'\n",
    "        if getOrder(a) < getOrder(b):\n",
    "            ind = 1\n",
    "            sum = sum + getOrder(b) - getOrder(a)\n",
    "        else:\n",
    "            ind = 0\n",
    "            sum = sum + getOrder(a)\n",
    "    else:\n",
    "        ind = 0\n",
    "print(sum)"
   ]
  },
  {
   "cell_type": "code",
   "execution_count": null,
   "id": "c62702b3",
   "metadata": {},
   "outputs": [],
   "source": []
  },
  {
   "cell_type": "code",
   "execution_count": null,
   "id": "50d95dac",
   "metadata": {},
   "outputs": [],
   "source": []
  },
  {
   "cell_type": "code",
   "execution_count": null,
   "id": "574c914f",
   "metadata": {},
   "outputs": [],
   "source": []
  }
 ],
 "metadata": {
  "kernelspec": {
   "display_name": "Python 3.9.12 (tensorflow)",
   "language": "python",
   "name": "tensorflow"
  },
  "language_info": {
   "codemirror_mode": {
    "name": "ipython",
    "version": 3
   },
   "file_extension": ".py",
   "mimetype": "text/x-python",
   "name": "python",
   "nbconvert_exporter": "python",
   "pygments_lexer": "ipython3",
   "version": "3.9.12"
  }
 },
 "nbformat": 4,
 "nbformat_minor": 5
}
